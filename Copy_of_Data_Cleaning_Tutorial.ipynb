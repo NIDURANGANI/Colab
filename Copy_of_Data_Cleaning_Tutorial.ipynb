{
  "nbformat": 4,
  "nbformat_minor": 0,
  "metadata": {
    "colab": {
      "provenance": [],
      "collapsed_sections": [
        "xOJXe5qml7Cu",
        "ci3axF42nki6",
        "nTvUQMk5oDq3",
        "oPQmAaMLu1fm"
      ]
    },
    "kernelspec": {
      "name": "python3",
      "display_name": "Python 3"
    },
    "language_info": {
      "name": "python"
    }
  },
  "cells": [
    {
      "cell_type": "markdown",
      "source": [
        "# Load Dataset"
      ],
      "metadata": {
        "id": "SpOIY5a0nqiR"
      }
    },
    {
      "cell_type": "markdown",
      "source": [
        "Please follow the steps below to download and use kaggle data within Google Colab:\n",
        "\n",
        "1. Go to your account, Scroll to API section and Click Expire API Token to remove previous tokens\n",
        "\n",
        "2. Click on Create New API Token - It will download kaggle.json file on your machine.\n",
        "\n",
        "3. Go to your Google Colab project file and run the following commands:"
      ],
      "metadata": {
        "id": "HzoWMZe3e5nF"
      }
    },
    {
      "cell_type": "code",
      "execution_count": null,
      "metadata": {
        "id": "c4CNnUtuen_N"
      },
      "outputs": [],
      "source": [
        "!pip install -q kaggle"
      ]
    },
    {
      "cell_type": "markdown",
      "source": [
        "Choose the kaggle.json file that you downloaded"
      ],
      "metadata": {
        "id": "KKaHd0pafUs-"
      }
    },
    {
      "cell_type": "code",
      "source": [
        "from google.colab import files\n",
        "files.upload()"
      ],
      "metadata": {
        "colab": {
          "base_uri": "https://localhost:8080/",
          "height": 56
        },
        "id": "zz-PT5zxfPtw",
        "outputId": "371cead4-89ca-4dde-f5c2-5bd5c05351e8"
      },
      "execution_count": null,
      "outputs": [
        {
          "output_type": "display_data",
          "data": {
            "text/plain": [
              "<IPython.core.display.HTML object>"
            ],
            "text/html": [
              "\n",
              "     <input type=\"file\" id=\"files-de0c673c-db28-42dc-be36-f3088fd94e2e\" name=\"files[]\" multiple disabled\n",
              "        style=\"border:none\" />\n",
              "     <output id=\"result-de0c673c-db28-42dc-be36-f3088fd94e2e\">\n",
              "      Upload widget is only available when the cell has been executed in the\n",
              "      current browser session. Please rerun this cell to enable.\n",
              "      </output>\n",
              "      <script>// Copyright 2017 Google LLC\n",
              "//\n",
              "// Licensed under the Apache License, Version 2.0 (the \"License\");\n",
              "// you may not use this file except in compliance with the License.\n",
              "// You may obtain a copy of the License at\n",
              "//\n",
              "//      http://www.apache.org/licenses/LICENSE-2.0\n",
              "//\n",
              "// Unless required by applicable law or agreed to in writing, software\n",
              "// distributed under the License is distributed on an \"AS IS\" BASIS,\n",
              "// WITHOUT WARRANTIES OR CONDITIONS OF ANY KIND, either express or implied.\n",
              "// See the License for the specific language governing permissions and\n",
              "// limitations under the License.\n",
              "\n",
              "/**\n",
              " * @fileoverview Helpers for google.colab Python module.\n",
              " */\n",
              "(function(scope) {\n",
              "function span(text, styleAttributes = {}) {\n",
              "  const element = document.createElement('span');\n",
              "  element.textContent = text;\n",
              "  for (const key of Object.keys(styleAttributes)) {\n",
              "    element.style[key] = styleAttributes[key];\n",
              "  }\n",
              "  return element;\n",
              "}\n",
              "\n",
              "// Max number of bytes which will be uploaded at a time.\n",
              "const MAX_PAYLOAD_SIZE = 100 * 1024;\n",
              "\n",
              "function _uploadFiles(inputId, outputId) {\n",
              "  const steps = uploadFilesStep(inputId, outputId);\n",
              "  const outputElement = document.getElementById(outputId);\n",
              "  // Cache steps on the outputElement to make it available for the next call\n",
              "  // to uploadFilesContinue from Python.\n",
              "  outputElement.steps = steps;\n",
              "\n",
              "  return _uploadFilesContinue(outputId);\n",
              "}\n",
              "\n",
              "// This is roughly an async generator (not supported in the browser yet),\n",
              "// where there are multiple asynchronous steps and the Python side is going\n",
              "// to poll for completion of each step.\n",
              "// This uses a Promise to block the python side on completion of each step,\n",
              "// then passes the result of the previous step as the input to the next step.\n",
              "function _uploadFilesContinue(outputId) {\n",
              "  const outputElement = document.getElementById(outputId);\n",
              "  const steps = outputElement.steps;\n",
              "\n",
              "  const next = steps.next(outputElement.lastPromiseValue);\n",
              "  return Promise.resolve(next.value.promise).then((value) => {\n",
              "    // Cache the last promise value to make it available to the next\n",
              "    // step of the generator.\n",
              "    outputElement.lastPromiseValue = value;\n",
              "    return next.value.response;\n",
              "  });\n",
              "}\n",
              "\n",
              "/**\n",
              " * Generator function which is called between each async step of the upload\n",
              " * process.\n",
              " * @param {string} inputId Element ID of the input file picker element.\n",
              " * @param {string} outputId Element ID of the output display.\n",
              " * @return {!Iterable<!Object>} Iterable of next steps.\n",
              " */\n",
              "function* uploadFilesStep(inputId, outputId) {\n",
              "  const inputElement = document.getElementById(inputId);\n",
              "  inputElement.disabled = false;\n",
              "\n",
              "  const outputElement = document.getElementById(outputId);\n",
              "  outputElement.innerHTML = '';\n",
              "\n",
              "  const pickedPromise = new Promise((resolve) => {\n",
              "    inputElement.addEventListener('change', (e) => {\n",
              "      resolve(e.target.files);\n",
              "    });\n",
              "  });\n",
              "\n",
              "  const cancel = document.createElement('button');\n",
              "  inputElement.parentElement.appendChild(cancel);\n",
              "  cancel.textContent = 'Cancel upload';\n",
              "  const cancelPromise = new Promise((resolve) => {\n",
              "    cancel.onclick = () => {\n",
              "      resolve(null);\n",
              "    };\n",
              "  });\n",
              "\n",
              "  // Wait for the user to pick the files.\n",
              "  const files = yield {\n",
              "    promise: Promise.race([pickedPromise, cancelPromise]),\n",
              "    response: {\n",
              "      action: 'starting',\n",
              "    }\n",
              "  };\n",
              "\n",
              "  cancel.remove();\n",
              "\n",
              "  // Disable the input element since further picks are not allowed.\n",
              "  inputElement.disabled = true;\n",
              "\n",
              "  if (!files) {\n",
              "    return {\n",
              "      response: {\n",
              "        action: 'complete',\n",
              "      }\n",
              "    };\n",
              "  }\n",
              "\n",
              "  for (const file of files) {\n",
              "    const li = document.createElement('li');\n",
              "    li.append(span(file.name, {fontWeight: 'bold'}));\n",
              "    li.append(span(\n",
              "        `(${file.type || 'n/a'}) - ${file.size} bytes, ` +\n",
              "        `last modified: ${\n",
              "            file.lastModifiedDate ? file.lastModifiedDate.toLocaleDateString() :\n",
              "                                    'n/a'} - `));\n",
              "    const percent = span('0% done');\n",
              "    li.appendChild(percent);\n",
              "\n",
              "    outputElement.appendChild(li);\n",
              "\n",
              "    const fileDataPromise = new Promise((resolve) => {\n",
              "      const reader = new FileReader();\n",
              "      reader.onload = (e) => {\n",
              "        resolve(e.target.result);\n",
              "      };\n",
              "      reader.readAsArrayBuffer(file);\n",
              "    });\n",
              "    // Wait for the data to be ready.\n",
              "    let fileData = yield {\n",
              "      promise: fileDataPromise,\n",
              "      response: {\n",
              "        action: 'continue',\n",
              "      }\n",
              "    };\n",
              "\n",
              "    // Use a chunked sending to avoid message size limits. See b/62115660.\n",
              "    let position = 0;\n",
              "    do {\n",
              "      const length = Math.min(fileData.byteLength - position, MAX_PAYLOAD_SIZE);\n",
              "      const chunk = new Uint8Array(fileData, position, length);\n",
              "      position += length;\n",
              "\n",
              "      const base64 = btoa(String.fromCharCode.apply(null, chunk));\n",
              "      yield {\n",
              "        response: {\n",
              "          action: 'append',\n",
              "          file: file.name,\n",
              "          data: base64,\n",
              "        },\n",
              "      };\n",
              "\n",
              "      let percentDone = fileData.byteLength === 0 ?\n",
              "          100 :\n",
              "          Math.round((position / fileData.byteLength) * 100);\n",
              "      percent.textContent = `${percentDone}% done`;\n",
              "\n",
              "    } while (position < fileData.byteLength);\n",
              "  }\n",
              "\n",
              "  // All done.\n",
              "  yield {\n",
              "    response: {\n",
              "      action: 'complete',\n",
              "    }\n",
              "  };\n",
              "}\n",
              "\n",
              "scope.google = scope.google || {};\n",
              "scope.google.colab = scope.google.colab || {};\n",
              "scope.google.colab._files = {\n",
              "  _uploadFiles,\n",
              "  _uploadFilesContinue,\n",
              "};\n",
              "})(self);\n",
              "</script> "
            ]
          },
          "metadata": {}
        },
        {
          "output_type": "execute_result",
          "data": {
            "text/plain": [
              "{}"
            ]
          },
          "metadata": {},
          "execution_count": 3
        }
      ]
    },
    {
      "cell_type": "markdown",
      "source": [
        "Make directory named kaggle and copy kaggle.json file there."
      ],
      "metadata": {
        "id": "HrR843fgfbb6"
      }
    },
    {
      "cell_type": "code",
      "source": [
        "!mkdir ~/.kaggle\n",
        "!cp kaggle.json ~/.kaggle/"
      ],
      "metadata": {
        "id": "5vCrgjgpfWow"
      },
      "execution_count": null,
      "outputs": []
    },
    {
      "cell_type": "markdown",
      "source": [
        "Change the permissions of the file."
      ],
      "metadata": {
        "id": "t12uxJMvfmIr"
      }
    },
    {
      "cell_type": "code",
      "source": [
        "!chmod 600 ~/.kaggle/kaggle.json"
      ],
      "metadata": {
        "id": "prfsfNxkfhhZ",
        "colab": {
          "base_uri": "https://localhost:8080/"
        },
        "outputId": "2f328799-0e87-45e0-d708-1dcdc5f4090c"
      },
      "execution_count": null,
      "outputs": [
        {
          "output_type": "stream",
          "name": "stdout",
          "text": [
            "chmod: cannot access '/root/.kaggle/kaggle.json': No such file or directory\n"
          ]
        }
      ]
    },
    {
      "cell_type": "markdown",
      "source": [
        "You can check if everything's okay by running this command."
      ],
      "metadata": {
        "id": "K2fX2BUUfsKr"
      }
    },
    {
      "cell_type": "code",
      "source": [
        "!kaggle datasets list"
      ],
      "metadata": {
        "colab": {
          "base_uri": "https://localhost:8080/"
        },
        "id": "372tCbDrftmc",
        "outputId": "a645e12f-347e-45b1-da1d-b796ce006b9b"
      },
      "execution_count": null,
      "outputs": [
        {
          "output_type": "stream",
          "name": "stdout",
          "text": [
            "Traceback (most recent call last):\n",
            "  File \"/usr/local/bin/kaggle\", line 4, in <module>\n",
            "    from kaggle.cli import main\n",
            "  File \"/usr/local/lib/python3.11/dist-packages/kaggle/__init__.py\", line 6, in <module>\n",
            "    api.authenticate()\n",
            "  File \"/usr/local/lib/python3.11/dist-packages/kaggle/api/kaggle_api_extended.py\", line 434, in authenticate\n",
            "    raise IOError('Could not find {}. Make sure it\\'s located in'\n",
            "OSError: Could not find kaggle.json. Make sure it's located in /root/.config/kaggle. Or use the environment method. See setup instructions at https://github.com/Kaggle/kaggle-api/\n"
          ]
        }
      ]
    },
    {
      "cell_type": "markdown",
      "source": [
        "Download data"
      ],
      "metadata": {
        "id": "Z8Qk4EP5f9Qs"
      }
    },
    {
      "cell_type": "code",
      "source": [
        "!kaggle competitions download -c titanic"
      ],
      "metadata": {
        "colab": {
          "base_uri": "https://localhost:8080/"
        },
        "id": "MrRazKc9fx53",
        "outputId": "1d9ba26a-58bc-4a0b-a267-2e228afc243f"
      },
      "execution_count": null,
      "outputs": [
        {
          "output_type": "stream",
          "name": "stdout",
          "text": [
            "Traceback (most recent call last):\n",
            "  File \"/usr/local/bin/kaggle\", line 4, in <module>\n",
            "    from kaggle.cli import main\n",
            "  File \"/usr/local/lib/python3.11/dist-packages/kaggle/__init__.py\", line 6, in <module>\n",
            "    api.authenticate()\n",
            "  File \"/usr/local/lib/python3.11/dist-packages/kaggle/api/kaggle_api_extended.py\", line 434, in authenticate\n",
            "    raise IOError('Could not find {}. Make sure it\\'s located in'\n",
            "OSError: Could not find kaggle.json. Make sure it's located in /root/.config/kaggle. Or use the environment method. See setup instructions at https://github.com/Kaggle/kaggle-api/\n"
          ]
        }
      ]
    },
    {
      "cell_type": "code",
      "source": [
        "!mkdir titanic_dataset"
      ],
      "metadata": {
        "id": "8QlyKA7ngJBE"
      },
      "execution_count": null,
      "outputs": []
    },
    {
      "cell_type": "code",
      "source": [
        "!unzip titanic.zip -d titanic_dataset"
      ],
      "metadata": {
        "colab": {
          "base_uri": "https://localhost:8080/"
        },
        "id": "2iMiA2gXgKdk",
        "outputId": "f12b1e29-beda-4f3d-f91f-59d526da3036"
      },
      "execution_count": null,
      "outputs": [
        {
          "output_type": "stream",
          "name": "stdout",
          "text": [
            "unzip:  cannot find or open titanic.zip, titanic.zip.zip or titanic.zip.ZIP.\n"
          ]
        }
      ]
    },
    {
      "cell_type": "code",
      "source": [
        "import pandas as pd\n",
        "import numpy as np\n",
        "import matplotlib.pyplot as plt\n",
        "import seaborn as sns\n",
        "from scipy import stats\n",
        "import warnings\n",
        "warnings.filterwarnings('ignore')"
      ],
      "metadata": {
        "id": "9ch6upcdghsQ"
      },
      "execution_count": null,
      "outputs": []
    },
    {
      "cell_type": "code",
      "source": [
        "# Load the Titanic dataset\n",
        "titanic = pd.read_csv('/train.csv')\n"
      ],
      "metadata": {
        "id": "P0smZqO7iMzo"
      },
      "execution_count": null,
      "outputs": []
    },
    {
      "cell_type": "code",
      "source": [
        "# Basic dataset information\n",
        "print(\"Dataset Shape:\", titanic.shape)"
      ],
      "metadata": {
        "id": "qeTvn3-qiSpD",
        "colab": {
          "base_uri": "https://localhost:8080/"
        },
        "outputId": "e2331fa0-e694-4e08-8a7c-e78960565b96"
      },
      "execution_count": null,
      "outputs": [
        {
          "output_type": "stream",
          "name": "stdout",
          "text": [
            "Dataset Shape: (891, 12)\n"
          ]
        }
      ]
    },
    {
      "cell_type": "code",
      "source": [
        "print(\"\\nColumn Names:\")\n",
        "print(titanic.columns.tolist())"
      ],
      "metadata": {
        "id": "RqE71Ynvihse",
        "colab": {
          "base_uri": "https://localhost:8080/"
        },
        "outputId": "42db4d54-436a-4cbe-bb83-c6584167ceb2"
      },
      "execution_count": null,
      "outputs": [
        {
          "output_type": "stream",
          "name": "stdout",
          "text": [
            "\n",
            "Column Names:\n",
            "['PassengerId', 'Survived', 'Pclass', 'Name', 'Sex', 'Age', 'SibSp', 'Parch', 'Ticket', 'Fare', 'Cabin', 'Embarked']\n"
          ]
        }
      ]
    },
    {
      "cell_type": "code",
      "source": [
        "print(\"\\nFirst 5 rows:\")\n",
        "print(titanic.head())"
      ],
      "metadata": {
        "id": "td9OPDs9ic-n",
        "colab": {
          "base_uri": "https://localhost:8080/"
        },
        "outputId": "8eebfe29-e355-4fef-9f2c-bba5e01ffbc8"
      },
      "execution_count": null,
      "outputs": [
        {
          "output_type": "stream",
          "name": "stdout",
          "text": [
            "\n",
            "First 5 rows:\n",
            "   PassengerId  Survived  Pclass  \\\n",
            "0            1         0       3   \n",
            "1            2         1       1   \n",
            "2            3         1       3   \n",
            "3            4         1       1   \n",
            "4            5         0       3   \n",
            "\n",
            "                                                Name     Sex   Age  SibSp  \\\n",
            "0                            Braund, Mr. Owen Harris    male  22.0      1   \n",
            "1  Cumings, Mrs. John Bradley (Florence Briggs Th...  female  38.0      1   \n",
            "2                             Heikkinen, Miss. Laina  female  26.0      0   \n",
            "3       Futrelle, Mrs. Jacques Heath (Lily May Peel)  female  35.0      1   \n",
            "4                           Allen, Mr. William Henry    male  35.0      0   \n",
            "\n",
            "   Parch            Ticket     Fare Cabin Embarked  \n",
            "0      0         A/5 21171   7.2500   NaN        S  \n",
            "1      0          PC 17599  71.2833   C85        C  \n",
            "2      0  STON/O2. 3101282   7.9250   NaN        S  \n",
            "3      0            113803  53.1000  C123        S  \n",
            "4      0            373450   8.0500   NaN        S  \n"
          ]
        }
      ]
    },
    {
      "cell_type": "markdown",
      "source": [
        "# Missing Data Analysis\n"
      ],
      "metadata": {
        "id": "LO9-Tz-jlzKt"
      }
    },
    {
      "cell_type": "code",
      "source": [
        "# Check for missing values\n",
        "print(\"Missing Values Summary:\")\n",
        "missing_data = titanic.isnull().sum()\n",
        "missing_percent = (missing_data / len(titanic)) * 100\n",
        "missing_summary = pd.DataFrame({\n",
        "    'Missing_Count': missing_data,\n",
        "    'Missing_Percentage': missing_percent\n",
        "}).sort_values('Missing_Count', ascending=False)\n",
        "print(missing_summary[missing_summary['Missing_Count'] > 0])"
      ],
      "metadata": {
        "id": "x4rKMN0pinUU",
        "colab": {
          "base_uri": "https://localhost:8080/"
        },
        "outputId": "9bf645fd-0cd1-4b81-fa40-343ab0a5ae5e"
      },
      "execution_count": null,
      "outputs": [
        {
          "output_type": "stream",
          "name": "stdout",
          "text": [
            "Missing Values Summary:\n",
            "          Missing_Count  Missing_Percentage\n",
            "Cabin               687           77.104377\n",
            "Age                 177           19.865320\n",
            "Embarked              2            0.224467\n"
          ]
        }
      ]
    },
    {
      "cell_type": "code",
      "source": [
        "# Visualize missing data patterns\n",
        "import matplotlib.pyplot as plt\n",
        "plt.figure(figsize=(10, 6))\n",
        "sns.heatmap(titanic.isnull(), cbar=True, yticklabels=False, cmap='viridis')\n",
        "plt.title('Missing Data Heatmap')\n",
        "plt.show()"
      ],
      "metadata": {
        "id": "DD4vYyODi-8w",
        "colab": {
          "base_uri": "https://localhost:8080/",
          "height": 558
        },
        "outputId": "6d579ec9-3f13-4d77-83d8-f978aede3a20"
      },
      "execution_count": null,
      "outputs": [
        {
          "output_type": "display_data",
          "data": {
            "text/plain": [
              "<Figure size 1000x600 with 2 Axes>"
            ],
            "image/png": "[encoded data removed]"
          },
          "metadata": {}
        }
      ]
    },
    {
      "cell_type": "markdown",
      "source": [
        "## 📊 **What This Chart Shows**\n",
        "\n",
        "* This is a **missing data heatmap**, often created with Seaborn’s `heatmap()` in Python.\n",
        "* Each column represents a feature (variable) in your dataset.\n",
        "* Each row represents a record (one passenger).\n",
        "* The color indicates whether data is **present** or **missing**:\n",
        "\n",
        "  * **Dark purple (0.0 on the scale)**: No missing data (value exists).\n",
        "  * **Bright yellow (1.0 on the scale)**: Missing data (NaN or null).\n",
        "\n",
        "---\n",
        "\n",
        "## 🧭 **How to Interpret Heatmap**\n",
        "\n",
        "Let's go column by column:\n",
        "\n",
        "✅ **Columns with little or no missing data (almost all dark purple):**\n",
        "\n",
        "* PassengerId\n",
        "* Survived\n",
        "* Pclass\n",
        "* Name\n",
        "* Sex\n",
        "* SibSp\n",
        "* Parch\n",
        "* Ticket\n",
        "* Fare\n",
        "* Embarked\n",
        "\n",
        "These columns are largely complete.\n",
        "\n",
        "⚠️ **Columns with visible yellow lines (missing values):**\n",
        "\n",
        "* **Age**: Many yellow lines—this indicates that quite a few rows are missing Age.\n",
        "* **Cabin**: Almost solid yellow—this means **most Cabin values are missing**.\n",
        "\n",
        "---\n",
        "\n",
        "## 🔍 **Key Observations**\n",
        "\n",
        "1. **Age column:**\n",
        "\n",
        "   * Lots of yellow streaks scattered—many passengers have no recorded age.\n",
        "2. **Cabin column:**\n",
        "\n",
        "   * Almost completely yellow—most entries are missing (common in Titanic datasets).\n",
        "\n",
        "3. **Embarked column:**\n",
        "\n",
        "   * Very few (or no) missing values.\n",
        "\n",
        "---\n",
        "\n",
        "## 🎯 **How to Use This Information**\n",
        "\n",
        "* Decide on **data cleaning strategies**:\n",
        "\n",
        "  * For **Cabin**, you might drop the column or create a “HasCabin” flag instead.\n",
        "  * For **Age**, you could impute missing values (e.g., median or based on Pclass).\n",
        "  * For columns with negligible missing data, you can drop those rows or fill them.\n",
        "\n",
        "---\n",
        "\n",
        "✅ **Quick Summary of the Heatmap:**\n",
        "\n",
        "* **Mostly complete dataset**, except:\n",
        "\n",
        "  * **Age**: many missing values.\n",
        "  * **Cabin**: heavily missing.\n",
        "  * **Fare**: a few missing.\n"
      ],
      "metadata": {
        "id": "ZEIh4p5fjYbq"
      }
    },
    {
      "cell_type": "markdown",
      "source": [
        "# Data Types and Structure Analysis"
      ],
      "metadata": {
        "id": "xOJXe5qml7Cu"
      }
    },
    {
      "cell_type": "code",
      "source": [
        "# Examine data types\n",
        "print(\"\\nData Types:\")\n",
        "print(titanic.dtypes)"
      ],
      "metadata": {
        "id": "h8gv2Uk2mFSA",
        "colab": {
          "base_uri": "https://localhost:8080/"
        },
        "outputId": "0a9efe4b-7d9b-440e-fbff-5506e0773383"
      },
      "execution_count": null,
      "outputs": [
        {
          "output_type": "stream",
          "name": "stdout",
          "text": [
            "\n",
            "Data Types:\n",
            "PassengerId      int64\n",
            "Survived         int64\n",
            "Pclass           int64\n",
            "Name            object\n",
            "Sex             object\n",
            "Age            float64\n",
            "SibSp            int64\n",
            "Parch            int64\n",
            "Ticket          object\n",
            "Fare           float64\n",
            "Cabin           object\n",
            "Embarked        object\n",
            "dtype: object\n"
          ]
        }
      ]
    },
    {
      "cell_type": "markdown",
      "source": [
        "This Python code block analyzes **object-type columns** in the DataFrame. Here's a line-by-line explanation:\n",
        "\n",
        "---\n",
        "\n",
        "### 🧠 **Purpose of the Code:**\n",
        "\n",
        "To **examine object columns** (typically containing strings or mixed types) in the `titanic` DataFrame by:\n",
        "\n",
        "* Printing how many **unique values** each object column has.\n",
        "* Displaying a few **sample (non-null) values** to check for **inconsistencies or mixed types**.\n",
        "\n",
        "---\n",
        "\n",
        "### 🔍 **Line-by-Line Breakdown:**\n",
        "\n",
        "```python\n",
        "# Check for mixed data types in object columns\n",
        "print(\"\\nObject Columns Analysis:\")\n",
        "```\n",
        "\n",
        "* Prints a title to indicate you're starting analysis of object-type columns.\n",
        "\n",
        "---\n",
        "\n",
        "```python\n",
        "for col in titanic.select_dtypes(include=['object']).columns:\n",
        "```\n",
        "\n",
        "* This line **iterates through all columns** in the DataFrame where the data type is `object` (typically strings, but sometimes mixed with numbers, dates, etc.).\n",
        "* `select_dtypes(include=['object'])` filters only object-type columns.\n",
        "\n",
        "---\n",
        "\n",
        "```python\n",
        "    print(f\"\\n{col}:\")\n",
        "```\n",
        "\n",
        "* Prints the name of the current object column being analyzed.\n",
        "\n",
        "---\n",
        "\n",
        "```python\n",
        "    print(f\"  Unique values: {titanic[col].nunique()}\")\n",
        "```\n",
        "\n",
        "* `nunique()` returns the number of **distinct non-null values** in that column.\n",
        "* Helps identify whether a column has high cardinality (many distinct values), which might need cleaning or encoding for ML.\n",
        "\n",
        "---\n",
        "\n",
        "```python\n",
        "    print(f\"  Sample values: {titanic[col].dropna().unique()[:5]}\")\n",
        "```\n",
        "\n",
        "* `dropna()` removes any `NaN` values.\n",
        "* `unique()` gives an array of all unique values in the column.\n",
        "* `[:5]` shows just the **first 5 unique values** to get a quick look at the kind of data stored.\n",
        "* Helps detect **inconsistencies**, such as:\n",
        "\n",
        "  * `\"male\"` vs `\"Male\"` (case issues)\n",
        "  * `\"S\"` vs `\" s \"` (extra whitespace)\n",
        "  * numbers mixed with strings\n",
        "\n",
        "### ✅ **Why It’s Useful**\n",
        "\n",
        "* Quickly identifies columns that may need:\n",
        "\n",
        "  * **Standardization** (e.g., consistent casing)\n",
        "  * **Encoding** (for ML)\n",
        "  * **Cleaning** (e.g., removing whitespace)\n",
        "* Prevents errors when preprocessing or modeling.\n"
      ],
      "metadata": {
        "id": "t1n6GV7ZmpSJ"
      }
    },
    {
      "cell_type": "code",
      "source": [
        "# Check for mixed data types in object columns\n",
        "print(\"\\nObject Columns Analysis:\")\n",
        "for col in titanic.select_dtypes(include=['object']).columns:\n",
        "    print(f\"\\n{col}:\")\n",
        "    print(f\"  Unique values: {titanic[col].nunique()}\")\n",
        "    print(f\"  Sample values: {titanic[col].dropna().unique()[:5]}\")\n"
      ],
      "metadata": {
        "id": "TzQCeJTVmL0I",
        "colab": {
          "base_uri": "https://localhost:8080/"
        },
        "outputId": "1e1f08da-b285-4b78-fb13-694c23d573a6"
      },
      "execution_count": null,
      "outputs": [
        {
          "output_type": "stream",
          "name": "stdout",
          "text": [
            "\n",
            "Object Columns Analysis:\n",
            "\n",
            "Name:\n",
            "  Unique values: 891\n",
            "  Sample values: ['Braund, Mr. Owen Harris'\n",
            " 'Cumings, Mrs. John Bradley (Florence Briggs Thayer)'\n",
            " 'Heikkinen, Miss. Laina' 'Futrelle, Mrs. Jacques Heath (Lily May Peel)'\n",
            " 'Allen, Mr. William Henry']\n",
            "\n",
            "Sex:\n",
            "  Unique values: 2\n",
            "  Sample values: ['male' 'female']\n",
            "\n",
            "Ticket:\n",
            "  Unique values: 681\n",
            "  Sample values: ['A/5 21171' 'PC 17599' 'STON/O2. 3101282' '113803' '373450']\n",
            "\n",
            "Cabin:\n",
            "  Unique values: 147\n",
            "  Sample values: ['C85' 'C123' 'E46' 'G6' 'C103']\n",
            "\n",
            "Embarked:\n",
            "  Unique values: 3\n",
            "  Sample values: ['S' 'C' 'Q']\n"
          ]
        }
      ]
    },
    {
      "cell_type": "markdown",
      "source": [
        "# Duplicate Records Detection"
      ],
      "metadata": {
        "id": "ci3axF42nki6"
      }
    },
    {
      "cell_type": "code",
      "source": [
        "# Check for duplicate records\n",
        "print(f\"\\nDuplicate Records: {titanic.duplicated().sum()}\")"
      ],
      "metadata": {
        "id": "xjC1tXvrn5Vw",
        "colab": {
          "base_uri": "https://localhost:8080/"
        },
        "outputId": "c57c0630-d907-4858-c4eb-c186e0fdc194"
      },
      "execution_count": null,
      "outputs": [
        {
          "output_type": "stream",
          "name": "stdout",
          "text": [
            "\n",
            "Duplicate Records: 0\n"
          ]
        }
      ]
    },
    {
      "cell_type": "code",
      "source": [
        "# Check for duplicates based on specific columns\n",
        "subset_cols = ['Name', 'Age', 'Ticket', 'Fare']\n",
        "print(f\"Duplicates based on key columns: {titanic.duplicated(subset=subset_cols).sum()}\")\n"
      ],
      "metadata": {
        "id": "C0b2PCmzn6s1",
        "colab": {
          "base_uri": "https://localhost:8080/"
        },
        "outputId": "ac52b2ce-20cc-476c-b3ea-71f6c731adca"
      },
      "execution_count": null,
      "outputs": [
        {
          "output_type": "stream",
          "name": "stdout",
          "text": [
            "Duplicates based on key columns: 0\n"
          ]
        }
      ]
    },
    {
      "cell_type": "markdown",
      "source": [
        "# Outlier Detection (Numerical Columns)"
      ],
      "metadata": {
        "id": "nTvUQMk5oDq3"
      }
    },
    {
      "cell_type": "code",
      "source": [
        "# Statistical summary for numerical columns\n",
        "print(\"\\nNumerical Columns Summary:\")\n",
        "numerical_cols = titanic.select_dtypes(include=[np.number]).columns\n",
        "print(titanic[numerical_cols].describe())"
      ],
      "metadata": {
        "id": "i9xd8OPJn_96",
        "colab": {
          "base_uri": "https://localhost:8080/"
        },
        "outputId": "5108ba7c-1bb4-46fd-8358-d23bc07e0cd4"
      },
      "execution_count": null,
      "outputs": [
        {
          "output_type": "stream",
          "name": "stdout",
          "text": [
            "\n",
            "Numerical Columns Summary:\n",
            "       PassengerId    Survived      Pclass         Age       SibSp  \\\n",
            "count   891.000000  891.000000  891.000000  714.000000  891.000000   \n",
            "mean    446.000000    0.383838    2.308642   29.699118    0.523008   \n",
            "std     257.353842    0.486592    0.836071   14.526497    1.102743   \n",
            "min       1.000000    0.000000    1.000000    0.420000    0.000000   \n",
            "25%     223.500000    0.000000    2.000000   20.125000    0.000000   \n",
            "50%     446.000000    0.000000    3.000000   28.000000    0.000000   \n",
            "75%     668.500000    1.000000    3.000000   38.000000    1.000000   \n",
            "max     891.000000    1.000000    3.000000   80.000000    8.000000   \n",
            "\n",
            "            Parch        Fare  \n",
            "count  891.000000  891.000000  \n",
            "mean     0.381594   32.204208  \n",
            "std      0.806057   49.693429  \n",
            "min      0.000000    0.000000  \n",
            "25%      0.000000    7.910400  \n",
            "50%      0.000000   14.454200  \n",
            "75%      0.000000   31.000000  \n",
            "max      6.000000  512.329200  \n"
          ]
        }
      ]
    },
    {
      "cell_type": "markdown",
      "source": [
        "## 🧭 **How to Read This Table**\n",
        "\n",
        "**Rows** = summary statistics\n",
        "**Columns** = each numerical variable\n",
        "\n",
        "Each cell shows that statistic *computed* for that column.\n",
        "\n",
        "---\n",
        "\n",
        "### 📊 **Column-by-Column Explanation**\n",
        "\n",
        "Let’s walk through the columns one at a time:\n",
        "\n",
        "---\n",
        "\n",
        "### 1️⃣ `PassengerId`\n",
        "\n",
        "* Just a unique identifier for each passenger.\n",
        "* **Min = 1, Max = 891**, so there are 891 passengers.\n",
        "\n",
        "---\n",
        "\n",
        "### 2️⃣ `Survived`\n",
        "\n",
        "* Target variable: 0 = Died, 1 = Survived.\n",
        "* **Mean = 0.3838**, so about **38% survived**.\n",
        "* **Min = 0, Max = 1**, confirming binary values.\n",
        "\n",
        "---\n",
        "\n",
        "### 3️⃣ `Pclass`\n",
        "\n",
        "* Passenger class (1st, 2nd, 3rd).\n",
        "* **Mean = 2.3086**, showing more passengers were in lower classes.\n",
        "* **Min = 1, Max = 3**.\n",
        "\n",
        "---\n",
        "\n",
        "### 4️⃣ `Age`\n",
        "\n",
        "* **Count = 714**, which is **less than 891**, indicating **177 missing ages**.\n",
        "* **Mean = \\~29.7 years**.\n",
        "* **Std = 14.5**, ages widely spread.\n",
        "* **Min = 0.42**, the youngest passenger.\n",
        "* **Max = 80**.\n",
        "\n",
        "---\n",
        "\n",
        "### 5️⃣ `SibSp`\n",
        "\n",
        "* Number of siblings/spouses aboard.\n",
        "* **Mean = 0.52**, most passengers had **0 or 1 sibling/spouse**.\n",
        "* **Max = 8**, indicating some large families.\n",
        "\n",
        "---\n",
        "\n",
        "### 6️⃣ `Parch`\n",
        "\n",
        "* Number of parents/children aboard.\n",
        "* **Mean = 0.38**, most had **no parents/children with them**.\n",
        "* **Max = 6**.\n",
        "\n",
        "---\n",
        "\n",
        "### 7️⃣ `Fare`\n",
        "\n",
        "* Ticket price paid.\n",
        "* **Mean = 32.20**, but:\n",
        "\n",
        "  * **Std = 49.69**, meaning fares varied *hugely*.\n",
        "  * **Min = 0**, free ticket.\n",
        "  * **Max = 512.33**, very expensive ticket (1st class).\n",
        "  * **Median (50%) = 14.45**, much lower than the mean (suggests skew).\n",
        "\n",
        "---\n",
        "\n",
        "### 📑 **What the Rows Mean**\n",
        "\n",
        "| Row       | Meaning                     |\n",
        "| --------- | --------------------------- |\n",
        "| **count** | Number of non-null entries  |\n",
        "| **mean**  | Average value               |\n",
        "| **std**   | Standard deviation (spread) |\n",
        "| **min**   | Minimum value               |\n",
        "| **25%**   | 25th percentile (Q1)        |\n",
        "| **50%**   | Median                      |\n",
        "| **75%**   | 75th percentile (Q3)        |\n",
        "| **max**   | Maximum value               |\n",
        "\n",
        "---\n",
        "\n",
        "### ✅ **Key Insights**\n",
        "\n",
        "* **Missing Data:** `Age` has missing values (count < 891).\n",
        "* **Fare Skewed:** Mean > Median, suggesting outliers (very high fares).\n",
        "* **Survival Rate:** \\~38% survived.\n",
        "* **Most Passengers:** Were in 3rd class (median Pclass = 3).\n",
        "* **SibSp and Parch:** Most people traveled alone or with 1 relative.\n"
      ],
      "metadata": {
        "id": "YTH_iQgxo5US"
      }
    },
    {
      "cell_type": "markdown",
      "source": [
        "Consider about the **Age** data:\n",
        "\n",
        "---\n",
        "\n",
        "✅ **1️⃣ Standard Deviation (Std = 14.5)**\n",
        "\n",
        "* **Standard deviation** measures how *spread out* the ages are around the **mean** (average age = \\~29.7).\n",
        "* **Interpretation:**\n",
        "\n",
        "  * A standard deviation of 14.5 is quite large relative to the mean (14.5 / 29.7 ≈ 0.49), meaning ages vary a lot.\n",
        "  * Ages range from babies to elderly people.\n",
        "* **Rough rule of thumb:**\n",
        "\n",
        "  * \\~68% of ages are within **mean ± 1 std**, i.e.,\n",
        "\n",
        "    * 29.7 - 14.5 ≈ **15**\n",
        "    * 29.7 + 14.5 ≈ **44**\n",
        "  * So about 68% of passengers were between \\~15 and \\~44 years old.\n",
        "\n",
        "---\n",
        "\n",
        "✅ **2️⃣ Minimum Age (Min = 0.42)**\n",
        "\n",
        "* This means the **youngest passenger was just 0.42 years old**, which is about **5 months old**.\n",
        "* Confirms there were infants aboard the Titanic.\n",
        "\n",
        "---\n",
        "\n",
        "🔍 **Putting these together:**\n",
        "\n",
        "* **Ages ranged widely** (from \\~0.4 to 80).\n",
        "* **Many adults in their 20s-40s**, but also infants and elderly.\n",
        "* The high standard deviation reflects this diversity.\n",
        "\n",
        "---\n",
        "\n",
        "✅ **Tip for Data Processing:**\n",
        "\n",
        "* Because of this spread, sometimes analysts **bin ages** into categories (child, adult, senior) or **scale them** before modeling.\n",
        "* Also, you should decide how to **impute missing ages** (since 177 ages are missing).\n",
        "\n",
        "If you’d like, I can help you visualize the age distribution or suggest imputation strategies!\n"
      ],
      "metadata": {
        "id": "VuIzpEcMqCOj"
      }
    },
    {
      "cell_type": "code",
      "source": [
        "# Visualize distributions to spot outliers\n",
        "fig, axes = plt.subplots(2, 2, figsize=(12, 10))\n",
        "fig.suptitle('Distribution of Numerical Variables')\n",
        "\n",
        "titanic['Age'].hist(bins=30, ax=axes[0,0])\n",
        "axes[0,0].set_title('Age Distribution')\n",
        "\n",
        "titanic['Fare'].hist(bins=30, ax=axes[0,1])\n",
        "axes[0,1].set_title('Fare Distribution')\n",
        "\n",
        "titanic.boxplot(column='Age', ax=axes[1,0])\n",
        "axes[1,0].set_title('Age Boxplot')\n",
        "\n",
        "titanic.boxplot(column='Fare', ax=axes[1,1])\n",
        "axes[1,1].set_title('Fare Boxplot')\n",
        "\n",
        "plt.tight_layout()\n",
        "plt.show()"
      ],
      "metadata": {
        "id": "qxpActfToYT-",
        "colab": {
          "base_uri": "https://localhost:8080/",
          "height": 568
        },
        "outputId": "6a99e946-bbfc-4634-d09e-cfcbce16b261"
      },
      "execution_count": null,
      "outputs": [
        {
          "output_type": "display_data",
          "data": {
            "text/plain": [
              "<Figure size 1200x1000 with 4 Axes>"
            ],
            "image/png": "[encoded data removed]"
          },
          "metadata": {}
        }
      ]
    },
    {
      "cell_type": "markdown",
      "source": [
        "### 🔹 Top Row: Histograms (Distribution Plots)\n",
        "\n",
        "#### **1. Age Distribution (Top-Left)**\n",
        "\n",
        "* Shows a histogram of passenger ages.\n",
        "* The distribution is **right-skewed** with a peak between ages **20 to 30**.\n",
        "* There is a **noticeable dip** around ages 10-15 and some multimodal characteristics.\n",
        "* Few passengers are under 5 or over 70 years old.\n",
        "\n",
        "#### **2. Fare Distribution (Top-Right)**\n",
        "\n",
        "* Histogram of ticket fares paid by passengers.\n",
        "* This distribution is **heavily right-skewed**.\n",
        "* Most fares are concentrated below **100**, with **a long tail** extending to over **500**.\n",
        "* Indicates a few passengers paid **extremely high fares**, which may be outliers.\n",
        "\n",
        "---\n",
        "\n",
        "### 🔹 Bottom Row: Boxplots\n",
        "\n",
        "#### **3. Age Boxplot (Bottom-Left)**\n",
        "\n",
        "* Displays the summary of age data:\n",
        "\n",
        "  * **Median age** around **27-28 years**.\n",
        "  * **Interquartile range (IQR)**: \\~20 to \\~37 years. (https://www.scribbr.com/statistics/interquartile-range/)\n",
        "  * Outliers are shown above \\~65 years.\n",
        "\n",
        "#### **4. Fare Boxplot (Bottom-Right)**\n",
        "\n",
        "* Fare values have a **much wider spread**:\n",
        "\n",
        "  * **Median fare** appears to be around **20-25**.\n",
        "  * The box is very compressed (indicating a dense central mass), while the **outliers dominate** the visualization.\n",
        "  * There are **many extreme outliers**, reaching over **500**.\n",
        "\n",
        "---\n",
        "\n",
        "### 🧠 Interpretation:\n",
        "\n",
        "* **Age** distribution is somewhat normal but skewed slightly right, with a large concentration of people in their 20s and 30s.\n",
        "* **Fare** is highly skewed and has many outliers, suggesting it may benefit from transformation (e.g., log-scaling) before modeling.\n",
        "* Boxplots confirm that **Fare** has more extreme values than **Age**, which will influence analyses sensitive to outliers (e.g., linear models).\n",
        "* These plots are useful to:\n",
        "\n",
        "  * Detect anomalies or outliers.\n",
        "  * Choose appropriate scaling or normalization methods.\n",
        "  * Guide decisions on imputation, binning, or transformations.\n",
        "\n",
        "Would you like a Python code snippet to generate similar plots?\n"
      ],
      "metadata": {
        "id": "SmyUGZ8xtQu4"
      }
    },
    {
      "cell_type": "markdown",
      "source": [
        "# Categorical Data Inconsistencies"
      ],
      "metadata": {
        "id": "oPQmAaMLu1fm"
      }
    },
    {
      "cell_type": "code",
      "source": [
        "# Analyze categorical columns for inconsistencies\n",
        "print(\"\\nCategorical Data Analysis:\")\n",
        "categorical_cols = titanic.select_dtypes(include=['object']).columns\n",
        "\n",
        "for col in categorical_cols:\n",
        "    print(f\"\\n{col} - Unique Values ({titanic[col].nunique()}):\")\n",
        "    value_counts = titanic[col].value_counts()\n",
        "    print(value_counts)\n",
        "\n",
        "    # Check for potential inconsistencies (case sensitivity, extra spaces)\n",
        "    unique_values = titanic[col].dropna().unique()\n",
        "    print(f\"  Potential issues: {[val for val in unique_values if ' ' in str(val) or str(val) != str(val).strip()]}\")\n"
      ],
      "metadata": {
        "id": "D0v6ut9du0K3",
        "colab": {
          "base_uri": "https://localhost:8080/"
        },
        "outputId": "7cb575d2-4cc6-492d-cf6b-a714373accb7"
      },
      "execution_count": null,
      "outputs": [
        {
          "output_type": "stream",
          "name": "stdout",
          "text": [
            "\n",
            "Categorical Data Analysis:\n",
            "\n",
            "Name - Unique Values (891):\n",
            "Name\n",
            "Dooley, Mr. Patrick                                    1\n",
            "Braund, Mr. Owen Harris                                1\n",
            "Cumings, Mrs. John Bradley (Florence Briggs Thayer)    1\n",
            "Heikkinen, Miss. Laina                                 1\n",
            "Futrelle, Mrs. Jacques Heath (Lily May Peel)           1\n",
            "                                                      ..\n",
            "Hewlett, Mrs. (Mary D Kingcome)                        1\n",
            "Vestrom, Miss. Hulda Amanda Adolfina                   1\n",
            "Andersson, Mr. Anders Johan                            1\n",
            "Saundercock, Mr. William Henry                         1\n",
            "Bonnell, Miss. Elizabeth                               1\n",
            "Name: count, Length: 891, dtype: int64\n",
            "  Potential issues: ['Braund, Mr. Owen Harris', 'Cumings, Mrs. John Bradley (Florence Briggs Thayer)', 'Heikkinen, Miss. Laina', 'Futrelle, Mrs. Jacques Heath (Lily May Peel)', 'Allen, Mr. William Henry', 'Moran, Mr. James', 'McCarthy, Mr. Timothy J', 'Palsson, Master. Gosta Leonard', 'Johnson, Mrs. Oscar W (Elisabeth Vilhelmina Berg)', 'Nasser, Mrs. Nicholas (Adele Achem)', 'Sandstrom, Miss. Marguerite Rut', 'Bonnell, Miss. Elizabeth', 'Saundercock, Mr. William Henry', 'Andersson, Mr. Anders Johan', 'Vestrom, Miss. Hulda Amanda Adolfina', 'Hewlett, Mrs. (Mary D Kingcome) ', 'Rice, Master. Eugene', 'Williams, Mr. Charles Eugene', 'Vander Planke, Mrs. Julius (Emelia Maria Vandemoortele)', 'Masselmani, Mrs. Fatima', 'Fynney, Mr. Joseph J', 'Beesley, Mr. Lawrence', 'McGowan, Miss. Anna \"Annie\"', 'Sloper, Mr. William Thompson', 'Palsson, Miss. Torborg Danira', 'Asplund, Mrs. Carl Oscar (Selma Augusta Emilia Johansson)', 'Emir, Mr. Farred Chehab', 'Fortune, Mr. Charles Alexander', 'O\\'Dwyer, Miss. Ellen \"Nellie\"', 'Todoroff, Mr. Lalio', 'Uruchurtu, Don. Manuel E', 'Spencer, Mrs. William Augustus (Marie Eugenie)', 'Glynn, Miss. Mary Agatha', 'Wheadon, Mr. Edward H', 'Meyer, Mr. Edgar Joseph', 'Holverson, Mr. Alexander Oskar', 'Mamee, Mr. Hanna', 'Cann, Mr. Ernest Charles', 'Vander Planke, Miss. Augusta Maria', 'Nicola-Yarred, Miss. Jamila', 'Ahlin, Mrs. Johan (Johanna Persdotter Larsson)', 'Turpin, Mrs. William John Robert (Dorothy Ann Wonnacott)', 'Kraeff, Mr. Theodor', 'Laroche, Miss. Simonne Marie Anne Andree', 'Devaney, Miss. Margaret Delia', 'Rogers, Mr. William John', 'Lennon, Mr. Denis', \"O'Driscoll, Miss. Bridget\", 'Samaan, Mr. Youssef', 'Arnold-Franchi, Mrs. Josef (Josefine Franchi)', 'Panula, Master. Juha Niilo', 'Nosworthy, Mr. Richard Cater', 'Harper, Mrs. Henry Sleeper (Myna Haxtun)', 'Faunthorpe, Mrs. Lizzie (Elizabeth Anne Wilkinson)', 'Ostby, Mr. Engelhart Cornelius', 'Woolner, Mr. Hugh', 'Rugg, Miss. Emily', 'Novel, Mr. Mansouer', 'West, Miss. Constance Mirium', 'Goodwin, Master. William Frederick', 'Sirayanian, Mr. Orsen', 'Icard, Miss. Amelie', 'Harris, Mr. Henry Birkhardt', 'Skoog, Master. Harald', 'Stewart, Mr. Albert A', 'Moubarek, Master. Gerios', 'Nye, Mrs. (Elizabeth Ramell)', 'Crease, Mr. Ernest James', 'Andersson, Miss. Erna Alexandra', 'Kink, Mr. Vincenz', 'Jenkin, Mr. Stephen Curnow', 'Goodwin, Miss. Lillian Amy', 'Hood, Mr. Ambrose Jr', 'Chronopoulos, Mr. Apostolos', 'Bing, Mr. Lee', 'Moen, Mr. Sigurd Hansen', 'Staneff, Mr. Ivan', 'Moutal, Mr. Rahamin Haim', 'Caldwell, Master. Alden Gates', 'Dowdell, Miss. Elizabeth', 'Waelens, Mr. Achille', 'Sheerlinck, Mr. Jan Baptist', 'McDermott, Miss. Brigdet Delia', 'Carrau, Mr. Francisco M', 'Ilett, Miss. Bertha', 'Backstrom, Mrs. Karl Alfred (Maria Mathilda Gustafsson)', 'Ford, Mr. William Neal', 'Slocovski, Mr. Selman Francis', 'Fortune, Miss. Mabel Helen', 'Celotti, Mr. Francesco', 'Christmann, Mr. Emil', 'Andreasson, Mr. Paul Edvin', 'Chaffee, Mr. Herbert Fuller', 'Dean, Mr. Bertram Frank', 'Coxon, Mr. Daniel', 'Shorney, Mr. Charles Joseph', 'Goldschmidt, Mr. George B', 'Greenfield, Mr. William Bertram', 'Doling, Mrs. John T (Ada Julia Bone)', 'Kantor, Mr. Sinai', 'Petranec, Miss. Matilda', 'Petroff, Mr. Pastcho (\"Pentcho\")', 'White, Mr. Richard Frasar', 'Johansson, Mr. Gustaf Joel', 'Gustafsson, Mr. Anders Vilhelm', 'Mionoff, Mr. Stoytcho', 'Salkjelsvik, Miss. Anna Kristine', 'Moss, Mr. Albert Johan', 'Rekic, Mr. Tido', 'Moran, Miss. Bertha', 'Porter, Mr. Walter Chamberlain', 'Zabour, Miss. Hileni', 'Barton, Mr. David John', 'Jussila, Miss. Katriina', 'Attalah, Miss. Malake', 'Pekoniemi, Mr. Edvard', 'Connors, Mr. Patrick', 'Turpin, Mr. William John Robert', 'Baxter, Mr. Quigg Edmond', 'Andersson, Miss. Ellis Anna Maria', 'Hickman, Mr. Stanley George', 'Moore, Mr. Leonard Charles', 'Nasser, Mr. Nicholas', 'Webber, Miss. Susan', 'White, Mr. Percival Wayland', 'Nicola-Yarred, Master. Elias', 'McMahon, Mr. Martin', 'Madsen, Mr. Fridtjof Arne', 'Peter, Miss. Anna', 'Ekstrom, Mr. Johan', 'Drazenoic, Mr. Jozef', 'Coelho, Mr. Domingos Fernandeo', 'Robins, Mrs. Alexander A (Grace Charity Laury)', 'Weisz, Mrs. Leopold (Mathilde Francoise Pede)', 'Sobey, Mr. Samuel James Hayden', 'Richard, Mr. Emile', 'Newsom, Miss. Helen Monypeny', 'Futrelle, Mr. Jacques Heath', 'Osen, Mr. Olaf Elon', 'Giglio, Mr. Victor', 'Boulos, Mrs. Joseph (Sultana)', 'Nysten, Miss. Anna Sofia', 'Hakkarainen, Mrs. Pekka Pietari (Elin Matilda Dolck)', 'Burke, Mr. Jeremiah', 'Andrew, Mr. Edgardo Samuel', 'Nicholls, Mr. Joseph Charles', 'Andersson, Mr. August Edvard (\"Wennerstrom\")', 'Ford, Miss. Robina Maggie \"Ruby\"', 'Navratil, Mr. Michel (\"Louis M Hoffman\")', 'Byles, Rev. Thomas Roussel Davids', 'Bateman, Rev. Robert James', 'Pears, Mrs. Thomas (Edith Wearne)', 'Meo, Mr. Alfonzo', 'van Billiard, Mr. Austin Blyler', 'Olsen, Mr. Ole Martin', 'Williams, Mr. Charles Duane', 'Gilnagh, Miss. Katherine \"Katie\"', 'Corn, Mr. Harry', 'Smiljanic, Mr. Mile', 'Sage, Master. Thomas Henry', 'Cribb, Mr. John Hatfield', 'Watt, Mrs. James (Elizabeth \"Bessie\" Inglis Milne)', 'Bengtsson, Mr. John Viktor', 'Calic, Mr. Jovo', 'Panula, Master. Eino Viljami', 'Goldsmith, Master. Frank John William \"Frankie\"', 'Chibnall, Mrs. (Edith Martha Bowerman)', 'Skoog, Mrs. William (Anna Bernhardina Karlsson)', 'Baumann, Mr. John D', 'Ling, Mr. Lee', 'Van der hoef, Mr. Wyckoff', 'Rice, Master. Arthur', 'Johnson, Miss. Eleanor Ileen', 'Sivola, Mr. Antti Wilhelm', 'Smith, Mr. James Clinch', 'Klasen, Mr. Klas Albin', 'Lefebre, Master. Henry Forbes', 'Isham, Miss. Ann Elizabeth', 'Hale, Mr. Reginald', 'Leonard, Mr. Lionel', 'Sage, Miss. Constance Gladys', 'Pernot, Mr. Rene', 'Asplund, Master. Clarence Gustaf Hugo', 'Becker, Master. Richard F', 'Kink-Heilmann, Miss. Luise Gretchen', 'Rood, Mr. Hugh Roscoe', 'O\\'Brien, Mrs. Thomas (Johanna \"Hannah\" Godfrey)', 'Romaine, Mr. Charles Hallace (\"Mr C Rolmane\")', 'Bourke, Mr. John', 'Turcin, Mr. Stjepan', 'Pinsky, Mrs. (Rosa)', 'Carbines, Mr. William', 'Andersen-Jensen, Miss. Carla Christine Nielsine', 'Navratil, Master. Michel M', 'Brown, Mrs. James Joseph (Margaret Tobin)', 'Lurette, Miss. Elise', 'Mernagh, Mr. Robert', 'Olsen, Mr. Karl Siegwart Andreas', 'Madigan, Miss. Margaret \"Maggie\"', 'Yrois, Miss. Henriette (\"Mrs Harbeck\")', 'Vande Walle, Mr. Nestor Cyriel', 'Sage, Mr. Frederick', 'Johanson, Mr. Jakob Alfred', 'Youseff, Mr. Gerious', 'Cohen, Mr. Gurshon \"Gus\"', 'Strom, Miss. Telma Matilda', 'Backstrom, Mr. Karl Alfred', 'Albimona, Mr. Nassef Cassem', 'Carr, Miss. Helen \"Ellen\"', 'Blank, Mr. Henry', 'Ali, Mr. Ahmed', 'Cameron, Miss. Clear Annie', 'Perkin, Mr. John Henry', 'Givard, Mr. Hans Kristensen', 'Kiernan, Mr. Philip', 'Newell, Miss. Madeleine', 'Honkanen, Miss. Eliina', 'Jacobsohn, Mr. Sidney Samuel', 'Bazzani, Miss. Albina', 'Harris, Mr. Walter', 'Sunderland, Mr. Victor Francis', 'Bracken, Mr. James H', 'Green, Mr. George Henry', 'Nenkoff, Mr. Christo', 'Hoyt, Mr. Frederick Maxfield', 'Berglund, Mr. Karl Ivar Sven', 'Mellors, Mr. William John', 'Lovell, Mr. John Hall (\"Henry\")', 'Fahlstrom, Mr. Arne Jonas', 'Lefebre, Miss. Mathilde', 'Harris, Mrs. Henry Birkhardt (Irene Wallach)', 'Larsson, Mr. Bengt Edvin', 'Sjostedt, Mr. Ernst Adolf', 'Asplund, Miss. Lillian Gertrud', 'Leyson, Mr. Robert William Norman', 'Harknett, Miss. Alice Phoebe', 'Hold, Mr. Stephen', 'Collyer, Miss. Marjorie \"Lottie\"', 'Pengelly, Mr. Frederick William', 'Hunt, Mr. George Henry', 'Zabour, Miss. Thamine', 'Murphy, Miss. Katherine \"Kate\"', 'Coleridge, Mr. Reginald Charles', 'Maenpaa, Mr. Matti Alexanteri', 'Attalah, Mr. Sleiman', 'Minahan, Dr. William Edward', 'Lindahl, Miss. Agda Thorilda Viktoria', 'Hamalainen, Mrs. William (Anna)', 'Beckwith, Mr. Richard Leonard', 'Carter, Rev. Ernest Courtenay', 'Reed, Mr. James George', 'Strom, Mrs. Wilhelm (Elna Matilda Persson)', 'Stead, Mr. William Thomas', 'Lobb, Mr. William Arthur', 'Rosblom, Mrs. Viktor (Helena Wilhelmina)', 'Touma, Mrs. Darwis (Hanne Youssef Razi)', 'Thorne, Mrs. Gertrude Maybelle', 'Cherry, Miss. Gladys', 'Ward, Miss. Anna', 'Parrish, Mrs. (Lutie Davis)', 'Smith, Mr. Thomas', 'Asplund, Master. Edvin Rojj Felix', 'Taussig, Mr. Emil', 'Harrison, Mr. William', 'Henry, Miss. Delia', 'Reeves, Mr. David', 'Panula, Mr. Ernesti Arvid', 'Persson, Mr. Ernst Ulrik', 'Graham, Mrs. William Thompson (Edith Junkins)', 'Bissette, Miss. Amelia', 'Cairns, Mr. Alexander', 'Tornquist, Mr. William Henry', 'Mellinger, Mrs. (Elizabeth Anne Maidment)', 'Natsch, Mr. Charles H', 'Healy, Miss. Hanora \"Nora\"', 'Andrews, Miss. Kornelia Theodosia', 'Lindblom, Miss. Augusta Charlotta', 'Parkes, Mr. Francis \"Frank\"', 'Rice, Master. Eric', 'Abbott, Mrs. Stanton (Rosa Hunt)', 'Duane, Mr. Frank', 'Olsson, Mr. Nils Johan Goransson', 'de Pelsmaeker, Mr. Alfons', 'Dorking, Mr. Edward Arthur', 'Smith, Mr. Richard William', 'Stankovic, Mr. Ivan', 'de Mulder, Mr. Theodore', 'Naidenoff, Mr. Penko', 'Hosono, Mr. Masabumi', 'Connolly, Miss. Kate', 'Barber, Miss. Ellen \"Nellie\"', 'Bishop, Mrs. Dickinson H (Helen Walton)', 'Levy, Mr. Rene Jacques', 'Haas, Miss. Aloisia', 'Mineff, Mr. Ivan', 'Lewy, Mr. Ervin G', 'Hanna, Mr. Mansour', 'Allison, Miss. Helen Loraine', 'Saalfeld, Mr. Adolphe', 'Baxter, Mrs. James (Helene DeLaudeniere Chaput)', 'Kelly, Miss. Anna Katherine \"Annie Kate\"', 'McCoy, Mr. Bernard', 'Johnson, Mr. William Cahoone Jr', 'Keane, Miss. Nora A', 'Williams, Mr. Howard Hugh \"Harry\"', 'Allison, Master. Hudson Trevor', 'Fleming, Miss. Margaret', 'Penasco y Castellana, Mrs. Victor de Satode (Maria Josefa Perez de Soto y Vallejo)', 'Abelson, Mr. Samuel', 'Francatelli, Miss. Laura Mabel', 'Hays, Miss. Margaret Bechstein', 'Ryerson, Miss. Emily Borie', 'Lahtinen, Mrs. William (Anna Sylfven)', 'Hendekovic, Mr. Ignjac', 'Hart, Mr. Benjamin', 'Nilsson, Miss. Helmina Josefina', 'Kantor, Mrs. Sinai (Miriam Sternin)', 'Moraweck, Dr. Ernest', 'Wick, Miss. Mary Natalie', 'Spedden, Mrs. Frederic Oakley (Margaretta Corning Stone)', 'Dennis, Mr. Samuel', 'Danoff, Mr. Yoto', 'Slayter, Miss. Hilda Mary', 'Caldwell, Mrs. Albert Francis (Sylvia Mae Harbaugh)', 'Sage, Mr. George John Jr', 'Young, Miss. Marie Grice', 'Nysveen, Mr. Johan Hansen', 'Ball, Mrs. (Ada E Hall)', 'Goldsmith, Mrs. Frank John (Emily Alice Brown)', 'Hippach, Miss. Jean Gertrude', 'McCoy, Miss. Agnes', 'Partner, Mr. Austen', 'Graham, Mr. George Edward', 'Vander Planke, Mr. Leo Edmondus', 'Frauenthal, Mrs. Henry William (Clara Heinsheimer)', 'Denkoff, Mr. Mitto', 'Pears, Mr. Thomas Clinton', 'Burns, Miss. Elizabeth Margaret', 'Dahl, Mr. Karl Edwart', 'Blackwell, Mr. Stephen Weart', 'Navratil, Master. Edmond Roger', 'Fortune, Miss. Alice Elizabeth', 'Collander, Mr. Erik Gustaf', 'Sedgwick, Mr. Charles Frederick Waddington', 'Fox, Mr. Stanley Hubert', 'Brown, Miss. Amelia \"Mildred\"', 'Smith, Miss. Marion Elsie', 'Davison, Mrs. Thomas Henry (Mary E Finck)', 'Coutts, Master. William Loch \"William\"', 'Dimic, Mr. Jovan', 'Odahl, Mr. Nils Martin', 'Williams-Lambert, Mr. Fletcher Fellows', 'Elias, Mr. Tannous', 'Arnold-Franchi, Mr. Josef', 'Yousif, Mr. Wazli', 'Vanden Steen, Mr. Leo Peter', 'Bowerman, Miss. Elsie Edith', 'Funk, Miss. Annie Clemmer', 'McGovern, Miss. Mary', 'Mockler, Miss. Helen Mary \"Ellie\"', 'Skoog, Mr. Wilhelm', 'del Carlo, Mr. Sebastiano', 'Barbara, Mrs. (Catherine David)', 'Asim, Mr. Adola', \"O'Brien, Mr. Thomas\", 'Adahl, Mr. Mauritz Nils Martin', 'Warren, Mrs. Frank Manley (Anna Sophia Atkinson)', 'Moussa, Mrs. (Mantoura Boulos)', 'Jermyn, Miss. Annie', 'Aubart, Mme. Leontine Pauline', 'Harder, Mr. George Achilles', 'Wiklund, Mr. Jakob Alfred', 'Beavan, Mr. William Thomas', 'Ringhini, Mr. Sante', 'Palsson, Miss. Stina Viola', 'Meyer, Mrs. Edgar Joseph (Leila Saks)', 'Landergren, Miss. Aurora Adelia', 'Widener, Mr. Harry Elkins', 'Betros, Mr. Tannous', 'Gustafsson, Mr. Karl Gideon', 'Bidois, Miss. Rosalie', 'Nakid, Miss. Maria (\"Mary\")', 'Tikkanen, Mr. Juho', 'Holverson, Mrs. Alexander Oskar (Mary Aline Towner)', 'Plotcharsky, Mr. Vasil', 'Davies, Mr. Charles Henry', 'Goodwin, Master. Sidney Leonard', 'Buss, Miss. Kate', 'Sadlier, Mr. Matthew', 'Lehmann, Miss. Bertha', 'Carter, Mr. William Ernest', 'Jansson, Mr. Carl Olof', 'Gustafsson, Mr. Johan Birger', 'Newell, Miss. Marjorie', 'Sandstrom, Mrs. Hjalmar (Agnes Charlotta Bengtsson)', 'Johansson, Mr. Erik', 'Olsson, Miss. Elina', 'McKane, Mr. Peter David', 'Pain, Dr. Alfred', 'Trout, Mrs. William H (Jessie L)', 'Niskanen, Mr. Juha', 'Adams, Mr. John', 'Jussila, Miss. Mari Aina', 'Hakkarainen, Mr. Pekka Pietari', 'Oreskovic, Miss. Marija', 'Gale, Mr. Shadrach', 'Widegren, Mr. Carl/Charles Peter', 'Richards, Master. William Rowe', 'Birkeland, Mr. Hans Martin Monsen', 'Lefebre, Miss. Ida', 'Sdycoff, Mr. Todor', 'Hart, Mr. Henry', 'Minahan, Miss. Daisy E', 'Cunningham, Mr. Alfred Fleming', 'Sundman, Mr. Johan Julian', 'Meek, Mrs. Thomas (Annie Louise Rowley)', 'Drew, Mrs. James Vivian (Lulu Thorne Christian)', 'Silven, Miss. Lyyli Karoliina', 'Matthews, Mr. William John', 'Van Impe, Miss. Catharina', 'Gheorgheff, Mr. Stanio', 'Charters, Mr. David', 'Zimmerman, Mr. Leo', 'Danbom, Mrs. Ernst Gilbert (Anna Sigrid Maria Brogren)', 'Rosblom, Mr. Viktor Richard', 'Wiseman, Mr. Phillippe', 'Clarke, Mrs. Charles V (Ada Maria Winfield)', 'Phillips, Miss. Kate Florence (\"Mrs Kate Louise Phillips Marshall\")', 'Flynn, Mr. James', 'Pickard, Mr. Berk (Berk Trembisky)', 'Bjornstrom-Steffansson, Mr. Mauritz Hakan', 'Thorneycroft, Mrs. Percival (Florence Kate White)', 'Louch, Mrs. Charles Alexander (Alice Adelaide Slow)', 'Kallio, Mr. Nikolai Erland', 'Silvey, Mr. William Baird', 'Carter, Miss. Lucile Polk', 'Ford, Miss. Doolina Margaret \"Daisy\"', 'Richards, Mrs. Sidney (Emily Hocking)', 'Fortune, Mr. Mark', 'Kvillner, Mr. Johan Henrik Johannesson', 'Hart, Mrs. Benjamin (Esther Ada Bloomfield)', 'Hampe, Mr. Leon', 'Petterson, Mr. Johan Emil', 'Reynaldo, Ms. Encarnacion', 'Johannesen-Bratthammer, Mr. Bernt', 'Dodge, Master. Washington', 'Mellinger, Miss. Madeleine Violet', 'Seward, Mr. Frederic Kimber', 'Baclini, Miss. Marie Catherine', 'Peuchen, Major. Arthur Godfrey', 'West, Mr. Edwy Arthur', 'Hagland, Mr. Ingvald Olai Olsen', 'Foreman, Mr. Benjamin Laventall', 'Goldenberg, Mr. Samuel L', 'Peduzzi, Mr. Joseph', 'Jalsevac, Mr. Ivan', 'Millet, Mr. Francis Davis', 'Kenyon, Mrs. Frederick R (Marion)', 'Toomey, Miss. Ellen', \"O'Connor, Mr. Maurice\", 'Anderson, Mr. Harry', 'Morley, Mr. William', 'Gee, Mr. Arthur H', 'Milling, Mr. Jacob Christian', 'Maisner, Mr. Simon', 'Goncalves, Mr. Manuel Estanslas', 'Campbell, Mr. William', 'Smart, Mr. John Montgomery', 'Scanlan, Mr. James', 'Baclini, Miss. Helene Barbara', 'Keefe, Mr. Arthur', 'Cacic, Mr. Luka', 'West, Mrs. Edwy Arthur (Ada Mary Worth)', 'Jerwan, Mrs. Amin S (Marie Marthe Thuillard)', 'Strandberg, Miss. Ida Sofia', 'Clifford, Mr. George Quincy', 'Renouf, Mr. Peter Henry', 'Braund, Mr. Lewis Richard', 'Karlsson, Mr. Nils August', 'Hirvonen, Miss. Hildur E', 'Goodwin, Master. Harold Victor', 'Frost, Mr. Anthony Wood \"Archie\"', 'Rouse, Mr. Richard Henry', 'Turkula, Mrs. (Hedwig)', 'Bishop, Mr. Dickinson H', 'Lefebre, Miss. Jeannie', 'Hoyt, Mrs. Frederick Maxfield (Jane Anne Forby)', 'Kent, Mr. Edward Austin', 'Somerton, Mr. Francis William', 'Coutts, Master. Eden Leslie \"Neville\"', 'Hagland, Mr. Konrad Mathias Reiersen', 'Windelov, Mr. Einar', 'Molson, Mr. Harry Markland', 'Artagaveytia, Mr. Ramon', 'Stanley, Mr. Edward Roland', 'Yousseff, Mr. Gerious', 'Eustis, Miss. Elizabeth Mussey', 'Shellard, Mr. Frederick William', 'Allison, Mrs. Hudson J C (Bessie Waldo Daniels)', 'Svensson, Mr. Olof', 'Calic, Mr. Petar', 'Canavan, Miss. Mary', \"O'Sullivan, Miss. Bridget Mary\", 'Laitinen, Miss. Kristina Sofia', 'Maioni, Miss. Roberta', 'Penasco y Castellana, Mr. Victor de Satode', 'Quick, Mrs. Frederick Charles (Jane Richards)', 'Bradley, Mr. George (\"George Arthur Brayton\")', 'Olsen, Mr. Henry Margido', 'Lang, Mr. Fang', 'Daly, Mr. Eugene Patrick', 'Webber, Mr. James', 'McGough, Mr. James Robert', 'Rothschild, Mrs. Martin (Elizabeth L. Barrett)', 'Coleff, Mr. Satio', 'Walker, Mr. William Anderson', 'Lemore, Mrs. (Amelia Milley)', 'Ryan, Mr. Patrick', 'Angle, Mrs. William A (Florence \"Mary\" Agnes Hughes)', 'Pavlovic, Mr. Stefo', 'Perreault, Miss. Anne', 'Vovk, Mr. Janko', 'Lahoud, Mr. Sarkis', 'Hippach, Mrs. Louis Albert (Ida Sophia Fischer)', 'Kassem, Mr. Fared', 'Farrell, Mr. James', 'Ridsdale, Miss. Lucy', 'Farthing, Mr. John', 'Salonen, Mr. Johan Werner', 'Hocking, Mr. Richard George', 'Quick, Miss. Phyllis May', 'Toufik, Mr. Nakli', 'Elias, Mr. Joseph Jr', 'Peter, Mrs. Catherine (Catherine Rizk)', 'Cacic, Miss. Marija', 'Hart, Miss. Eva Miriam', 'Butt, Major. Archibald Willingham', 'LeRoy, Miss. Bertha', 'Risien, Mr. Samuel Beard', 'Frolicher, Miss. Hedwig Margaritha', 'Crosby, Miss. Harriet R', 'Andersson, Miss. Ingeborg Constanzia', 'Andersson, Miss. Sigrid Elisabeth', 'Beane, Mr. Edward', 'Douglas, Mr. Walter Donald', 'Nicholson, Mr. Arthur Ernest', 'Beane, Mrs. Edward (Ethel Clarke)', 'Padro y Manent, Mr. Julian', 'Goldsmith, Mr. Frank John', 'Davies, Master. John Morgan Jr', 'Thayer, Mr. John Borland Jr', 'Sharp, Mr. Percival James R', \"O'Brien, Mr. Timothy\", 'Leeni, Mr. Fahim (\"Philip Zenni\")', 'Ohman, Miss. Velin', 'Wright, Mr. George', 'Duff Gordon, Lady. (Lucille Christiana Sutherland) (\"Mrs Morgan\")', 'Robbins, Mr. Victor', 'Taussig, Mrs. Emil (Tillie Mandelbaum)', 'de Messemaeker, Mrs. Guillaume Joseph (Emma)', 'Morrow, Mr. Thomas Rowan', 'Sivic, Mr. Husein', 'Norman, Mr. Robert Douglas', 'Simmons, Mr. John', 'Meanwell, Miss. (Marion Ogden)', 'Davies, Mr. Alfred J', 'Stoytcheff, Mr. Ilia', 'Palsson, Mrs. Nils (Alma Cornelia Berglund)', 'Doharr, Mr. Tannous', 'Jonsson, Mr. Carl', 'Harris, Mr. George', 'Appleton, Mrs. Edward Dale (Charlotte Lamson)', 'Flynn, Mr. John Irwin (\"Irving\")', 'Kelly, Miss. Mary', 'Rush, Mr. Alfred George John', 'Patchett, Mr. George', 'Garside, Miss. Ethel', 'Silvey, Mrs. William Baird (Alice Munger)', 'Caram, Mrs. Joseph (Maria Elias)', 'Jussila, Mr. Eiriik', 'Christy, Miss. Julie Rachel', 'Thayer, Mrs. John Borland (Marian Longstreth Morris)', 'Downton, Mr. William James', 'Ross, Mr. John Hugo', 'Paulner, Mr. Uscher', 'Taussig, Miss. Ruth', 'Jarvis, Mr. John Denzil', 'Frolicher-Stehli, Mr. Maxmillian', 'Gilinski, Mr. Eliezer', 'Murdlin, Mr. Joseph', 'Rintamaki, Mr. Matti', 'Stephenson, Mrs. Walter Bertram (Martha Eustis)', 'Elsbury, Mr. William James', 'Bourke, Miss. Mary', 'Chapman, Mr. John Henry', 'Van Impe, Mr. Jean Baptiste', 'Leitch, Miss. Jessie Wills', 'Johnson, Mr. Alfred', 'Boulos, Mr. Hanna', 'Duff Gordon, Sir. Cosmo Edmund (\"Mr Morgan\")', 'Jacobsohn, Mrs. Sidney Samuel (Amy Frances Christy)', 'Slabenoff, Mr. Petco', 'Harrington, Mr. Charles H', 'Torber, Mr. Ernst William', 'Homer, Mr. Harry (\"Mr E Haven\")', 'Lindell, Mr. Edvard Bengtsson', 'Karaic, Mr. Milan', 'Daniel, Mr. Robert Williams', 'Laroche, Mrs. Joseph (Juliette Marie Louise Lafargue)', 'Shutes, Miss. Elizabeth W', 'Andersson, Mrs. Anders Johan (Alfrida Konstantia Brogren)', 'Jardin, Mr. Jose Neto', 'Murphy, Miss. Margaret Jane', 'Horgan, Mr. John', 'Brocklebank, Mr. William Alfred', 'Herman, Miss. Alice', 'Danbom, Mr. Ernst Gilbert', 'Lobb, Mrs. William Arthur (Cordelia K Stanlick)', 'Becker, Miss. Marion Louise', 'Gavey, Mr. Lawrence', 'Yasbeck, Mr. Antoni', 'Kimball, Mr. Edwin Nelson Jr', 'Nakid, Mr. Sahid', 'Hansen, Mr. Henry Damsgaard', 'Bowen, Mr. David John \"Dai\"', 'Sutton, Mr. Frederick', 'Kirkland, Rev. Charles Leonard', 'Longley, Miss. Gretchen Fiske', 'Bostandyeff, Mr. Guentcho', \"O'Connell, Mr. Patrick D\", 'Barkworth, Mr. Algernon Henry Wilson', 'Lundahl, Mr. Johan Svensson', 'Stahelin-Maeglin, Dr. Max', 'Parr, Mr. William Henry Marsh', 'Skoog, Miss. Mabel', 'Davis, Miss. Mary', 'Leinonen, Mr. Antti Gustaf', 'Collyer, Mr. Harvey', 'Panula, Mrs. Juha (Maria Emilia Ojala)', 'Thorneycroft, Mr. Percival', 'Jensen, Mr. Hans Peder', 'Sagesser, Mlle. Emma', 'Skoog, Miss. Margit Elizabeth', 'Foo, Mr. Choong', 'Baclini, Miss. Eugenie', 'Harper, Mr. Henry Sleeper', 'Cor, Mr. Liudevit', 'Simonius-Blumer, Col. Oberst Alfons', 'Willey, Mr. Edward', 'Stanley, Miss. Amy Zillah Elsie', 'Mitkoff, Mr. Mito', 'Doling, Miss. Elsie', 'Kalvik, Mr. Johannes Halvorsen', 'O\\'Leary, Miss. Hanora \"Norah\"', 'Hegarty, Miss. Hanora \"Nora\"', 'Hickman, Mr. Leonard Mark', 'Radeff, Mr. Alexander', 'Bourke, Mrs. John (Catherine)', 'Eitemiller, Mr. George Floyd', 'Newell, Mr. Arthur Webster', 'Frauenthal, Dr. Henry William', 'Badt, Mr. Mohamed', 'Colley, Mr. Edward Pomeroy', 'Coleff, Mr. Peju', 'Lindqvist, Mr. Eino William', 'Hickman, Mr. Lewis', 'Butler, Mr. Reginald Fenton', 'Rommetvedt, Mr. Knud Paust', 'Cook, Mr. Jacob', 'Taylor, Mrs. Elmer Zebley (Juliet Cummins Wright)', 'Brown, Mrs. Thomas William Solomon (Elizabeth Catherine Ford)', 'Davidson, Mr. Thornton', 'Mitchell, Mr. Henry Michael', 'Wilhelms, Mr. Charles', 'Watson, Mr. Ennis Hastings', 'Edvardsson, Mr. Gustaf Hjalmar', 'Sawyer, Mr. Frederick Charles', 'Turja, Miss. Anna Sofia', 'Goodwin, Mrs. Frederick (Augusta Tyler)', 'Cardeza, Mr. Thomas Drake Martinez', 'Peters, Miss. Katie', 'Hassab, Mr. Hammad', 'Olsvigen, Mr. Thor Anderson', 'Goodwin, Mr. Charles Edward', 'Brown, Mr. Thomas William Solomon', 'Laroche, Mr. Joseph Philippe Lemercier', 'Panula, Mr. Jaako Arnold', 'Dakic, Mr. Branko', 'Fischer, Mr. Eberhard Thelander', 'Madill, Miss. Georgette Alexandra', 'Dick, Mr. Albert Adrian', 'Karun, Miss. Manca', 'Lam, Mr. Ali', 'Saad, Mr. Khalil', 'Weir, Col. John', 'Chapman, Mr. Charles Henry', 'Kelly, Mr. James', 'Mullens, Miss. Katherine \"Katie\"', 'Thayer, Mr. John Borland', 'Humblen, Mr. Adolf Mathias Nicolai Olsen', 'Astor, Mrs. John Jacob (Madeleine Talmadge Force)', 'Silverthorne, Mr. Spencer Victor', 'Barbara, Miss. Saiide', 'Gallagher, Mr. Martin', 'Hansen, Mr. Henrik Juul', 'Morley, Mr. Henry Samuel (\"Mr Henry Marshall\")', 'Kelly, Mrs. Florence \"Fannie\"', 'Calderhead, Mr. Edward Pennington', 'Cleaver, Miss. Alice', 'Moubarek, Master. Halim Gonios (\"William George\")', 'Mayne, Mlle. Berthe Antonine (\"Mrs de Villiers\")', 'Klaber, Mr. Herman', 'Taylor, Mr. Elmer Zebley', 'Larsson, Mr. August Viktor', 'Greenberg, Mr. Samuel', 'Soholt, Mr. Peter Andreas Lauritz Andersen', 'Endres, Miss. Caroline Louise', 'Troutt, Miss. Edwina Celia \"Winnie\"', 'McEvoy, Mr. Michael', 'Johnson, Mr. Malkolm Joackim', 'Harper, Miss. Annie Jessie \"Nina\"', 'Jensen, Mr. Svend Lauritz', 'Gillespie, Mr. William Henry', 'Hodges, Mr. Henry Price', 'Chambers, Mr. Norman Campbell', 'Oreskovic, Mr. Luka', 'Renouf, Mrs. Peter Henry (Lillian Jefferys)', 'Mannion, Miss. Margareth', 'Bryhl, Mr. Kurt Arnold Gottfrid', 'Ilmakangas, Miss. Pieta Sofia', 'Allen, Miss. Elisabeth Walton', 'Hassan, Mr. Houssein G N', 'Knight, Mr. Robert J', 'Berriman, Mr. William John', 'Troupiansky, Mr. Moses Aaron', 'Williams, Mr. Leslie', 'Ford, Mrs. Edward (Margaret Ann Watson)', 'Lesurer, Mr. Gustave J', 'Ivanoff, Mr. Kanio', 'Nankoff, Mr. Minko', 'Hawksford, Mr. Walter James', 'Cavendish, Mr. Tyrell William', 'Ryerson, Miss. Susan Parker \"Suzette\"', 'McNamee, Mr. Neal', 'Stranden, Mr. Juho', 'Crosby, Capt. Edward Gifford', 'Abbott, Mr. Rossmore Edward', 'Sinkkonen, Miss. Anna', 'Marvin, Mr. Daniel Warner', 'Connaghton, Mr. Michael', 'Wells, Miss. Joan', 'Moor, Master. Meier', 'Vande Velde, Mr. Johannes Joseph', 'Jonkoff, Mr. Lalio', 'Herman, Mrs. Samuel (Jane Laver)', 'Hamalainen, Master. Viljo', 'Carlsson, Mr. August Sigfrid', 'Bailey, Mr. Percy Andrew', 'Theobald, Mr. Thomas Leonard', 'Rothes, the Countess. of (Lucy Noel Martha Dyer-Edwards)', 'Garfirth, Mr. John', 'Nirva, Mr. Iisakki Antino Aijo', 'Barah, Mr. Hanna Assi', 'Carter, Mrs. William Ernest (Lucile Polk)', 'Eklund, Mr. Hans Linus', 'Hogeboom, Mrs. John C (Anna Andrews)', 'Brewe, Dr. Arthur Jackson', 'Mangan, Miss. Mary', 'Moran, Mr. Daniel J', 'Gronnestad, Mr. Daniel Danielsen', 'Lievens, Mr. Rene Aime', 'Jensen, Mr. Niels Peder', 'Mack, Mrs. (Mary)', 'Elias, Mr. Dibo', 'Hocking, Mrs. Elizabeth (Eliza Needs)', 'Myhrman, Mr. Pehr Fabian Oliver Malkolm', 'Tobin, Mr. Roger', 'Emanuel, Miss. Virginia Ethel', 'Kilgannon, Mr. Thomas J', 'Robert, Mrs. Edward Scott (Elisabeth Walton McMillan)', 'Ayoub, Miss. Banoura', 'Dick, Mrs. Albert Adrian (Vera Gillespie)', 'Long, Mr. Milton Clyde', 'Johnston, Mr. Andrew G', 'Ali, Mr. William', 'Harmer, Mr. Abraham (David Lishin)', 'Sjoblom, Miss. Anna Sofia', 'Rice, Master. George Hugh', 'Dean, Master. Bertram Vere', 'Guggenheim, Mr. Benjamin', 'Keane, Mr. Andrew \"Andy\"', 'Gaskell, Mr. Alfred', 'Sage, Miss. Stella Anna', 'Hoyt, Mr. William Fisher', 'Dantcheff, Mr. Ristiu', 'Otter, Mr. Richard', 'Leader, Dr. Alice (Farnham)', 'Osman, Mrs. Mara', 'Ibrahim Shawah, Mr. Yousseff', 'Van Impe, Mrs. Jean Baptiste (Rosalie Paula Govaert)', 'Ponesell, Mr. Martin', 'Collyer, Mrs. Harvey (Charlotte Annie Tate)', 'Carter, Master. William Thornton II', 'Thomas, Master. Assad Alexander', 'Hedman, Mr. Oskar Arvid', 'Johansson, Mr. Karl Johan', 'Andrews, Mr. Thomas Jr', 'Pettersson, Miss. Ellen Natalia', 'Meyer, Mr. August', 'Chambers, Mrs. Norman Campbell (Bertha Griggs)', 'Alexander, Mr. William', 'Lester, Mr. James', 'Slemen, Mr. Richard James', 'Andersson, Miss. Ebba Iris Alfrida', 'Tomlin, Mr. Ernest Portage', 'Fry, Mr. Richard', 'Heininen, Miss. Wendla Maria', 'Mallet, Mr. Albert', 'Holm, Mr. John Fredrik Alexander', 'Skoog, Master. Karl Thorsten', 'Hays, Mrs. Charles Melville (Clara Jennings Gregg)', 'Lulic, Mr. Nikola', 'Reuchlin, Jonkheer. John George', 'Moor, Mrs. (Beila)', 'Panula, Master. Urho Abraham', 'Flynn, Mr. John', 'Lam, Mr. Len', 'Mallet, Master. Andre', 'McCormack, Mr. Thomas Joseph', 'Stone, Mrs. George Nelson (Martha Evelyn)', 'Yasbeck, Mrs. Antoni (Selini Alexander)', 'Richards, Master. George Sibley', 'Saad, Mr. Amin', 'Augustsson, Mr. Albert', 'Allum, Mr. Owen George', 'Compton, Miss. Sara Rebecca', 'Pasic, Mr. Jakob', 'Sirota, Mr. Maurice', 'Chip, Mr. Chang', 'Marechal, Mr. Pierre', 'Alhomaki, Mr. Ilmari Rudolf', 'Mudd, Mr. Thomas Charles', 'Serepeca, Miss. Augusta', 'Lemberopolous, Mr. Peter L', 'Culumovic, Mr. Jeso', 'Abbing, Mr. Anthony', 'Sage, Mr. Douglas Bullen', 'Markoff, Mr. Marin', 'Harper, Rev. John', 'Goldenberg, Mrs. Samuel L (Edwiga Grabowska)', 'Andersson, Master. Sigvard Harald Elias', 'Svensson, Mr. Johan', 'Boulos, Miss. Nourelain', 'Lines, Miss. Mary Conover', 'Carter, Mrs. Ernest Courtenay (Lilian Hughes)', 'Aks, Mrs. Sam (Leah Rosen)', 'Wick, Mrs. George Dennick (Mary Hitchcock)', 'Daly, Mr. Peter Denis ', 'Baclini, Mrs. Solomon (Latifa Qurban)', 'Razi, Mr. Raihed', 'Hansen, Mr. Claus Peter', 'Giles, Mr. Frederick Edward', 'Swift, Mrs. Frederick Joel (Margaret Welles Barron)', 'Sage, Miss. Dorothy Edith \"Dolly\"', 'Gill, Mr. John William', 'Bystrom, Mrs. (Karolina)', 'Duran y More, Miss. Asuncion', 'Roebling, Mr. Washington Augustus II', 'van Melkebeke, Mr. Philemon', 'Johnson, Master. Harold Theodor', 'Balkic, Mr. Cerin', 'Beckwith, Mrs. Richard Leonard (Sallie Monypeny)', 'Carlsson, Mr. Frans Olof', 'Vander Cruyssen, Mr. Victor', 'Abelson, Mrs. Samuel (Hannah Wizosky)', 'Najib, Miss. Adele Kiamie \"Jane\"', 'Gustafsson, Mr. Alfred Ossian', 'Petroff, Mr. Nedelio', 'Laleff, Mr. Kristo', 'Potter, Mrs. Thomas Jr (Lily Alexenia Wilson)', 'Shelley, Mrs. William (Imanita Parrish Hall)', 'Markun, Mr. Johann', 'Dahlberg, Miss. Gerda Ulrika', 'Banfield, Mr. Frederick James', 'Sutehall, Mr. Henry Jr', 'Rice, Mrs. William (Margaret Norton)', 'Montvila, Rev. Juozas', 'Graham, Miss. Margaret Edith', 'Johnston, Miss. Catherine Helen \"Carrie\"', 'Behr, Mr. Karl Howell', 'Dooley, Mr. Patrick']\n",
            "\n",
            "Sex - Unique Values (2):\n",
            "Sex\n",
            "male      577\n",
            "female    314\n",
            "Name: count, dtype: int64\n",
            "  Potential issues: []\n",
            "\n",
            "Ticket - Unique Values (681):\n",
            "Ticket\n",
            "347082              7\n",
            "1601                7\n",
            "CA. 2343            7\n",
            "3101295             6\n",
            "CA 2144             6\n",
            "                   ..\n",
            "PC 17590            1\n",
            "17463               1\n",
            "330877              1\n",
            "373450              1\n",
            "STON/O2. 3101282    1\n",
            "Name: count, Length: 681, dtype: int64\n",
            "  Potential issues: ['A/5 21171', 'PC 17599', 'STON/O2. 3101282', 'PP 9549', 'A/5. 2151', 'PC 17601', 'PC 17569', 'C.A. 24579', 'PC 17604', 'A./5. 2152', 'SC/Paris 2123', 'S.C./A.4. 23567', 'A/4. 39886', 'PC 17572', 'C.A. 31026', 'C.A. 34651', 'CA 2144', 'PC 17605', 'C.A. 29395', 'S.P. 3464', 'C.A. 33111', 'S.O.C. 14879', 'SO/C 14885', 'W./C. 6608', 'SOTON/OQ 392086', 'W.E.P. 5734', 'C.A. 2315', 'PC 17754', 'PC 17759', 'STON/O 2. 3101294', 'PC 17558', 'A4. 54510', 'C 17369', 'SOTON/O.Q. 3101307', 'A/5. 3337', 'C.A. 29178', 'SC/PARIS 2133', 'PC 17593', 'STON/O2. 3101279', 'C.A. 33112', 'S.O.P. 1166', 'A.5. 11206', 'A/5. 851', 'Fa 265302', 'PC 17597', 'SOTON/OQ 392090', 'CA. 2343', 'C.A. 33595', 'PC 17318', 'STON/O 2. 3101280', 'PC 17595', 'SC/PARIS 2131', 'PC 17610', 'A/5 3540', 'SOTON/O.Q. 3101311', 'F.C.C. 13528', 'A/5 21174', 'STON/O2. 3101283', 'W/C 14208', 'SOTON/OQ 392089', 'PP 4348', 'SW/PP 751', 'A/5 21173', 'C.A. 29566', 'W./C. 6609', 'C.A. 31921', 'SCO/W 1585', 'W./C. 14263', 'STON/O 2. 3101275', 'A/5. 3336', 'PC 17585', 'PC 17755', 'C.A. 17248', 'PC 17582', 'PC 17760', 'PC 17596', 'C.A. 2673', 'A/5. 10482', 'SC/Paris 2163', 'PC 17612', 'A/5 2466', 'PC 17758', 'P/PP 3381', 'PC 17485', 'PC 17608', 'F.C.C. 13529', 'A/5 21172', 'PC 17611', 'C.A. 37671', 'SC/PARIS 2167', 'SOTON/O.Q. 3101310', 'C 7076', 'PC 17477', 'C 7077', 'PC 17757', 'STON/O 2. 3101293', 'SC 1748', 'STON/O 2. 3101289', 'STON/O 2. 3101269', 'A/5. 13032', 'A/4. 34244', 'SOTON/O.Q. 392078', 'SC/AH 3085', 'STON/O 2. 3101274', 'C.A. 18723', 'A/5 2817', 'F.C.C. 13531', 'A/S 2816', 'SOTON/O.Q. 3101306', 'SC/AH Basle 541', 'A/5 3594', 'A.5. 18509', 'SOTON/OQ 3101317', 'PC 17609', 'A/4 45380', 'C.A. 6212', 'C 4001', 'SOTON/OQ 3101316', 'PC 17473', 'PC 17603', 'C.A. 34260', 'W./C. 14258', 'PC 17483', 'PC 17761', 'WE/P 5735', 'SC/PARIS 2146', 'SOTON/OQ 392082', 'SOTON/O.Q. 392087', 'A/4 48871', 'S.W./PP 752', 'PC 17474', 'A/4. 20589', 'STON/O 2. 3101286', 'A./5. 3235', 'STON/O 2. 3101273', 'A/5 3902', 'SC/AH 29037', 'SOTON/O.Q. 3101305', 'STON/O 2. 3101292', 'S.O./P.P. 751', 'CA. 2314', 'STON/O 2. 3101285', 'A/5 3536', 'F.C. 12750', 'C.A. 24580', 'PC 17475', 'PC 17476', 'PC 17482', 'STON/O2. 3101271', 'STON/O 2. 3101288', 'SOTON/O2 3101272', 'S.O./P.P. 3', 'W./C. 6607', 'SOTON/O.Q. 3101312', 'PC 17600', 'STON/O2. 3101290', 'S.C./PARIS 2079', 'C 7075', 'PC 17756', 'SOTON/O2 3101287', 'C.A. 5547', 'PC 17592', 'SC/PARIS 2149', 'PC 17590', 'C.A./SOTON 34068', 'SOTON/OQ 392076']\n",
            "\n",
            "Cabin - Unique Values (147):\n",
            "Cabin\n",
            "G6             4\n",
            "C23 C25 C27    4\n",
            "B96 B98        4\n",
            "F2             3\n",
            "D              3\n",
            "              ..\n",
            "E17            1\n",
            "A24            1\n",
            "C50            1\n",
            "B42            1\n",
            "C148           1\n",
            "Name: count, Length: 147, dtype: int64\n",
            "  Potential issues: ['C23 C25 C27', 'F G73', 'D10 D12', 'B58 B60', 'F E69', 'C22 C26', 'B57 B59 B63 B66', 'B96 B98', 'B51 B53 B55', 'F G63', 'C62 C64', 'B82 B84']\n",
            "\n",
            "Embarked - Unique Values (3):\n",
            "Embarked\n",
            "S    644\n",
            "C    168\n",
            "Q     77\n",
            "Name: count, dtype: int64\n",
            "  Potential issues: []\n"
          ]
        }
      ]
    },
    {
      "cell_type": "markdown",
      "source": [
        "## 🧠 **Purpose of the Code**\n",
        "\n",
        "This script **analyzes all categorical (object) columns** in the Titanic dataset for:\n",
        "\n",
        "* The frequency of each unique value.\n",
        "* Potential inconsistencies like:\n",
        "\n",
        "  * Extra spaces before/after the text.\n",
        "  * Embedded spaces (e.g., `\" Q \"` instead of `\"Q\"`).\n",
        "\n",
        "This helps you **clean and standardize categorical data** before modeling.\n",
        "\n",
        "---\n",
        "\n",
        "## 🔍 **Line-by-Line Explanation**\n",
        "\n",
        "---\n",
        "\n",
        "```python\n",
        "# Analyze categorical columns for inconsistencies\n",
        "print(\"\\nCategorical Data Analysis:\")\n",
        "```\n",
        "\n",
        "Prints a heading to indicate you’re starting the analysis of categorical columns.\n",
        "\n",
        "---\n",
        "\n",
        "```python\n",
        "categorical_cols = titanic.select_dtypes(include=['object']).columns\n",
        "```\n",
        "\n",
        "* Selects all columns of type `object` (text / mixed types).\n",
        "* Stores their names in the `categorical_cols` variable.\n",
        "\n",
        "---\n",
        "\n",
        "```python\n",
        "for col in categorical_cols:\n",
        "```\n",
        "\n",
        "Loops through each categorical column name.\n",
        "\n",
        "---\n",
        "\n",
        "```python\n",
        "    print(f\"\\n{col} - Unique Values ({titanic[col].nunique()}):\")\n",
        "```\n",
        "\n",
        "* Prints the column name.\n",
        "* Also shows how many **distinct non-null values** (`nunique()`).\n",
        "\n",
        "---\n",
        "\n",
        "```python\n",
        "    value_counts = titanic[col].value_counts()\n",
        "```\n",
        "\n",
        "* Computes the **frequency count** of each unique value in the column.\n",
        "* This makes it easier to spot typos or inconsistencies (e.g., `\"male\"` vs `\" Male \"`).\n",
        "\n",
        "---\n",
        "\n",
        "```python\n",
        "    print(value_counts)\n",
        "```\n",
        "\n",
        "* Prints the counts of each unique value.\n",
        "\n",
        "---\n",
        "\n",
        "```python\n",
        "    # Check for potential inconsistencies (case sensitivity, extra spaces)\n",
        "    unique_values = titanic[col].dropna().unique()\n",
        "```\n",
        "\n",
        "* Gets all **unique non-null values** in the column.\n",
        "\n",
        "---\n",
        "\n",
        "```python\n",
        "    print(f\"  Potential issues: {[val for val in unique_values if ' ' in str(val) or str(val) != str(val).strip()]}\")\n",
        "```\n",
        "\n",
        "**This part is key:**\n",
        "\n",
        "* **List comprehension** loops through each unique value (`val`).\n",
        "* For each value:\n",
        "\n",
        "  * `str(val) != str(val).strip()`: Checks if there are leading/trailing spaces.\n",
        "  * `' '` in `str(val)`: Checks if there is at least one space character anywhere.\n",
        "* **If either condition is True**, that value is listed as a **potential issue**.\n",
        "* The list is printed after “Potential issues:”.\n",
        "\n",
        "This helps catch things like:\n",
        "\n",
        "* `\" Q \"` (leading/trailing space)\n",
        "* `\"male \"` (trailing space)\n",
        "* `\"f emale\"` (unexpected space in the middle)\n",
        "\n",
        "---\n",
        "\n",
        "## 🧪 **Example Output**\n",
        "\n",
        "Below is a *simulated example* of what your output could look like:\n",
        "\n",
        "```\n",
        "Categorical Data Analysis:\n",
        "\n",
        "Name - Unique Values (891):\n",
        "Braund, Mr. Owen Harris                                  1\n",
        "Cumings, Mrs. John Bradley (Florence Briggs Thayer)     1\n",
        "...\n",
        "  Potential issues: []\n",
        "\n",
        "Sex - Unique Values (2):\n",
        "male      577\n",
        "female    314\n",
        "  Potential issues: []\n",
        "\n",
        "Embarked - Unique Values (3):\n",
        "S     644\n",
        "C     168\n",
        "Q      77\n",
        " Q      2\n",
        "S      1\n",
        "  Potential issues: [' Q ']\n",
        "```\n",
        "\n",
        "In this example:\n",
        "\n",
        "* `Embarked` has `' Q '` (with spaces) in addition to `'Q'`.\n",
        "* The script flagged `' Q '` as a potential issue for cleaning.\n",
        "\n",
        "---\n",
        "\n",
        "## ✅ **Why This Is Useful**\n",
        "\n",
        "This approach helps you:\n",
        "\n",
        "* **Detect typos or formatting inconsistencies**.\n",
        "* Clean and standardize categories (e.g., `.str.strip()` or `.str.upper()`).\n",
        "* Avoid problems when encoding categorical variables later.\n"
      ],
      "metadata": {
        "id": "6625rp9TvyVc"
      }
    },
    {
      "cell_type": "markdown",
      "source": [
        "# Understanding Types of Missing Data"
      ],
      "metadata": {
        "id": "B9UAm-E-wJwV"
      }
    },
    {
      "cell_type": "code",
      "source": [
        "# Analyze missing data patterns\n",
        "def analyze_missing_patterns(df):\n",
        "    \"\"\"\n",
        "    Analyze patterns of missing data to understand the mechanism\n",
        "    \"\"\"\n",
        "    missing_data = df.isnull().sum()\n",
        "    missing_percent = (missing_data / len(df)) * 100\n",
        "\n",
        "    missing_table = pd.DataFrame({\n",
        "        'Missing_Count': missing_data,\n",
        "        'Missing_Percentage': missing_percent\n",
        "    }).sort_values('Missing_Count', ascending=False)\n",
        "\n",
        "    print(\"Missing Data Summary:\")\n",
        "    print(missing_table[missing_table['Missing_Count'] > 0])\n",
        "\n",
        "    # Check if missing data is correlated\n",
        "    print(\"\\nMissing Data Correlation:\")\n",
        "    missing_corr = df.isnull().corr()\n",
        "    print(missing_corr.stack()[missing_corr.abs().stack() > 0.1])\n",
        "\n",
        "    return missing_table\n",
        "\n",
        "missing_summary = analyze_missing_patterns(titanic)"
      ],
      "metadata": {
        "id": "iPrfVjE8v-UR",
        "colab": {
          "base_uri": "https://localhost:8080/"
        },
        "outputId": "0ad64a58-49a2-4f77-8fd7-d9ec85d29ba8"
      },
      "execution_count": null,
      "outputs": [
        {
          "output_type": "stream",
          "name": "stdout",
          "text": [
            "Missing Data Summary:\n",
            "          Missing_Count  Missing_Percentage\n",
            "Cabin               687           77.104377\n",
            "Age                 177           19.865320\n",
            "Embarked              2            0.224467\n",
            "\n",
            "Missing Data Correlation:\n",
            "Age       Age         1.000000\n",
            "          Cabin       0.144111\n",
            "Cabin     Age         0.144111\n",
            "          Cabin       1.000000\n",
            "Embarked  Embarked    1.000000\n",
            "dtype: float64\n"
          ]
        }
      ]
    },
    {
      "cell_type": "markdown",
      "source": [
        "## 🔍 High-Level Purpose\n",
        "\n",
        "The function:\n",
        "\n",
        "1. **Counts missing values** per column.\n",
        "2. **Calculates missing percentage**.\n",
        "3. **Prints a summary table** of columns with missing data.\n",
        "4. **Checks correlation between missingness of different columns**.\n",
        "5. **Returns a table** showing missing counts and percentages.\n",
        "\n",
        "---\n",
        "\n",
        "## 🧠 Line-by-Line Explanation\n",
        "\n",
        "```python\n",
        "def analyze_missing_patterns(df):\n",
        "    \"\"\"\n",
        "    Analyze patterns of missing data to understand the mechanism\n",
        "    \"\"\"\n",
        "```\n",
        "\n",
        "* A function definition.\n",
        "* Purpose: identify how and where missing data appears.\n",
        "* Comment refers to missing data mechanisms like MCAR, MAR, MNAR (see note below).\n",
        "\n",
        "---\n",
        "\n",
        "### 🔢 1. Count missing values and percentage\n",
        "\n",
        "```python\n",
        "    missing_data = df.isnull().sum()\n",
        "```\n",
        "\n",
        "* `df.isnull()` returns a Boolean DataFrame where `True` indicates missing values.\n",
        "* `.sum()` counts `True`s (i.e., missing values) for each column.\n",
        "\n",
        "```python\n",
        "    missing_percent = (missing_data / len(df)) * 100\n",
        "```\n",
        "\n",
        "* Calculates percentage of missing values in each column.\n",
        "\n",
        "---\n",
        "\n",
        "### 📋 2. Create and sort missing summary table\n",
        "\n",
        "```python\n",
        "    missing_table = pd.DataFrame({\n",
        "        'Missing_Count': missing_data,\n",
        "        'Missing_Percentage': missing_percent\n",
        "    }).sort_values('Missing_Count', ascending=False)\n",
        "```\n",
        "\n",
        "* Constructs a DataFrame (`missing_table`) with:\n",
        "\n",
        "  * Number of missing values.\n",
        "  * Percent of missing values.\n",
        "* Sorted by count in descending order for visibility.\n",
        "\n",
        "---\n",
        "\n",
        "### 📤 3. Print summary for columns with missing values\n",
        "\n",
        "```python\n",
        "    print(\"Missing Data Summary:\")\n",
        "    print(missing_table[missing_table['Missing_Count'] > 0])\n",
        "```\n",
        "\n",
        "* Prints only the rows where missing count is greater than zero.\n",
        "* Skips columns with no missing data.\n",
        "\n",
        "---\n",
        "\n",
        "### 🔗 4. Check for correlations in missingness\n",
        "\n",
        "```python\n",
        "    print(\"\\nMissing Data Correlation:\")\n",
        "    missing_corr = df.isnull().corr()\n",
        "```\n",
        "\n",
        "* Computes correlation of the missingness between columns.\n",
        "* `df.isnull()` gives a Boolean mask (True for NaN), and `.corr()` checks correlation between these masks.\n",
        "* A high correlation (close to 1 or -1) means **if one column is missing, another is also likely missing**.\n",
        "\n",
        "```python\n",
        "    print(missing_corr.stack()[missing_corr.abs().stack() > 0.1])\n",
        "```\n",
        "\n",
        "* Flattens the correlation matrix into a Series with `.stack()`.\n",
        "* Filters pairs with absolute correlation > 0.1 (i.e., potentially meaningful).\n",
        "\n",
        "---\n",
        "\n",
        "### 📤 5. Return the missing summary\n",
        "\n",
        "```python\n",
        "    return missing_table\n",
        "```\n",
        "\n",
        "* Returns the full table (including columns with 0% missing) for further inspection.\n",
        "\n",
        "---\n",
        "\n",
        "### 🧪 Usage\n",
        "\n",
        "```python\n",
        "missing_summary = analyze_missing_patterns(titanic)\n",
        "```\n",
        "\n",
        "* Applies the function to a Titanic dataset.\n",
        "* Stores the missing summary table in `missing_summary`.\n",
        "\n",
        "---\n",
        "\n",
        "## ✅ What It Helps With\n",
        "\n",
        "* Identifies **which columns need imputation**.\n",
        "* Reveals **non-random patterns** of missingness.\n",
        "* Useful before applying data cleaning, imputation, or modeling.\n",
        "\n",
        "---\n",
        "\n",
        "## 💡 A Note on Missing Data Mechanisms\n",
        "\n",
        "The docstring mentions “understand the mechanism,” referring to:\n",
        "\n",
        "* **MCAR** (Missing Completely At Random)\n",
        "* **MAR** (Missing At Random — depends on other observed variables)\n",
        "* **MNAR** (Missing Not At Random — depends on unobserved data)\n",
        "\n",
        "This function helps explore whether missingness is related to other columns (a clue that it's **not MCAR**).\n",
        "\n",
        "---"
      ],
      "metadata": {
        "id": "p8QsSbvhz4Zh"
      }
    },
    {
      "cell_type": "markdown",
      "source": [
        "Great question! Let's take that specific line apart slowly and clearly:\n",
        "\n",
        "---\n",
        "\n",
        "## 👀 The Line in Question\n",
        "\n",
        "```python\n",
        "print(missing_corr.stack()[missing_corr.abs().stack() > 0.1])\n",
        "```\n",
        "\n",
        "---\n",
        "\n",
        "## 🔹 What’s Happening in Steps\n",
        "\n",
        "Let’s deconstruct this line step-by-step:\n",
        "\n",
        "### 1. `df.isnull().corr()`\n",
        "\n",
        "* First, we compute:\n",
        "\n",
        "  ```python\n",
        "  missing_corr = df.isnull().corr()\n",
        "  ```\n",
        "\n",
        "  This gives a **correlation matrix** of how missing values are related between columns.\n",
        "\n",
        "  Each value represents **how likely the missingness in one column correlates with missingness in another**.\n",
        "\n",
        "  So `missing_corr[\"Age\"][\"Cabin\"] = 0.6` would mean that rows where `Age` is missing often also have `Cabin` missing.\n",
        "\n",
        "---\n",
        "\n",
        "### 2. `missing_corr.stack()`\n",
        "\n",
        "This reshapes the correlation matrix from a square table to a flat `Series`.\n",
        "\n",
        "Example:\n",
        "\n",
        "```python\n",
        "missing_corr =\n",
        "          Age   Cabin   Fare\n",
        "Age      1.00   0.60    0.02\n",
        "Cabin    0.60   1.00    0.10\n",
        "Fare     0.02   0.10    1.00\n",
        "\n",
        "missing_corr.stack() =\n",
        "Age    Age      1.00\n",
        "       Cabin    0.60\n",
        "       Fare     0.02\n",
        "Cabin  Age      0.60\n",
        "       Cabin    1.00\n",
        "       Fare     0.10\n",
        "Fare   Age      0.02\n",
        "       Cabin    0.10\n",
        "       Fare     1.00\n",
        "dtype: float64\n",
        "```\n",
        "\n",
        "Now we can **filter this flat structure easily**.\n",
        "\n",
        "---\n",
        "\n",
        "### 3. `missing_corr.abs().stack() > 0.1`\n",
        "\n",
        "* First, `missing_corr.abs()` takes the absolute value (so negative correlations are treated equally).\n",
        "* `.stack()` flattens again.\n",
        "* `> 0.1` filters only correlations where the **absolute value is greater than 0.1**.\n",
        "\n",
        "So only entries like:\n",
        "\n",
        "* 0.15\n",
        "* -0.32\n",
        "* 0.90\n",
        "  will be kept. All correlations below or equal to 0.1 will be ignored.\n",
        "\n",
        "---\n",
        "\n",
        "### 4. Why `0.1`?\n",
        "\n",
        "That's the **threshold** for \"significant-enough\" correlation.\n",
        "\n",
        "* It’s **arbitrary but reasonable**. Not too low (to avoid noise), not too high (to catch weak but possibly meaningful correlations).\n",
        "* In statistics, correlations:\n",
        "\n",
        "  * < 0.1: very weak (often ignored)\n",
        "  * 0.1 to 0.3: weak\n",
        "  * 0.3 to 0.5: moderate\n",
        "  * > 0.5: strong\n",
        "\n",
        "Using `0.1` as the cutoff helps **filter out trivial correlations** while keeping ones worth examining.\n",
        "\n",
        "But you can change this threshold if you want:\n",
        "\n",
        "```python\n",
        "threshold = 0.2\n",
        "print(missing_corr.stack()[missing_corr.abs().stack() > threshold])\n",
        "```\n",
        "\n",
        "---\n",
        "\n",
        "### 5. What the Whole Line Does\n",
        "\n",
        "```python\n",
        "print(missing_corr.stack()[missing_corr.abs().stack() > 0.1])\n",
        "```\n",
        "\n",
        "* Prints only those **column pairs** where the **missingness is correlated** above 0.1.\n",
        "* Helps detect if there are dependencies in missing patterns.\n",
        "\n",
        "Example output might look like:\n",
        "\n",
        "```\n",
        "Age    Cabin     0.61\n",
        "Cabin  Age       0.61\n",
        "```\n",
        "\n",
        "---\n",
        "\n",
        "## 🧠 Why This Matters\n",
        "\n",
        "* If two variables are often missing together (e.g. `Age` and `Cabin`), it may not be random.\n",
        "* Suggests MAR (Missing At Random), which informs your choice of **imputation strategy** or **modeling technique**.\n",
        "\n",
        "---\n",
        "\n",
        "## ✅ TL;DR\n",
        "\n",
        "* `0.1` is a threshold to **filter out weak correlations** between missing values.\n",
        "* The line prints only column pairs with **non-trivial correlations** in missingness.\n",
        "* You can adjust the `0.1` to be more strict (e.g., `0.3`) or more lenient (e.g., `0.05`) depending on how sensitive you want your analysis.\n",
        "\n",
        "---"
      ],
      "metadata": {
        "id": "xrdsJrtF00Yf"
      }
    },
    {
      "cell_type": "markdown",
      "source": [
        "# Handling Missing Values"
      ],
      "metadata": {
        "id": "JgPW85fIHhUm"
      }
    },
    {
      "cell_type": "markdown",
      "source": [
        "Missing values are one of the most common data quality issues. This step teaches students various strategies for handling missing data, from simple deletion to sophisticated imputation methods.\n",
        "\n",
        "Learning Objectives\n",
        "\n",
        "* Understand different types of missing data (MCAR, MAR, MNAR)\n",
        "* Learn when to delete vs. impute missing values\n",
        "* Master various imputation techniques\n",
        "* Validate imputation results"
      ],
      "metadata": {
        "id": "mqS0L6YqHnAN"
      }
    },
    {
      "cell_type": "code",
      "source": [
        "# Analyze missing data patterns\n",
        "def analyze_missing_patterns(df):\n",
        "    \"\"\"\n",
        "    Analyze patterns of missing data to understand the mechanism\n",
        "    \"\"\"\n",
        "    missing_data = df.isnull().sum()\n",
        "    missing_percent = (missing_data / len(df)) * 100\n",
        "\n",
        "    missing_table = pd.DataFrame({\n",
        "        'Missing_Count': missing_data,\n",
        "        'Missing_Percentage': missing_percent\n",
        "    }).sort_values('Missing_Count', ascending=False)\n",
        "\n",
        "    print(\"Missing Data Summary:\")\n",
        "    print(missing_table[missing_table['Missing_Count'] > 0])\n",
        "\n",
        "    # Check if missing data is correlated\n",
        "    print(\"\\nMissing Data Correlation:\")\n",
        "    missing_corr = df.isnull().corr()\n",
        "    print(missing_corr[missing_corr.abs() > 0.1])\n",
        "\n",
        "    return missing_table\n",
        "\n",
        "missing_summary = analyze_missing_patterns(titanic)"
      ],
      "metadata": {
        "id": "dwSXMa69Hl82",
        "colab": {
          "base_uri": "https://localhost:8080/"
        },
        "outputId": "cde55907-8a30-473a-e846-07f083c692af"
      },
      "execution_count": null,
      "outputs": [
        {
          "output_type": "stream",
          "name": "stdout",
          "text": [
            "Missing Data Summary:\n",
            "          Missing_Count  Missing_Percentage\n",
            "Cabin               687           77.104377\n",
            "Age                 177           19.865320\n",
            "Embarked              2            0.224467\n",
            "\n",
            "Missing Data Correlation:\n",
            "             PassengerId  Survived  Pclass  Name  Sex       Age  SibSp  Parch  \\\n",
            "PassengerId          NaN       NaN     NaN   NaN  NaN       NaN    NaN    NaN   \n",
            "Survived             NaN       NaN     NaN   NaN  NaN       NaN    NaN    NaN   \n",
            "Pclass               NaN       NaN     NaN   NaN  NaN       NaN    NaN    NaN   \n",
            "Name                 NaN       NaN     NaN   NaN  NaN       NaN    NaN    NaN   \n",
            "Sex                  NaN       NaN     NaN   NaN  NaN       NaN    NaN    NaN   \n",
            "Age                  NaN       NaN     NaN   NaN  NaN  1.000000    NaN    NaN   \n",
            "SibSp                NaN       NaN     NaN   NaN  NaN       NaN    NaN    NaN   \n",
            "Parch                NaN       NaN     NaN   NaN  NaN       NaN    NaN    NaN   \n",
            "Ticket               NaN       NaN     NaN   NaN  NaN       NaN    NaN    NaN   \n",
            "Fare                 NaN       NaN     NaN   NaN  NaN       NaN    NaN    NaN   \n",
            "Cabin                NaN       NaN     NaN   NaN  NaN  0.144111    NaN    NaN   \n",
            "Embarked             NaN       NaN     NaN   NaN  NaN       NaN    NaN    NaN   \n",
            "\n",
            "             Ticket  Fare     Cabin  Embarked  \n",
            "PassengerId     NaN   NaN       NaN       NaN  \n",
            "Survived        NaN   NaN       NaN       NaN  \n",
            "Pclass          NaN   NaN       NaN       NaN  \n",
            "Name            NaN   NaN       NaN       NaN  \n",
            "Sex             NaN   NaN       NaN       NaN  \n",
            "Age             NaN   NaN  0.144111       NaN  \n",
            "SibSp           NaN   NaN       NaN       NaN  \n",
            "Parch           NaN   NaN       NaN       NaN  \n",
            "Ticket          NaN   NaN       NaN       NaN  \n",
            "Fare            NaN   NaN       NaN       NaN  \n",
            "Cabin           NaN   NaN  1.000000       NaN  \n",
            "Embarked        NaN   NaN       NaN       1.0  \n"
          ]
        }
      ]
    },
    {
      "cell_type": "markdown",
      "source": [
        "## 🎯 **Purpose of This Code**\n",
        "\n",
        "This function **analyzes missing data** in your DataFrame (`titanic` in your example) to help you:\n",
        "\n",
        "* See **how many values are missing per column**.\n",
        "* See **what percentage of data is missing per column**.\n",
        "* Check **whether missingness in different columns is correlated** (e.g., if `Age` is missing, is `Cabin` also often missing?).\n",
        "\n",
        "---\n",
        "\n",
        "## 🧩 **Line-by-Line Explanation**\n",
        "\n",
        "### 1️⃣ Function Definition\n",
        "\n",
        "```python\n",
        "def analyze_missing_patterns(df):\n",
        "    \"\"\"\n",
        "    Analyze patterns of missing data to understand the mechanism\n",
        "    \"\"\"\n",
        "```\n",
        "\n",
        "* Defines a function named `analyze_missing_patterns`.\n",
        "* Takes one argument: a pandas DataFrame `df`.\n",
        "* Docstring explains what it does.\n",
        "\n",
        "---\n",
        "\n",
        "### 2️⃣ Count Missing Values Per Column\n",
        "\n",
        "```python\n",
        "missing_data = df.isnull().sum()\n",
        "```\n",
        "\n",
        "* `df.isnull()` creates a DataFrame of True/False indicating where values are missing.\n",
        "* `.sum()` sums over each column (True = 1, False = 0), giving you **total missing counts per column**.\n",
        "\n",
        "---\n",
        "\n",
        "### 3️⃣ Calculate Missing Percentage\n",
        "\n",
        "```python\n",
        "missing_percent = (missing_data / len(df)) * 100\n",
        "```\n",
        "\n",
        "* Divides missing counts by the total number of rows, and multiplies by 100.\n",
        "* Gives you **percentage of missing values** per column.\n",
        "\n",
        "---\n",
        "\n",
        "### 4️⃣ Create a Summary Table\n",
        "\n",
        "```python\n",
        "missing_table = pd.DataFrame({\n",
        "    'Missing_Count': missing_data,\n",
        "    'Missing_Percentage': missing_percent\n",
        "}).sort_values('Missing_Count', ascending=False)\n",
        "```\n",
        "\n",
        "* Creates a new DataFrame (`missing_table`) with:\n",
        "\n",
        "  * `Missing_Count`: how many missing values.\n",
        "  * `Missing_Percentage`: percent missing.\n",
        "* Sorts rows by `Missing_Count` in descending order so the most-missing columns are on top.\n",
        "\n",
        "---\n",
        "\n",
        "### 5️⃣ Print the Missing Data Summary\n",
        "\n",
        "```python\n",
        "print(\"Missing Data Summary:\")\n",
        "print(missing_table[missing_table['Missing_Count'] > 0])\n",
        "```\n",
        "\n",
        "* Filters to show **only columns where there is missing data**.\n",
        "* Prints this summary nicely.\n",
        "\n",
        "---\n",
        "\n",
        "### 6️⃣ Check Missingness Correlation\n",
        "\n",
        "```python\n",
        "print(\"\\nMissing Data Correlation:\")\n",
        "missing_corr = df.isnull().corr()\n",
        "print(missing_corr.loc[missing_corr.abs() > 0.1])\n",
        "```\n",
        "\n",
        "* **`df.isnull()`** again makes a True/False DataFrame indicating missing values.\n",
        "* `.corr()` computes correlation between columns of missingness.\n",
        "\n",
        "  * E.g., does missing `Cabin` correlate with missing `Age`?\n",
        "* `.loc[missing_corr.abs() > 0.1]` filters to show only correlations with **absolute value > 0.1** (to avoid showing all near-zero noise).\n",
        "* This helps you detect patterns:\n",
        "\n",
        "  * If two columns are often missing together, you might impute or drop them together.\n",
        "  * Could indicate some systematic cause (like missing info for 3rd-class passengers).\n",
        "\n",
        "---\n",
        "\n",
        "### 7️⃣ Return the Table\n",
        "\n",
        "```python\n",
        "return missing_table\n",
        "```\n",
        "\n",
        "* Returns the summary DataFrame so you can further inspect or plot it later.\n",
        "\n",
        "---\n",
        "\n",
        "### 8️⃣ Call the Function\n",
        "\n",
        "```python\n",
        "missing_summary = analyze_missing_patterns(titanic)\n",
        "```\n",
        "\n",
        "* Runs the function on your Titanic dataset.\n",
        "* Stores the output table in `missing_summary`.\n",
        "\n",
        "---\n",
        "\n",
        "## ✅ **Example Output (for Titanic)**\n",
        "\n",
        "```\n",
        "Missing Data Summary:\n",
        "         Missing_Count  Missing_Percentage\n",
        "Cabin              687            77.104377\n",
        "Age                177            19.865320\n",
        "Embarked             2             0.224467\n",
        "\n",
        "Missing Data Correlation:\n",
        "            Age     Cabin  Embarked\n",
        "Age         1.0  0.188799       NaN\n",
        "Cabin  0.188799       1.0       NaN\n",
        "```\n",
        "\n",
        "---\n",
        "\n",
        "✅ **In short, what does this code give you?**\n",
        "\n",
        "* A clear table of:\n",
        "\n",
        "  * Which columns have missing data.\n",
        "  * How much is missing.\n",
        "* Whether missingness is **related across columns** (very useful for deciding how to clean or impute).\n"
      ],
      "metadata": {
        "id": "xZkqArSAJkmz"
      }
    },
    {
      "cell_type": "markdown",
      "source": [
        "# Decision Framework: Delete vs. Impute"
      ],
      "metadata": {
        "id": "K46g5j0AJvgY"
      }
    },
    {
      "cell_type": "code",
      "source": [
        "def missing_data_strategy(df, column, threshold=0.5):\n",
        "    \"\"\"\n",
        "    Decide whether to delete or impute based on missing percentage and data type\n",
        "    \"\"\"\n",
        "    missing_pct = df[column].isnull().sum() / len(df)\n",
        "    data_type = df[column].dtype\n",
        "    unique_values = df[column].nunique()\n",
        "\n",
        "    print(f\"\\nAnalyzing column: {column}\")\n",
        "    print(f\"Missing percentage: {missing_pct:.2%}\")\n",
        "    print(f\"Data type: {data_type}\")\n",
        "    print(f\"Unique values: {unique_values}\")\n",
        "\n",
        "    if missing_pct > threshold:\n",
        "        recommendation = \"Consider dropping column\"\n",
        "    elif missing_pct < 0.05:\n",
        "        recommendation = \"Safe to impute\"\n",
        "    else:\n",
        "        recommendation = \"Evaluate imputation carefully\"\n",
        "\n",
        "    print(f\"Recommendation: {recommendation}\")\n",
        "    return recommendation\n",
        "\n",
        "# Apply to columns with missing data\n",
        "for col in ['Age', 'Cabin', 'Embarked']:\n",
        "    missing_data_strategy(titanic, col)"
      ],
      "metadata": {
        "id": "V7d93wPHHnpc",
        "colab": {
          "base_uri": "https://localhost:8080/"
        },
        "outputId": "2d1ef4fc-e88c-4996-ef98-bfab2c4768e9"
      },
      "execution_count": null,
      "outputs": [
        {
          "output_type": "stream",
          "name": "stdout",
          "text": [
            "\n",
            "Analyzing column: Age\n",
            "Missing percentage: 19.87%\n",
            "Data type: float64\n",
            "Unique values: 88\n",
            "Recommendation: Evaluate imputation carefully\n",
            "\n",
            "Analyzing column: Cabin\n",
            "Missing percentage: 77.10%\n",
            "Data type: object\n",
            "Unique values: 147\n",
            "Recommendation: Consider dropping column\n",
            "\n",
            "Analyzing column: Embarked\n",
            "Missing percentage: 0.22%\n",
            "Data type: object\n",
            "Unique values: 3\n",
            "Recommendation: Safe to impute\n"
          ]
        }
      ]
    },
    {
      "cell_type": "markdown",
      "source": [
        "## 🎯 **Purpose of This Code**\n",
        "\n",
        "This function **evaluates a column with missing data** to give you a **recommendation**:\n",
        "\n",
        "* Should you **drop** the column?\n",
        "* Should you **impute** (fill) the missing values?\n",
        "* Should you **be cautious about imputation?**\n",
        "\n",
        "It looks at:\n",
        "\n",
        "* **How much data is missing**\n",
        "* **The data type (numeric or object)**\n",
        "* **How many unique values the column has**\n",
        "\n",
        "---\n",
        "\n",
        "## 🧩 **Line-by-Line Explanation**\n",
        "\n",
        "### 1️⃣ Function Definition\n",
        "\n",
        "```python\n",
        "def missing_data_strategy(df, column, threshold=0.5):\n",
        "    \"\"\"\n",
        "    Decide whether to delete or impute based on missing percentage and data type\n",
        "    \"\"\"\n",
        "```\n",
        "\n",
        "* Defines a function called `missing_data_strategy`.\n",
        "* Arguments:\n",
        "\n",
        "  * `df`: your DataFrame (e.g., `titanic`)\n",
        "  * `column`: the name of the column you want to analyze\n",
        "  * `threshold`: % of missing data beyond which you **might drop the column** (default = 50%)\n",
        "\n",
        "---\n",
        "\n",
        "### 2️⃣ Compute Missing Percentage\n",
        "\n",
        "```python\n",
        "missing_pct = df[column].isnull().sum() / len(df)\n",
        "```\n",
        "\n",
        "* Calculates **fraction of missing values** (0-1 scale).\n",
        "\n",
        "---\n",
        "\n",
        "### 3️⃣ Determine Data Type\n",
        "\n",
        "```python\n",
        "data_type = df[column].dtype\n",
        "```\n",
        "\n",
        "* Gets the column's data type (`object`, `float64`, `int64`, etc.).\n",
        "* Important because **imputation strategy differs** for numeric vs categorical data.\n",
        "\n",
        "---\n",
        "\n",
        "### 4️⃣ Count Unique Values\n",
        "\n",
        "```python\n",
        "unique_values = df[column].nunique()\n",
        "```\n",
        "\n",
        "* Counts **how many distinct non-null values** are in the column.\n",
        "* Useful to see whether it's categorical (few unique values) or continuous.\n",
        "\n",
        "---\n",
        "\n",
        "### 5️⃣ Print Analysis Info\n",
        "\n",
        "```python\n",
        "print(f\"\\nAnalysing column: {column}\")\n",
        "print(f\"Missing percentage: {missing_pct:.2%}\")\n",
        "print(f\"Data type: {data_type}\")\n",
        "print(f\"Unique values: {unique_values}\")\n",
        "```\n",
        "\n",
        "* Prints all the computed information in a readable format.\n",
        "\n",
        "---\n",
        "\n",
        "### 6️⃣ Decide Recommendation\n",
        "\n",
        "This is the main logic:\n",
        "\n",
        "```python\n",
        "if missing_pct > threshold:\n",
        "    recommendation = \"Consider dropping column\"\n",
        "elif missing_pct < 0.05:\n",
        "    recommendation = \"Safe to impute\"\n",
        "else:\n",
        "    recommendation = \"Evaluate imputation carefully\"\n",
        "```\n",
        "\n",
        "* **If missing % > threshold (default 50%)**:\n",
        "  → The column has too much missing data—**probably best to drop**.\n",
        "* **If missing % < 5%**:\n",
        "  → Very little missing data—**safe to impute (fill)**.\n",
        "* **Otherwise**:\n",
        "  → Moderate missing data—**think carefully before imputing**.\n",
        "\n",
        "---\n",
        "\n",
        "### 7️⃣ Print and Return Recommendation\n",
        "\n",
        "```python\n",
        "print(f\"Recommendation: {recommendation}\")\n",
        "return recommendation\n",
        "```\n",
        "\n",
        "* Prints your recommended action.\n",
        "* Returns the recommendation string in case you want to store or log it.\n",
        "\n",
        "---\n",
        "\n",
        "### 8️⃣ Apply to Columns with Missing Data\n",
        "\n",
        "```python\n",
        "for col in ['Age', 'Cabin', 'Embarked']:\n",
        "    missing_data_strategy(titanic, col)\n",
        "```\n",
        "\n",
        "* Loops through the columns you know have missing values.\n",
        "* Calls the function on each to get a tailored recommendation.\n",
        "\n",
        "---\n",
        "\n",
        "## ✅ **Example Output**\n",
        "\n",
        "For Titanic, you would see something like:\n",
        "\n",
        "```\n",
        "Analyzing column: Age\n",
        "Missing percentage: 19.87%\n",
        "Data type: float64\n",
        "Unique values: 88\n",
        "Recommendation: Evaluate imputation carefully\n",
        "\n",
        "Analyzing column: Cabin\n",
        "Missing percentage: 77.10%\n",
        "Data type: object\n",
        "Unique values: 147\n",
        "Recommendation: Consider dropping column\n",
        "\n",
        "Analyzing column: Embarked\n",
        "Missing percentage: 0.22%\n",
        "Data type: object\n",
        "Unique values: 3\n",
        "Recommendation: Safe to impute\n",
        "```\n",
        "\n",
        "---\n",
        "\n",
        "## 💡 **Why is this helpful?**\n",
        "\n",
        "This code:\n",
        "\n",
        "* Gives **quick, clear guidance** for each variable.\n",
        "* Saves time deciding how to handle missing data.\n",
        "* Helps avoid over-imputing columns with too much missingness."
      ],
      "metadata": {
        "id": "EKrMDr-5MFxi"
      }
    },
    {
      "cell_type": "markdown",
      "source": [
        "## Deletion Strategies"
      ],
      "metadata": {
        "id": "FsZCpWzxNDPR"
      }
    },
    {
      "cell_type": "markdown",
      "source": [
        "### Listwise Deletion (Complete Case Analysis)"
      ],
      "metadata": {
        "id": "BBV5-komNHhL"
      }
    },
    {
      "cell_type": "code",
      "source": [
        "# Remove all rows with any missing values\n",
        "print(f\"Original dataset shape: {titanic.shape}\")\n",
        "titanic_complete = titanic.dropna()\n",
        "print(f\"After listwise deletion: {titanic_complete.shape}\")\n",
        "print(f\"Rows lost: {titanic.shape[0] - titanic_complete.shape[0]} ({((titanic.shape[0] - titanic_complete.shape[0])/titanic.shape[0]):.1%})\")"
      ],
      "metadata": {
        "id": "l7wMbB3iMFff",
        "colab": {
          "base_uri": "https://localhost:8080/"
        },
        "outputId": "99fe3b25-915c-40b3-b2d1-d9641b1af819"
      },
      "execution_count": null,
      "outputs": [
        {
          "output_type": "stream",
          "name": "stdout",
          "text": [
            "Original dataset shape: (891, 12)\n",
            "After listwise deletion: (183, 12)\n",
            "Rows lost: 708 (79.5%)\n"
          ]
        }
      ]
    },
    {
      "cell_type": "markdown",
      "source": [
        "## 🎯 **Purpose of This Code**\n",
        "\n",
        "This code **removes all rows that have any missing values**, a process called **listwise deletion** (or complete-case analysis).\n",
        "It then prints:\n",
        "\n",
        "* The shape (rows, columns) before and after.\n",
        "* How many rows were lost and what % of the data that is.\n",
        "\n",
        "---\n",
        "\n",
        "## 🧩 **Line-by-Line Explanation**\n",
        "\n",
        "---\n",
        "\n",
        "### 1️⃣ Print the Original Dataset Shape\n",
        "\n",
        "```python\n",
        "print(f\"Original dataset shape: {titanic.shape}\")\n",
        "```\n",
        "\n",
        "* `titanic.shape` returns a tuple:\n",
        "  `(number of rows, number of columns)`\n",
        "* For example: `(891, 12)`\n",
        "* Prints how big your dataset was **before dropping any rows**.\n",
        "\n",
        "---\n",
        "\n",
        "### 2️⃣ Drop All Rows with Any Missing Values\n",
        "\n",
        "```python\n",
        "titanic_complete = titanic.dropna()\n",
        "```\n",
        "\n",
        "* `.dropna()` removes any row where **at least one column is missing**.\n",
        "* The result, `titanic_complete`, contains only **fully complete rows**.\n",
        "* This is called **listwise deletion**.\n",
        "\n",
        "  * Pros: Very simple.\n",
        "  * Cons: Can remove a lot of data if missingness is common.\n",
        "\n",
        "---\n",
        "\n",
        "### 3️⃣ Print the New Shape\n",
        "\n",
        "```python\n",
        "print(f\"After listwise deletion: {titanic_complete.shape}\")\n",
        "```\n",
        "\n",
        "* Shows you how many rows are left after dropping incomplete rows.\n",
        "* For Titanic data, often you'll see something like `(183, 12)` because `Cabin` is mostly missing.\n",
        "\n",
        "---\n",
        "\n",
        "### 4️⃣ Calculate and Print How Many Rows Were Lost\n",
        "\n",
        "```python\n",
        "print(f\"Rows lost: {titanic.shape[0] - titanic_complete.shape[0]} ({((titanic.shape[0] - titanic_complete.shape[0])/titanic.shape[0]):.1%})\")\n",
        "```\n",
        "\n",
        "Let's break this line apart carefully:\n",
        "\n",
        "✅ **Rows lost:**\n",
        "\n",
        "* `titanic.shape[0]` = original row count\n",
        "* `titanic_complete.shape[0]` = new row count\n",
        "* Subtracting gives you how many rows were removed.\n",
        "\n",
        "✅ **Percentage lost:**\n",
        "\n",
        "* Divide by original row count and multiply by 100.\n",
        "* `:.1%` formats the fraction as a percent with 1 decimal place.\n",
        "\n",
        "**Example output:**\n",
        "\n",
        "```\n",
        "Rows lost: 708 (79.5%)\n",
        "```\n",
        "\n",
        "This means **79.5% of the rows were deleted**, often because of `Cabin`.\n",
        "\n",
        "---\n",
        "\n",
        "## ✅ **Summary of What This Does**\n",
        "\n",
        "* Shows before-and-after dataset size.\n",
        "* Tells you exactly how much data you lose.\n",
        "* Creates a new DataFrame (`titanic_complete`) that has **no missing data whatsoever**.\n",
        "\n",
        "---\n",
        "\n",
        "## 💡 **Why Is This Important?**\n",
        "\n",
        "Listwise deletion:\n",
        "\n",
        "* Is simple and sometimes appropriate if **few rows are missing**.\n",
        "* Can be a bad idea if you lose a lot of data or introduce bias (e.g., if missingness is not random).\n",
        "\n"
      ],
      "metadata": {
        "id": "cUcmsIaYODDF"
      }
    },
    {
      "cell_type": "markdown",
      "metadata": {
        "id": "53f2d76a"
      },
      "source": [
        "I will re-run the import cell and the cells setting up the kaggle API and downloading data."
      ]
    },
    {
      "cell_type": "code",
      "metadata": {
        "id": "2ca362da"
      },
      "source": [
        "# Re-run the import cell\n",
        "import pandas as pd\n",
        "import numpy as np\n",
        "import matplotlib.pyplot as plt\n",
        "import seaborn as sns\n",
        "from scipy import stats\n",
        "import warnings\n",
        "warnings.filterwarnings('ignore')"
      ],
      "execution_count": null,
      "outputs": []
    },
    {
      "cell_type": "code",
      "metadata": {
        "colab": {
          "base_uri": "https://localhost:8080/"
        },
        "id": "eb6d8142",
        "outputId": "6fe72d2d-9c58-445c-cc1f-2370b610dc21"
      },
      "source": [
        "# Re-run cells setting up the kaggle API\n",
        "!mkdir ~/.kaggle\n",
        "!cp kaggle.json ~/.kaggle/\n",
        "!chmod 600 ~/.kaggle/kaggle.json"
      ],
      "execution_count": null,
      "outputs": [
        {
          "output_type": "stream",
          "name": "stdout",
          "text": [
            "cp: cannot stat 'kaggle.json': No such file or directory\n",
            "chmod: cannot access '/root/.kaggle/kaggle.json': No such file or directory\n"
          ]
        }
      ]
    },
    {
      "cell_type": "code",
      "metadata": {
        "colab": {
          "base_uri": "https://localhost:8080/"
        },
        "id": "5f7440eb",
        "outputId": "b9069423-9a9e-4b80-eef4-081e60bb7b18"
      },
      "source": [
        "# Re-run cells downloading the data\n",
        "!kaggle competitions download -c titanic\n",
        "!mkdir titanic_dataset\n",
        "!unzip titanic.zip -d titanic_dataset"
      ],
      "execution_count": null,
      "outputs": [
        {
          "output_type": "stream",
          "name": "stdout",
          "text": [
            "Traceback (most recent call last):\n",
            "  File \"/usr/local/bin/kaggle\", line 4, in <module>\n",
            "    from kaggle.cli import main\n",
            "  File \"/usr/local/lib/python3.11/dist-packages/kaggle/__init__.py\", line 6, in <module>\n",
            "    api.authenticate()\n",
            "  File \"/usr/local/lib/python3.11/dist-packages/kaggle/api/kaggle_api_extended.py\", line 434, in authenticate\n",
            "    raise IOError('Could not find {}. Make sure it\\'s located in'\n",
            "OSError: Could not find kaggle.json. Make sure it's located in /root/.kaggle. Or use the environment method. See setup instructions at https://github.com/Kaggle/kaggle-api/\n",
            "mkdir: cannot create directory ‘titanic_dataset’: File exists\n",
            "unzip:  cannot find or open titanic.zip, titanic.zip.zip or titanic.zip.ZIP.\n"
          ]
        }
      ]
    },
    {
      "cell_type": "code",
      "metadata": {
        "id": "48956356"
      },
      "source": [
        "# Load the Titanic dataset\n",
        "titanic = pd.read_csv('/train.csv')"
      ],
      "execution_count": null,
      "outputs": []
    }
  ]
}