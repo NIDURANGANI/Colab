{
  "nbformat": 4,
  "nbformat_minor": 0,
  "metadata": {
    "colab": {
      "provenance": [],
      "include_colab_link": true
    },
    "kernelspec": {
      "name": "python3",
      "display_name": "Python 3"
    },
    "language_info": {
      "name": "python"
    }
  },
  "cells": [
    {
      "cell_type": "markdown",
      "metadata": {
        "id": "view-in-github",
        "colab_type": "text"
      },
      "source": [
        "<a href=\"https://colab.research.google.com/github/NIDURANGANI/Colab/blob/main/Tutorial_Integration_of_LLMs_using_Langchain_0_3_27.ipynb\" target=\"_parent\"><img src=\"https://colab.research.google.com/assets/colab-badge.svg\" alt=\"Open In Colab\"/></a>"
      ]
    },
    {
      "cell_type": "markdown",
      "source": [
        "# LangChain 0.3.27 Tutorial: Real-World Applications with OpenRouter\n",
        "\n",
        "## Table of Contents\n",
        "1. [Setup & Installation](#setup--installation)\n",
        "2. [Basic Configuration](#basic-configuration)\n",
        "3. [Scenario 1: Customer Support Chatbot](#scenario-1-customer-support-chatbot)\n",
        "4. [Scenario 2: Document Analysis & Summarization](#scenario-2-document-analysis--summarization)\n",
        "5. [Scenario 3: Code Review Assistant](#scenario-3-code-review-assistant)\n",
        "6. [Scenario 4: Content Generation Pipeline](#scenario-4-content-generation-pipeline)\n",
        "7. [Scenario 5: Data Analysis & Insights](#scenario-5-data-analysis--insights)\n",
        "8. [Advanced Features](#advanced-features)"
      ],
      "metadata": {
        "id": "SIwCbxwS9ZEu"
      }
    },
    {
      "cell_type": "markdown",
      "source": [
        "## Setup & Installation\n",
        "\n",
        "### Step 1: Install Required Packages\n",
        "\n",
        "First, let's install LangChain and required dependencies in your Google Colab environment."
      ],
      "metadata": {
        "id": "NAty-6dW9jtn"
      }
    },
    {
      "cell_type": "code",
      "source": [
        "# Install LangChain 0.3.27 and dependencies\n",
        "!pip install langchain==0.3.27\n",
        "!pip install langchain-openai\n",
        "!pip install python-dotenv"
      ],
      "metadata": {
        "colab": {
          "base_uri": "https://localhost:8080/"
        },
        "id": "e00kflDJ9nmO",
        "outputId": "6df543e6-c244-4616-ab9d-954b7524fdbb"
      },
      "execution_count": 51,
      "outputs": [
        {
          "output_type": "stream",
          "name": "stdout",
          "text": [
            "Requirement already satisfied: langchain==0.3.27 in /usr/local/lib/python3.12/dist-packages (0.3.27)\n",
            "Requirement already satisfied: langchain-core<1.0.0,>=0.3.72 in /usr/local/lib/python3.12/dist-packages (from langchain==0.3.27) (0.3.74)\n",
            "Requirement already satisfied: langchain-text-splitters<1.0.0,>=0.3.9 in /usr/local/lib/python3.12/dist-packages (from langchain==0.3.27) (0.3.9)\n",
            "Requirement already satisfied: langsmith>=0.1.17 in /usr/local/lib/python3.12/dist-packages (from langchain==0.3.27) (0.4.14)\n",
            "Requirement already satisfied: pydantic<3.0.0,>=2.7.4 in /usr/local/lib/python3.12/dist-packages (from langchain==0.3.27) (2.11.7)\n",
            "Requirement already satisfied: SQLAlchemy<3,>=1.4 in /usr/local/lib/python3.12/dist-packages (from langchain==0.3.27) (2.0.43)\n",
            "Requirement already satisfied: requests<3,>=2 in /usr/local/lib/python3.12/dist-packages (from langchain==0.3.27) (2.32.4)\n",
            "Requirement already satisfied: PyYAML>=5.3 in /usr/local/lib/python3.12/dist-packages (from langchain==0.3.27) (6.0.2)\n",
            "Requirement already satisfied: tenacity!=8.4.0,<10.0.0,>=8.1.0 in /usr/local/lib/python3.12/dist-packages (from langchain-core<1.0.0,>=0.3.72->langchain==0.3.27) (8.5.0)\n",
            "Requirement already satisfied: jsonpatch<2.0,>=1.33 in /usr/local/lib/python3.12/dist-packages (from langchain-core<1.0.0,>=0.3.72->langchain==0.3.27) (1.33)\n",
            "Requirement already satisfied: typing-extensions>=4.7 in /usr/local/lib/python3.12/dist-packages (from langchain-core<1.0.0,>=0.3.72->langchain==0.3.27) (4.14.1)\n",
            "Requirement already satisfied: packaging>=23.2 in /usr/local/lib/python3.12/dist-packages (from langchain-core<1.0.0,>=0.3.72->langchain==0.3.27) (25.0)\n",
            "Requirement already satisfied: httpx<1,>=0.23.0 in /usr/local/lib/python3.12/dist-packages (from langsmith>=0.1.17->langchain==0.3.27) (0.28.1)\n",
            "Requirement already satisfied: orjson>=3.9.14 in /usr/local/lib/python3.12/dist-packages (from langsmith>=0.1.17->langchain==0.3.27) (3.11.2)\n",
            "Requirement already satisfied: requests-toolbelt>=1.0.0 in /usr/local/lib/python3.12/dist-packages (from langsmith>=0.1.17->langchain==0.3.27) (1.0.0)\n",
            "Requirement already satisfied: zstandard>=0.23.0 in /usr/local/lib/python3.12/dist-packages (from langsmith>=0.1.17->langchain==0.3.27) (0.24.0)\n",
            "Requirement already satisfied: annotated-types>=0.6.0 in /usr/local/lib/python3.12/dist-packages (from pydantic<3.0.0,>=2.7.4->langchain==0.3.27) (0.7.0)\n",
            "Requirement already satisfied: pydantic-core==2.33.2 in /usr/local/lib/python3.12/dist-packages (from pydantic<3.0.0,>=2.7.4->langchain==0.3.27) (2.33.2)\n",
            "Requirement already satisfied: typing-inspection>=0.4.0 in /usr/local/lib/python3.12/dist-packages (from pydantic<3.0.0,>=2.7.4->langchain==0.3.27) (0.4.1)\n",
            "Requirement already satisfied: charset_normalizer<4,>=2 in /usr/local/lib/python3.12/dist-packages (from requests<3,>=2->langchain==0.3.27) (3.4.3)\n",
            "Requirement already satisfied: idna<4,>=2.5 in /usr/local/lib/python3.12/dist-packages (from requests<3,>=2->langchain==0.3.27) (3.10)\n",
            "Requirement already satisfied: urllib3<3,>=1.21.1 in /usr/local/lib/python3.12/dist-packages (from requests<3,>=2->langchain==0.3.27) (2.5.0)\n",
            "Requirement already satisfied: certifi>=2017.4.17 in /usr/local/lib/python3.12/dist-packages (from requests<3,>=2->langchain==0.3.27) (2025.8.3)\n",
            "Requirement already satisfied: greenlet>=1 in /usr/local/lib/python3.12/dist-packages (from SQLAlchemy<3,>=1.4->langchain==0.3.27) (3.2.4)\n",
            "Requirement already satisfied: anyio in /usr/local/lib/python3.12/dist-packages (from httpx<1,>=0.23.0->langsmith>=0.1.17->langchain==0.3.27) (4.10.0)\n",
            "Requirement already satisfied: httpcore==1.* in /usr/local/lib/python3.12/dist-packages (from httpx<1,>=0.23.0->langsmith>=0.1.17->langchain==0.3.27) (1.0.9)\n",
            "Requirement already satisfied: h11>=0.16 in /usr/local/lib/python3.12/dist-packages (from httpcore==1.*->httpx<1,>=0.23.0->langsmith>=0.1.17->langchain==0.3.27) (0.16.0)\n",
            "Requirement already satisfied: jsonpointer>=1.9 in /usr/local/lib/python3.12/dist-packages (from jsonpatch<2.0,>=1.33->langchain-core<1.0.0,>=0.3.72->langchain==0.3.27) (3.0.0)\n",
            "Requirement already satisfied: sniffio>=1.1 in /usr/local/lib/python3.12/dist-packages (from anyio->httpx<1,>=0.23.0->langsmith>=0.1.17->langchain==0.3.27) (1.3.1)\n",
            "Requirement already satisfied: langchain-openai in /usr/local/lib/python3.12/dist-packages (0.3.31)\n",
            "Requirement already satisfied: langchain-core<1.0.0,>=0.3.74 in /usr/local/lib/python3.12/dist-packages (from langchain-openai) (0.3.74)\n",
            "Requirement already satisfied: openai<2.0.0,>=1.99.9 in /usr/local/lib/python3.12/dist-packages (from langchain-openai) (1.100.0)\n",
            "Requirement already satisfied: tiktoken<1,>=0.7 in /usr/local/lib/python3.12/dist-packages (from langchain-openai) (0.11.0)\n",
            "Requirement already satisfied: langsmith>=0.3.45 in /usr/local/lib/python3.12/dist-packages (from langchain-core<1.0.0,>=0.3.74->langchain-openai) (0.4.14)\n",
            "Requirement already satisfied: tenacity!=8.4.0,<10.0.0,>=8.1.0 in /usr/local/lib/python3.12/dist-packages (from langchain-core<1.0.0,>=0.3.74->langchain-openai) (8.5.0)\n",
            "Requirement already satisfied: jsonpatch<2.0,>=1.33 in /usr/local/lib/python3.12/dist-packages (from langchain-core<1.0.0,>=0.3.74->langchain-openai) (1.33)\n",
            "Requirement already satisfied: PyYAML>=5.3 in /usr/local/lib/python3.12/dist-packages (from langchain-core<1.0.0,>=0.3.74->langchain-openai) (6.0.2)\n",
            "Requirement already satisfied: typing-extensions>=4.7 in /usr/local/lib/python3.12/dist-packages (from langchain-core<1.0.0,>=0.3.74->langchain-openai) (4.14.1)\n",
            "Requirement already satisfied: packaging>=23.2 in /usr/local/lib/python3.12/dist-packages (from langchain-core<1.0.0,>=0.3.74->langchain-openai) (25.0)\n",
            "Requirement already satisfied: pydantic>=2.7.4 in /usr/local/lib/python3.12/dist-packages (from langchain-core<1.0.0,>=0.3.74->langchain-openai) (2.11.7)\n",
            "Requirement already satisfied: anyio<5,>=3.5.0 in /usr/local/lib/python3.12/dist-packages (from openai<2.0.0,>=1.99.9->langchain-openai) (4.10.0)\n",
            "Requirement already satisfied: distro<2,>=1.7.0 in /usr/local/lib/python3.12/dist-packages (from openai<2.0.0,>=1.99.9->langchain-openai) (1.9.0)\n",
            "Requirement already satisfied: httpx<1,>=0.23.0 in /usr/local/lib/python3.12/dist-packages (from openai<2.0.0,>=1.99.9->langchain-openai) (0.28.1)\n",
            "Requirement already satisfied: jiter<1,>=0.4.0 in /usr/local/lib/python3.12/dist-packages (from openai<2.0.0,>=1.99.9->langchain-openai) (0.10.0)\n",
            "Requirement already satisfied: sniffio in /usr/local/lib/python3.12/dist-packages (from openai<2.0.0,>=1.99.9->langchain-openai) (1.3.1)\n",
            "Requirement already satisfied: tqdm>4 in /usr/local/lib/python3.12/dist-packages (from openai<2.0.0,>=1.99.9->langchain-openai) (4.67.1)\n",
            "Requirement already satisfied: regex>=2022.1.18 in /usr/local/lib/python3.12/dist-packages (from tiktoken<1,>=0.7->langchain-openai) (2024.11.6)\n",
            "Requirement already satisfied: requests>=2.26.0 in /usr/local/lib/python3.12/dist-packages (from tiktoken<1,>=0.7->langchain-openai) (2.32.4)\n",
            "Requirement already satisfied: idna>=2.8 in /usr/local/lib/python3.12/dist-packages (from anyio<5,>=3.5.0->openai<2.0.0,>=1.99.9->langchain-openai) (3.10)\n",
            "Requirement already satisfied: certifi in /usr/local/lib/python3.12/dist-packages (from httpx<1,>=0.23.0->openai<2.0.0,>=1.99.9->langchain-openai) (2025.8.3)\n",
            "Requirement already satisfied: httpcore==1.* in /usr/local/lib/python3.12/dist-packages (from httpx<1,>=0.23.0->openai<2.0.0,>=1.99.9->langchain-openai) (1.0.9)\n",
            "Requirement already satisfied: h11>=0.16 in /usr/local/lib/python3.12/dist-packages (from httpcore==1.*->httpx<1,>=0.23.0->openai<2.0.0,>=1.99.9->langchain-openai) (0.16.0)\n",
            "Requirement already satisfied: jsonpointer>=1.9 in /usr/local/lib/python3.12/dist-packages (from jsonpatch<2.0,>=1.33->langchain-core<1.0.0,>=0.3.74->langchain-openai) (3.0.0)\n",
            "Requirement already satisfied: orjson>=3.9.14 in /usr/local/lib/python3.12/dist-packages (from langsmith>=0.3.45->langchain-core<1.0.0,>=0.3.74->langchain-openai) (3.11.2)\n",
            "Requirement already satisfied: requests-toolbelt>=1.0.0 in /usr/local/lib/python3.12/dist-packages (from langsmith>=0.3.45->langchain-core<1.0.0,>=0.3.74->langchain-openai) (1.0.0)\n",
            "Requirement already satisfied: zstandard>=0.23.0 in /usr/local/lib/python3.12/dist-packages (from langsmith>=0.3.45->langchain-core<1.0.0,>=0.3.74->langchain-openai) (0.24.0)\n",
            "Requirement already satisfied: annotated-types>=0.6.0 in /usr/local/lib/python3.12/dist-packages (from pydantic>=2.7.4->langchain-core<1.0.0,>=0.3.74->langchain-openai) (0.7.0)\n",
            "Requirement already satisfied: pydantic-core==2.33.2 in /usr/local/lib/python3.12/dist-packages (from pydantic>=2.7.4->langchain-core<1.0.0,>=0.3.74->langchain-openai) (2.33.2)\n",
            "Requirement already satisfied: typing-inspection>=0.4.0 in /usr/local/lib/python3.12/dist-packages (from pydantic>=2.7.4->langchain-core<1.0.0,>=0.3.74->langchain-openai) (0.4.1)\n",
            "Requirement already satisfied: charset_normalizer<4,>=2 in /usr/local/lib/python3.12/dist-packages (from requests>=2.26.0->tiktoken<1,>=0.7->langchain-openai) (3.4.3)\n",
            "Requirement already satisfied: urllib3<3,>=1.21.1 in /usr/local/lib/python3.12/dist-packages (from requests>=2.26.0->tiktoken<1,>=0.7->langchain-openai) (2.5.0)\n",
            "Requirement already satisfied: python-dotenv in /usr/local/lib/python3.12/dist-packages (1.1.1)\n"
          ]
        }
      ]
    },
    {
      "cell_type": "code",
      "source": [
        "# Install additional packages for document processing\n",
        "!pip install pypdf2\n",
        "!pip install chromadb\n",
        "!pip install tiktoken"
      ],
      "metadata": {
        "colab": {
          "base_uri": "https://localhost:8080/"
        },
        "id": "AMl-VnbN72iT",
        "outputId": "d47dfdaa-8ad5-4d29-8756-0546463a249e"
      },
      "execution_count": 52,
      "outputs": [
        {
          "output_type": "stream",
          "name": "stdout",
          "text": [
            "Requirement already satisfied: pypdf2 in /usr/local/lib/python3.12/dist-packages (3.0.1)\n",
            "Requirement already satisfied: chromadb in /usr/local/lib/python3.12/dist-packages (1.0.20)\n",
            "Requirement already satisfied: build>=1.0.3 in /usr/local/lib/python3.12/dist-packages (from chromadb) (1.3.0)\n",
            "Requirement already satisfied: pydantic>=1.9 in /usr/local/lib/python3.12/dist-packages (from chromadb) (2.11.7)\n",
            "Requirement already satisfied: pybase64>=1.4.1 in /usr/local/lib/python3.12/dist-packages (from chromadb) (1.4.2)\n",
            "Requirement already satisfied: uvicorn>=0.18.3 in /usr/local/lib/python3.12/dist-packages (from uvicorn[standard]>=0.18.3->chromadb) (0.35.0)\n",
            "Requirement already satisfied: numpy>=1.22.5 in /usr/local/lib/python3.12/dist-packages (from chromadb) (2.0.2)\n",
            "Requirement already satisfied: posthog<6.0.0,>=2.4.0 in /usr/local/lib/python3.12/dist-packages (from chromadb) (5.4.0)\n",
            "Requirement already satisfied: typing-extensions>=4.5.0 in /usr/local/lib/python3.12/dist-packages (from chromadb) (4.14.1)\n",
            "Requirement already satisfied: onnxruntime>=1.14.1 in /usr/local/lib/python3.12/dist-packages (from chromadb) (1.22.1)\n",
            "Requirement already satisfied: opentelemetry-api>=1.2.0 in /usr/local/lib/python3.12/dist-packages (from chromadb) (1.36.0)\n",
            "Requirement already satisfied: opentelemetry-exporter-otlp-proto-grpc>=1.2.0 in /usr/local/lib/python3.12/dist-packages (from chromadb) (1.36.0)\n",
            "Requirement already satisfied: opentelemetry-sdk>=1.2.0 in /usr/local/lib/python3.12/dist-packages (from chromadb) (1.36.0)\n",
            "Requirement already satisfied: tokenizers>=0.13.2 in /usr/local/lib/python3.12/dist-packages (from chromadb) (0.21.4)\n",
            "Requirement already satisfied: pypika>=0.48.9 in /usr/local/lib/python3.12/dist-packages (from chromadb) (0.48.9)\n",
            "Requirement already satisfied: tqdm>=4.65.0 in /usr/local/lib/python3.12/dist-packages (from chromadb) (4.67.1)\n",
            "Requirement already satisfied: overrides>=7.3.1 in /usr/local/lib/python3.12/dist-packages (from chromadb) (7.7.0)\n",
            "Requirement already satisfied: importlib-resources in /usr/local/lib/python3.12/dist-packages (from chromadb) (6.5.2)\n",
            "Requirement already satisfied: grpcio>=1.58.0 in /usr/local/lib/python3.12/dist-packages (from chromadb) (1.74.0)\n",
            "Requirement already satisfied: bcrypt>=4.0.1 in /usr/local/lib/python3.12/dist-packages (from chromadb) (4.3.0)\n",
            "Requirement already satisfied: typer>=0.9.0 in /usr/local/lib/python3.12/dist-packages (from chromadb) (0.16.0)\n",
            "Requirement already satisfied: kubernetes>=28.1.0 in /usr/local/lib/python3.12/dist-packages (from chromadb) (33.1.0)\n",
            "Requirement already satisfied: tenacity>=8.2.3 in /usr/local/lib/python3.12/dist-packages (from chromadb) (8.5.0)\n",
            "Requirement already satisfied: pyyaml>=6.0.0 in /usr/local/lib/python3.12/dist-packages (from chromadb) (6.0.2)\n",
            "Requirement already satisfied: mmh3>=4.0.1 in /usr/local/lib/python3.12/dist-packages (from chromadb) (5.2.0)\n",
            "Requirement already satisfied: orjson>=3.9.12 in /usr/local/lib/python3.12/dist-packages (from chromadb) (3.11.2)\n",
            "Requirement already satisfied: httpx>=0.27.0 in /usr/local/lib/python3.12/dist-packages (from chromadb) (0.28.1)\n",
            "Requirement already satisfied: rich>=10.11.0 in /usr/local/lib/python3.12/dist-packages (from chromadb) (13.9.4)\n",
            "Requirement already satisfied: jsonschema>=4.19.0 in /usr/local/lib/python3.12/dist-packages (from chromadb) (4.25.1)\n",
            "Requirement already satisfied: packaging>=19.1 in /usr/local/lib/python3.12/dist-packages (from build>=1.0.3->chromadb) (25.0)\n",
            "Requirement already satisfied: pyproject_hooks in /usr/local/lib/python3.12/dist-packages (from build>=1.0.3->chromadb) (1.2.0)\n",
            "Requirement already satisfied: anyio in /usr/local/lib/python3.12/dist-packages (from httpx>=0.27.0->chromadb) (4.10.0)\n",
            "Requirement already satisfied: certifi in /usr/local/lib/python3.12/dist-packages (from httpx>=0.27.0->chromadb) (2025.8.3)\n",
            "Requirement already satisfied: httpcore==1.* in /usr/local/lib/python3.12/dist-packages (from httpx>=0.27.0->chromadb) (1.0.9)\n",
            "Requirement already satisfied: idna in /usr/local/lib/python3.12/dist-packages (from httpx>=0.27.0->chromadb) (3.10)\n",
            "Requirement already satisfied: h11>=0.16 in /usr/local/lib/python3.12/dist-packages (from httpcore==1.*->httpx>=0.27.0->chromadb) (0.16.0)\n",
            "Requirement already satisfied: attrs>=22.2.0 in /usr/local/lib/python3.12/dist-packages (from jsonschema>=4.19.0->chromadb) (25.3.0)\n",
            "Requirement already satisfied: jsonschema-specifications>=2023.03.6 in /usr/local/lib/python3.12/dist-packages (from jsonschema>=4.19.0->chromadb) (2025.4.1)\n",
            "Requirement already satisfied: referencing>=0.28.4 in /usr/local/lib/python3.12/dist-packages (from jsonschema>=4.19.0->chromadb) (0.36.2)\n",
            "Requirement already satisfied: rpds-py>=0.7.1 in /usr/local/lib/python3.12/dist-packages (from jsonschema>=4.19.0->chromadb) (0.27.0)\n",
            "Requirement already satisfied: six>=1.9.0 in /usr/local/lib/python3.12/dist-packages (from kubernetes>=28.1.0->chromadb) (1.17.0)\n",
            "Requirement already satisfied: python-dateutil>=2.5.3 in /usr/local/lib/python3.12/dist-packages (from kubernetes>=28.1.0->chromadb) (2.9.0.post0)\n",
            "Requirement already satisfied: google-auth>=1.0.1 in /usr/local/lib/python3.12/dist-packages (from kubernetes>=28.1.0->chromadb) (2.38.0)\n",
            "Requirement already satisfied: websocket-client!=0.40.0,!=0.41.*,!=0.42.*,>=0.32.0 in /usr/local/lib/python3.12/dist-packages (from kubernetes>=28.1.0->chromadb) (1.8.0)\n",
            "Requirement already satisfied: requests in /usr/local/lib/python3.12/dist-packages (from kubernetes>=28.1.0->chromadb) (2.32.4)\n",
            "Requirement already satisfied: requests-oauthlib in /usr/local/lib/python3.12/dist-packages (from kubernetes>=28.1.0->chromadb) (2.0.0)\n",
            "Requirement already satisfied: oauthlib>=3.2.2 in /usr/local/lib/python3.12/dist-packages (from kubernetes>=28.1.0->chromadb) (3.3.1)\n",
            "Requirement already satisfied: urllib3>=1.24.2 in /usr/local/lib/python3.12/dist-packages (from kubernetes>=28.1.0->chromadb) (2.5.0)\n",
            "Requirement already satisfied: durationpy>=0.7 in /usr/local/lib/python3.12/dist-packages (from kubernetes>=28.1.0->chromadb) (0.10)\n",
            "Requirement already satisfied: coloredlogs in /usr/local/lib/python3.12/dist-packages (from onnxruntime>=1.14.1->chromadb) (15.0.1)\n",
            "Requirement already satisfied: flatbuffers in /usr/local/lib/python3.12/dist-packages (from onnxruntime>=1.14.1->chromadb) (25.2.10)\n",
            "Requirement already satisfied: protobuf in /usr/local/lib/python3.12/dist-packages (from onnxruntime>=1.14.1->chromadb) (5.29.5)\n",
            "Requirement already satisfied: sympy in /usr/local/lib/python3.12/dist-packages (from onnxruntime>=1.14.1->chromadb) (1.13.3)\n",
            "Requirement already satisfied: importlib-metadata<8.8.0,>=6.0 in /usr/local/lib/python3.12/dist-packages (from opentelemetry-api>=1.2.0->chromadb) (8.7.0)\n",
            "Requirement already satisfied: googleapis-common-protos~=1.57 in /usr/local/lib/python3.12/dist-packages (from opentelemetry-exporter-otlp-proto-grpc>=1.2.0->chromadb) (1.70.0)\n",
            "Requirement already satisfied: opentelemetry-exporter-otlp-proto-common==1.36.0 in /usr/local/lib/python3.12/dist-packages (from opentelemetry-exporter-otlp-proto-grpc>=1.2.0->chromadb) (1.36.0)\n",
            "Requirement already satisfied: opentelemetry-proto==1.36.0 in /usr/local/lib/python3.12/dist-packages (from opentelemetry-exporter-otlp-proto-grpc>=1.2.0->chromadb) (1.36.0)\n",
            "Requirement already satisfied: opentelemetry-semantic-conventions==0.57b0 in /usr/local/lib/python3.12/dist-packages (from opentelemetry-sdk>=1.2.0->chromadb) (0.57b0)\n",
            "Requirement already satisfied: backoff>=1.10.0 in /usr/local/lib/python3.12/dist-packages (from posthog<6.0.0,>=2.4.0->chromadb) (2.2.1)\n",
            "Requirement already satisfied: distro>=1.5.0 in /usr/local/lib/python3.12/dist-packages (from posthog<6.0.0,>=2.4.0->chromadb) (1.9.0)\n",
            "Requirement already satisfied: annotated-types>=0.6.0 in /usr/local/lib/python3.12/dist-packages (from pydantic>=1.9->chromadb) (0.7.0)\n",
            "Requirement already satisfied: pydantic-core==2.33.2 in /usr/local/lib/python3.12/dist-packages (from pydantic>=1.9->chromadb) (2.33.2)\n",
            "Requirement already satisfied: typing-inspection>=0.4.0 in /usr/local/lib/python3.12/dist-packages (from pydantic>=1.9->chromadb) (0.4.1)\n",
            "Requirement already satisfied: markdown-it-py>=2.2.0 in /usr/local/lib/python3.12/dist-packages (from rich>=10.11.0->chromadb) (4.0.0)\n",
            "Requirement already satisfied: pygments<3.0.0,>=2.13.0 in /usr/local/lib/python3.12/dist-packages (from rich>=10.11.0->chromadb) (2.19.2)\n",
            "Requirement already satisfied: huggingface-hub<1.0,>=0.16.4 in /usr/local/lib/python3.12/dist-packages (from tokenizers>=0.13.2->chromadb) (0.34.4)\n",
            "Requirement already satisfied: click>=8.0.0 in /usr/local/lib/python3.12/dist-packages (from typer>=0.9.0->chromadb) (8.2.1)\n",
            "Requirement already satisfied: shellingham>=1.3.0 in /usr/local/lib/python3.12/dist-packages (from typer>=0.9.0->chromadb) (1.5.4)\n",
            "Requirement already satisfied: httptools>=0.6.3 in /usr/local/lib/python3.12/dist-packages (from uvicorn[standard]>=0.18.3->chromadb) (0.6.4)\n",
            "Requirement already satisfied: python-dotenv>=0.13 in /usr/local/lib/python3.12/dist-packages (from uvicorn[standard]>=0.18.3->chromadb) (1.1.1)\n",
            "Requirement already satisfied: uvloop>=0.15.1 in /usr/local/lib/python3.12/dist-packages (from uvicorn[standard]>=0.18.3->chromadb) (0.21.0)\n",
            "Requirement already satisfied: watchfiles>=0.13 in /usr/local/lib/python3.12/dist-packages (from uvicorn[standard]>=0.18.3->chromadb) (1.1.0)\n",
            "Requirement already satisfied: websockets>=10.4 in /usr/local/lib/python3.12/dist-packages (from uvicorn[standard]>=0.18.3->chromadb) (15.0.1)\n",
            "Requirement already satisfied: cachetools<6.0,>=2.0.0 in /usr/local/lib/python3.12/dist-packages (from google-auth>=1.0.1->kubernetes>=28.1.0->chromadb) (5.5.2)\n",
            "Requirement already satisfied: pyasn1-modules>=0.2.1 in /usr/local/lib/python3.12/dist-packages (from google-auth>=1.0.1->kubernetes>=28.1.0->chromadb) (0.4.2)\n",
            "Requirement already satisfied: rsa<5,>=3.1.4 in /usr/local/lib/python3.12/dist-packages (from google-auth>=1.0.1->kubernetes>=28.1.0->chromadb) (4.9.1)\n",
            "Requirement already satisfied: filelock in /usr/local/lib/python3.12/dist-packages (from huggingface-hub<1.0,>=0.16.4->tokenizers>=0.13.2->chromadb) (3.19.1)\n",
            "Requirement already satisfied: fsspec>=2023.5.0 in /usr/local/lib/python3.12/dist-packages (from huggingface-hub<1.0,>=0.16.4->tokenizers>=0.13.2->chromadb) (2025.3.0)\n",
            "Requirement already satisfied: hf-xet<2.0.0,>=1.1.3 in /usr/local/lib/python3.12/dist-packages (from huggingface-hub<1.0,>=0.16.4->tokenizers>=0.13.2->chromadb) (1.1.7)\n",
            "Requirement already satisfied: zipp>=3.20 in /usr/local/lib/python3.12/dist-packages (from importlib-metadata<8.8.0,>=6.0->opentelemetry-api>=1.2.0->chromadb) (3.23.0)\n",
            "Requirement already satisfied: mdurl~=0.1 in /usr/local/lib/python3.12/dist-packages (from markdown-it-py>=2.2.0->rich>=10.11.0->chromadb) (0.1.2)\n",
            "Requirement already satisfied: charset_normalizer<4,>=2 in /usr/local/lib/python3.12/dist-packages (from requests->kubernetes>=28.1.0->chromadb) (3.4.3)\n",
            "Requirement already satisfied: sniffio>=1.1 in /usr/local/lib/python3.12/dist-packages (from anyio->httpx>=0.27.0->chromadb) (1.3.1)\n",
            "Requirement already satisfied: humanfriendly>=9.1 in /usr/local/lib/python3.12/dist-packages (from coloredlogs->onnxruntime>=1.14.1->chromadb) (10.0)\n",
            "Requirement already satisfied: mpmath<1.4,>=1.1.0 in /usr/local/lib/python3.12/dist-packages (from sympy->onnxruntime>=1.14.1->chromadb) (1.3.0)\n",
            "Requirement already satisfied: pyasn1<0.7.0,>=0.6.1 in /usr/local/lib/python3.12/dist-packages (from pyasn1-modules>=0.2.1->google-auth>=1.0.1->kubernetes>=28.1.0->chromadb) (0.6.1)\n",
            "Requirement already satisfied: tiktoken in /usr/local/lib/python3.12/dist-packages (0.11.0)\n",
            "Requirement already satisfied: regex>=2022.1.18 in /usr/local/lib/python3.12/dist-packages (from tiktoken) (2024.11.6)\n",
            "Requirement already satisfied: requests>=2.26.0 in /usr/local/lib/python3.12/dist-packages (from tiktoken) (2.32.4)\n",
            "Requirement already satisfied: charset_normalizer<4,>=2 in /usr/local/lib/python3.12/dist-packages (from requests>=2.26.0->tiktoken) (3.4.3)\n",
            "Requirement already satisfied: idna<4,>=2.5 in /usr/local/lib/python3.12/dist-packages (from requests>=2.26.0->tiktoken) (3.10)\n",
            "Requirement already satisfied: urllib3<3,>=1.21.1 in /usr/local/lib/python3.12/dist-packages (from requests>=2.26.0->tiktoken) (2.5.0)\n",
            "Requirement already satisfied: certifi>=2017.4.17 in /usr/local/lib/python3.12/dist-packages (from requests>=2.26.0->tiktoken) (2025.8.3)\n"
          ]
        }
      ]
    },
    {
      "cell_type": "code",
      "source": [
        "# Install packages for web scraping and utilities\n",
        "!pip install beautifulsoup4\n",
        "!pip install requests\n",
        "!pip install pandas numpy"
      ],
      "metadata": {
        "colab": {
          "base_uri": "https://localhost:8080/"
        },
        "id": "mqymivsX907H",
        "outputId": "6ff3b045-f9bc-4b28-b243-7d969e6d4d75"
      },
      "execution_count": 53,
      "outputs": [
        {
          "output_type": "stream",
          "name": "stdout",
          "text": [
            "Requirement already satisfied: beautifulsoup4 in /usr/local/lib/python3.12/dist-packages (4.13.4)\n",
            "Requirement already satisfied: soupsieve>1.2 in /usr/local/lib/python3.12/dist-packages (from beautifulsoup4) (2.7)\n",
            "Requirement already satisfied: typing-extensions>=4.0.0 in /usr/local/lib/python3.12/dist-packages (from beautifulsoup4) (4.14.1)\n",
            "Requirement already satisfied: requests in /usr/local/lib/python3.12/dist-packages (2.32.4)\n",
            "Requirement already satisfied: charset_normalizer<4,>=2 in /usr/local/lib/python3.12/dist-packages (from requests) (3.4.3)\n",
            "Requirement already satisfied: idna<4,>=2.5 in /usr/local/lib/python3.12/dist-packages (from requests) (3.10)\n",
            "Requirement already satisfied: urllib3<3,>=1.21.1 in /usr/local/lib/python3.12/dist-packages (from requests) (2.5.0)\n",
            "Requirement already satisfied: certifi>=2017.4.17 in /usr/local/lib/python3.12/dist-packages (from requests) (2025.8.3)\n",
            "Requirement already satisfied: pandas in /usr/local/lib/python3.12/dist-packages (2.2.2)\n",
            "Requirement already satisfied: numpy in /usr/local/lib/python3.12/dist-packages (2.0.2)\n",
            "Requirement already satisfied: python-dateutil>=2.8.2 in /usr/local/lib/python3.12/dist-packages (from pandas) (2.9.0.post0)\n",
            "Requirement already satisfied: pytz>=2020.1 in /usr/local/lib/python3.12/dist-packages (from pandas) (2025.2)\n",
            "Requirement already satisfied: tzdata>=2022.7 in /usr/local/lib/python3.12/dist-packages (from pandas) (2025.2)\n",
            "Requirement already satisfied: six>=1.5 in /usr/local/lib/python3.12/dist-packages (from python-dateutil>=2.8.2->pandas) (1.17.0)\n"
          ]
        }
      ]
    },
    {
      "cell_type": "code",
      "source": [
        "!pip install langchain-community"
      ],
      "metadata": {
        "colab": {
          "base_uri": "https://localhost:8080/"
        },
        "id": "_cDktBCv-WyZ",
        "outputId": "24d1e926-f204-40d0-f13c-076a06d8a0be"
      },
      "execution_count": 54,
      "outputs": [
        {
          "output_type": "stream",
          "name": "stdout",
          "text": [
            "Collecting langchain-community\n",
            "  Downloading langchain_community-0.3.27-py3-none-any.whl.metadata (2.9 kB)\n",
            "Requirement already satisfied: langchain-core<1.0.0,>=0.3.66 in /usr/local/lib/python3.12/dist-packages (from langchain-community) (0.3.74)\n",
            "Requirement already satisfied: langchain<1.0.0,>=0.3.26 in /usr/local/lib/python3.12/dist-packages (from langchain-community) (0.3.27)\n",
            "Requirement already satisfied: SQLAlchemy<3,>=1.4 in /usr/local/lib/python3.12/dist-packages (from langchain-community) (2.0.43)\n",
            "Requirement already satisfied: requests<3,>=2 in /usr/local/lib/python3.12/dist-packages (from langchain-community) (2.32.4)\n",
            "Requirement already satisfied: PyYAML>=5.3 in /usr/local/lib/python3.12/dist-packages (from langchain-community) (6.0.2)\n",
            "Requirement already satisfied: aiohttp<4.0.0,>=3.8.3 in /usr/local/lib/python3.12/dist-packages (from langchain-community) (3.12.15)\n",
            "Requirement already satisfied: tenacity!=8.4.0,<10,>=8.1.0 in /usr/local/lib/python3.12/dist-packages (from langchain-community) (8.5.0)\n",
            "Collecting dataclasses-json<0.7,>=0.5.7 (from langchain-community)\n",
            "  Downloading dataclasses_json-0.6.7-py3-none-any.whl.metadata (25 kB)\n",
            "Requirement already satisfied: pydantic-settings<3.0.0,>=2.4.0 in /usr/local/lib/python3.12/dist-packages (from langchain-community) (2.10.1)\n",
            "Requirement already satisfied: langsmith>=0.1.125 in /usr/local/lib/python3.12/dist-packages (from langchain-community) (0.4.14)\n",
            "Requirement already satisfied: httpx-sse<1.0.0,>=0.4.0 in /usr/local/lib/python3.12/dist-packages (from langchain-community) (0.4.1)\n",
            "Requirement already satisfied: numpy>=1.26.2 in /usr/local/lib/python3.12/dist-packages (from langchain-community) (2.0.2)\n",
            "Requirement already satisfied: aiohappyeyeballs>=2.5.0 in /usr/local/lib/python3.12/dist-packages (from aiohttp<4.0.0,>=3.8.3->langchain-community) (2.6.1)\n",
            "Requirement already satisfied: aiosignal>=1.4.0 in /usr/local/lib/python3.12/dist-packages (from aiohttp<4.0.0,>=3.8.3->langchain-community) (1.4.0)\n",
            "Requirement already satisfied: attrs>=17.3.0 in /usr/local/lib/python3.12/dist-packages (from aiohttp<4.0.0,>=3.8.3->langchain-community) (25.3.0)\n",
            "Requirement already satisfied: frozenlist>=1.1.1 in /usr/local/lib/python3.12/dist-packages (from aiohttp<4.0.0,>=3.8.3->langchain-community) (1.7.0)\n",
            "Requirement already satisfied: multidict<7.0,>=4.5 in /usr/local/lib/python3.12/dist-packages (from aiohttp<4.0.0,>=3.8.3->langchain-community) (6.6.4)\n",
            "Requirement already satisfied: propcache>=0.2.0 in /usr/local/lib/python3.12/dist-packages (from aiohttp<4.0.0,>=3.8.3->langchain-community) (0.3.2)\n",
            "Requirement already satisfied: yarl<2.0,>=1.17.0 in /usr/local/lib/python3.12/dist-packages (from aiohttp<4.0.0,>=3.8.3->langchain-community) (1.20.1)\n",
            "Collecting marshmallow<4.0.0,>=3.18.0 (from dataclasses-json<0.7,>=0.5.7->langchain-community)\n",
            "  Downloading marshmallow-3.26.1-py3-none-any.whl.metadata (7.3 kB)\n",
            "Collecting typing-inspect<1,>=0.4.0 (from dataclasses-json<0.7,>=0.5.7->langchain-community)\n",
            "  Downloading typing_inspect-0.9.0-py3-none-any.whl.metadata (1.5 kB)\n",
            "Requirement already satisfied: langchain-text-splitters<1.0.0,>=0.3.9 in /usr/local/lib/python3.12/dist-packages (from langchain<1.0.0,>=0.3.26->langchain-community) (0.3.9)\n",
            "Requirement already satisfied: pydantic<3.0.0,>=2.7.4 in /usr/local/lib/python3.12/dist-packages (from langchain<1.0.0,>=0.3.26->langchain-community) (2.11.7)\n",
            "Requirement already satisfied: jsonpatch<2.0,>=1.33 in /usr/local/lib/python3.12/dist-packages (from langchain-core<1.0.0,>=0.3.66->langchain-community) (1.33)\n",
            "Requirement already satisfied: typing-extensions>=4.7 in /usr/local/lib/python3.12/dist-packages (from langchain-core<1.0.0,>=0.3.66->langchain-community) (4.14.1)\n",
            "Requirement already satisfied: packaging>=23.2 in /usr/local/lib/python3.12/dist-packages (from langchain-core<1.0.0,>=0.3.66->langchain-community) (25.0)\n",
            "Requirement already satisfied: httpx<1,>=0.23.0 in /usr/local/lib/python3.12/dist-packages (from langsmith>=0.1.125->langchain-community) (0.28.1)\n",
            "Requirement already satisfied: orjson>=3.9.14 in /usr/local/lib/python3.12/dist-packages (from langsmith>=0.1.125->langchain-community) (3.11.2)\n",
            "Requirement already satisfied: requests-toolbelt>=1.0.0 in /usr/local/lib/python3.12/dist-packages (from langsmith>=0.1.125->langchain-community) (1.0.0)\n",
            "Requirement already satisfied: zstandard>=0.23.0 in /usr/local/lib/python3.12/dist-packages (from langsmith>=0.1.125->langchain-community) (0.24.0)\n",
            "Requirement already satisfied: python-dotenv>=0.21.0 in /usr/local/lib/python3.12/dist-packages (from pydantic-settings<3.0.0,>=2.4.0->langchain-community) (1.1.1)\n",
            "Requirement already satisfied: typing-inspection>=0.4.0 in /usr/local/lib/python3.12/dist-packages (from pydantic-settings<3.0.0,>=2.4.0->langchain-community) (0.4.1)\n",
            "Requirement already satisfied: charset_normalizer<4,>=2 in /usr/local/lib/python3.12/dist-packages (from requests<3,>=2->langchain-community) (3.4.3)\n",
            "Requirement already satisfied: idna<4,>=2.5 in /usr/local/lib/python3.12/dist-packages (from requests<3,>=2->langchain-community) (3.10)\n",
            "Requirement already satisfied: urllib3<3,>=1.21.1 in /usr/local/lib/python3.12/dist-packages (from requests<3,>=2->langchain-community) (2.5.0)\n",
            "Requirement already satisfied: certifi>=2017.4.17 in /usr/local/lib/python3.12/dist-packages (from requests<3,>=2->langchain-community) (2025.8.3)\n",
            "Requirement already satisfied: greenlet>=1 in /usr/local/lib/python3.12/dist-packages (from SQLAlchemy<3,>=1.4->langchain-community) (3.2.4)\n",
            "Requirement already satisfied: anyio in /usr/local/lib/python3.12/dist-packages (from httpx<1,>=0.23.0->langsmith>=0.1.125->langchain-community) (4.10.0)\n",
            "Requirement already satisfied: httpcore==1.* in /usr/local/lib/python3.12/dist-packages (from httpx<1,>=0.23.0->langsmith>=0.1.125->langchain-community) (1.0.9)\n",
            "Requirement already satisfied: h11>=0.16 in /usr/local/lib/python3.12/dist-packages (from httpcore==1.*->httpx<1,>=0.23.0->langsmith>=0.1.125->langchain-community) (0.16.0)\n",
            "Requirement already satisfied: jsonpointer>=1.9 in /usr/local/lib/python3.12/dist-packages (from jsonpatch<2.0,>=1.33->langchain-core<1.0.0,>=0.3.66->langchain-community) (3.0.0)\n",
            "Requirement already satisfied: annotated-types>=0.6.0 in /usr/local/lib/python3.12/dist-packages (from pydantic<3.0.0,>=2.7.4->langchain<1.0.0,>=0.3.26->langchain-community) (0.7.0)\n",
            "Requirement already satisfied: pydantic-core==2.33.2 in /usr/local/lib/python3.12/dist-packages (from pydantic<3.0.0,>=2.7.4->langchain<1.0.0,>=0.3.26->langchain-community) (2.33.2)\n",
            "Collecting mypy-extensions>=0.3.0 (from typing-inspect<1,>=0.4.0->dataclasses-json<0.7,>=0.5.7->langchain-community)\n",
            "  Downloading mypy_extensions-1.1.0-py3-none-any.whl.metadata (1.1 kB)\n",
            "Requirement already satisfied: sniffio>=1.1 in /usr/local/lib/python3.12/dist-packages (from anyio->httpx<1,>=0.23.0->langsmith>=0.1.125->langchain-community) (1.3.1)\n",
            "Downloading langchain_community-0.3.27-py3-none-any.whl (2.5 MB)\n",
            "\u001b[2K   \u001b[90m━━━━━━━━━━━━━━━━━━━━━━━━━━━━━━━━━━━━━━━━\u001b[0m \u001b[32m2.5/2.5 MB\u001b[0m \u001b[31m24.9 MB/s\u001b[0m eta \u001b[36m0:00:00\u001b[0m\n",
            "\u001b[?25hDownloading dataclasses_json-0.6.7-py3-none-any.whl (28 kB)\n",
            "Downloading marshmallow-3.26.1-py3-none-any.whl (50 kB)\n",
            "\u001b[2K   \u001b[90m━━━━━━━━━━━━━━━━━━━━━━━━━━━━━━━━━━━━━━━━\u001b[0m \u001b[32m50.9/50.9 kB\u001b[0m \u001b[31m3.5 MB/s\u001b[0m eta \u001b[36m0:00:00\u001b[0m\n",
            "\u001b[?25hDownloading typing_inspect-0.9.0-py3-none-any.whl (8.8 kB)\n",
            "Downloading mypy_extensions-1.1.0-py3-none-any.whl (5.0 kB)\n",
            "Installing collected packages: mypy-extensions, marshmallow, typing-inspect, dataclasses-json, langchain-community\n",
            "Successfully installed dataclasses-json-0.6.7 langchain-community-0.3.27 marshmallow-3.26.1 mypy-extensions-1.1.0 typing-inspect-0.9.0\n"
          ]
        }
      ]
    },
    {
      "cell_type": "markdown",
      "source": [
        "### Step 2: Import Required Libraries"
      ],
      "metadata": {
        "id": "hpe3F5F19-Bk"
      }
    },
    {
      "cell_type": "code",
      "source": [
        "import os\n",
        "from langchain_openai import ChatOpenAI\n",
        "from langchain.schema import HumanMessage, SystemMessage\n",
        "from langchain.prompts import ChatPromptTemplate"
      ],
      "metadata": {
        "id": "irVMez_v-CiD"
      },
      "execution_count": 55,
      "outputs": []
    },
    {
      "cell_type": "code",
      "source": [
        "from langchain.chains import LLMChain\n",
        "from langchain.memory import ConversationBufferMemory\n",
        "from langchain_text_splitters import RecursiveCharacterTextSplitter"
      ],
      "metadata": {
        "id": "IFhJi-mV-GxI"
      },
      "execution_count": 56,
      "outputs": []
    },
    {
      "cell_type": "markdown",
      "source": [
        "## Basic Configuration\n",
        "\n",
        "### Step 3: Configure OpenRouter\n",
        "\n",
        "First, you need to get an API key from [OpenRouter](https://openrouter.ai/). Then set it up in Colab:\n"
      ],
      "metadata": {
        "id": "veauEqO3-Oh8"
      }
    },
    {
      "cell_type": "code",
      "source": [
        "# Set your OpenRouter API key (replace with your actual key)\n",
        "import getpass\n",
        "api_key = getpass.getpass(\"Enter your OpenRouter API key: \")\n",
        "#os.environ[\"OPENAI_API_KEY\"] = \"sk-or-v1-d364066ceb3339067def1c2ca462d2f8c5e760aac5b68632b124a7d198ab8bebi\"\n",
        "os.environ[\"OPENAI_API_KEY\"] = api_key"
      ],
      "metadata": {
        "colab": {
          "base_uri": "https://localhost:8080/"
        },
        "id": "9ZF612-D-NnU",
        "outputId": "7ffebf21-9537-4b11-aa92-057dc4fa2299"
      },
      "execution_count": 57,
      "outputs": [
        {
          "name": "stdout",
          "output_type": "stream",
          "text": [
            "Enter your OpenRouter API key: ··········\n"
          ]
        }
      ]
    },
    {
      "cell_type": "code",
      "source": [
        "# Configure the LLM with OpenRouter\n",
        "llm = ChatOpenAI(\n",
        "    base_url=\"https://openrouter.ai/api/v1\",\n",
        "    model=\"openai/gpt-oss-20b:free\",\n",
        "    temperature=0.7,\n",
        "    api_key=os.environ[\"OPENAI_API_KEY\"] # Explicitly pass the API key\n",
        ")"
      ],
      "metadata": {
        "id": "EuZQFuLfKoba"
      },
      "execution_count": 58,
      "outputs": []
    },
    {
      "cell_type": "markdown",
      "source": [
        "### Step 4: Test Basic Connection"
      ],
      "metadata": {
        "id": "B76G7OSnK6j8"
      }
    },
    {
      "cell_type": "code",
      "source": [
        "# Test the connection\n",
        "response = llm.invoke([HumanMessage(content=\"Hello! Can you confirm the connection is working?\")])\n",
        "print(response.content)"
      ],
      "metadata": {
        "colab": {
          "base_uri": "https://localhost:8080/"
        },
        "id": "ZLM8zg8JK8RE",
        "outputId": "6439e098-657b-4293-d779-df84505397df"
      },
      "execution_count": 59,
      "outputs": [
        {
          "output_type": "stream",
          "name": "stdout",
          "text": [
            "Hi! Connection is good—everything’s working smoothly on my end. How can I help you today?\n"
          ]
        }
      ]
    },
    {
      "cell_type": "markdown",
      "source": [
        "## Scenario 1: Customer Support Chatbot\n",
        "\n",
        "### Real-World Application: E-commerce Customer Service\n",
        "\n",
        "Let's build a customer support chatbot for an online electronics store."
      ],
      "metadata": {
        "id": "aplMkGxLK-1j"
      }
    },
    {
      "cell_type": "code",
      "source": [
        "# Create a system prompt for customer support\n",
        "system_prompt = \"\"\"You are a helpful customer support agent for TechStore,\n",
        "an online electronics retailer. You should be friendly, professional,\n",
        "and knowledgeable about common issues like orders, returns, and products.\"\"\""
      ],
      "metadata": {
        "id": "YWE_UNLhLERK"
      },
      "execution_count": 60,
      "outputs": []
    },
    {
      "cell_type": "code",
      "source": [
        "# Create a conversation memory\n",
        "memory = ConversationBufferMemory(return_messages=True)"
      ],
      "metadata": {
        "id": "8kPgsPzJLHPS"
      },
      "execution_count": 61,
      "outputs": []
    },
    {
      "cell_type": "code",
      "source": [
        "# Create the customer support chain\n",
        "support_prompt = ChatPromptTemplate.from_messages([\n",
        "    (\"system\", system_prompt),\n",
        "    (\"human\", \"{input}\")\n",
        "])"
      ],
      "metadata": {
        "id": "T_q-dq3_LRFx"
      },
      "execution_count": 62,
      "outputs": []
    },
    {
      "cell_type": "code",
      "source": [
        "from langchain_core.runnables import RunnableSequence\n",
        "from operator import itemgetter\n",
        "\n",
        "# Create the customer support chain with memory integration\n",
        "# This pattern loads memory, formats the prompt, invokes the LLM, and saves the context\n",
        "support_chain = (\n",
        "    {\n",
        "        \"input\": itemgetter(\"input\"),\n",
        "        \"chat_history\": lambda x: memory.load_memory_variables({})[\"history\"]\n",
        "    }\n",
        "    | support_prompt\n",
        "    | llm\n",
        ")\n",
        "\n",
        "# Note: Saving the context back to memory after the response\n",
        "# is handled separately when invoking the chain in the next step."
      ],
      "metadata": {
        "id": "lujYkrG8LTJr"
      },
      "execution_count": 63,
      "outputs": []
    },
    {
      "cell_type": "code",
      "source": [
        "# Test the customer support bot\n",
        "response = support_chain.invoke({\"input\": \"I ordered a laptop 3 days ago but haven't received shipping confirmation\"})\n",
        "print(response.content) # Use .content to access the response text"
      ],
      "metadata": {
        "colab": {
          "base_uri": "https://localhost:8080/"
        },
        "id": "1ezGqhpGLh0S",
        "outputId": "5818135d-1163-4bfe-a9cb-e37bcc5d2e34"
      },
      "execution_count": 64,
      "outputs": [
        {
          "output_type": "stream",
          "name": "stdout",
          "text": [
            "Hi there haven’t seen a shipping confirmation yet. Let’s get that sorted out right away.\n",
            "\n",
            "Could you please share your order number (or the email address you used to place the order)? Once I have that, I’ll check the order status and let you know where it is in the process and when you can expect the confirmation email.\n",
            "\n",
            "If you haven’t received any email at all, I’ll also make sure your contact details are correct and resend the confirmation.\n",
            "\n",
            "Thanks for your patience—looking forward to helping you!\n"
          ]
        }
      ]
    },
    {
      "cell_type": "markdown",
      "source": [
        "### Advanced Customer Support Features"
      ],
      "metadata": {
        "id": "ZH2DTxJ1L8qL"
      }
    },
    {
      "cell_type": "code",
      "source": [
        "# Create a knowledge base for common issues\n",
        "knowledge_base = {\n",
        "    \"shipping\": \"Standard shipping takes 3-5 business days. Express shipping takes 1-2 business days.\",\n",
        "    \"returns\": \"You can return items within 30 days of purchase. Items must be in original condition.\",\n",
        "    \"warranty\": \"All electronics come with a 1-year manufacturer warranty.\"\n",
        "}"
      ],
      "metadata": {
        "id": "CzRI5FX9L_Kq"
      },
      "execution_count": 65,
      "outputs": []
    },
    {
      "cell_type": "code",
      "source": [
        "# Enhanced support chain with knowledge lookup\n",
        "def enhanced_support_response(question):\n",
        "    # Simple keyword matching for demo\n",
        "    for key, info in knowledge_base.items():\n",
        "        if key.lower() in question.lower():\n",
        "            return f\"Based on our policy: {info}\\n\\nLet me provide more specific help with your question.\"\n",
        "    return \"Let me help you with that question.\""
      ],
      "metadata": {
        "id": "nqtcUVJPMBhS"
      },
      "execution_count": 66,
      "outputs": []
    },
    {
      "cell_type": "code",
      "source": [
        "# Test enhanced support\n",
        "kb_info = enhanced_support_response(\"What's your return policy?\")\n",
        "full_response = support_chain.invoke({\"input\": f\"{kb_info}\\n\\nCustomer question: What's your return policy?\"}) # Use .invoke()\n",
        "print(full_response.content) # Use .content to access the response text"
      ],
      "metadata": {
        "colab": {
          "base_uri": "https://localhost:8080/"
        },
        "id": "k1hCm_ILMJt5",
        "outputId": "f478dc23-cbac-4737-ad24-47c3d8439b5f"
      },
      "execution_count": 67,
      "outputs": [
        {
          "output_type": "stream",
          "name": "stdout",
          "text": [
            "Hi there! 👋  \n",
            "We’re happy to help you with our return policy. Here’s what you need to know:\n",
            "\n",
            "| **Return Window** | **Timeframe** |\n",
            "|--------------------|---------------|\n",
            "| **Standard returns** | 30 days from the date you received the item |\n",
            "| **Warranty or defect returns** | 60 days from the date of purchase (if the item is defective or not as described) |\n",
            "\n",
            "### How to Return an Item\n",
            "\n",
            "1. **Log in to your account** – Go to the “Orders” section and locate the order you’d like to return.  \n",
            "2. **Start a return** – Click “Return” next to the item.  \n",
            "3. **Print the return label** – The label is free and includes a barcode for quick processing.  \n",
            "4. **Pack the item** – Use the original packaging if possible. Include all accessories, manuals, and the original receipt or order confirmation.  \n",
            "5. **Drop off or schedule a pickup** – Drop the package at any of our partner shipping locations, or schedule a free pickup if you’re in one of the supported regions.\n",
            "\n",
            "### What to Keep in Mind\n",
            "\n",
            "- **Condition** – Items must be unused, with all original tags and packaging.  \n",
            "- **Non‑returnable items** – Certain categories such as personalized items, gift cards, or hazardous materials (e.g., batteries) are non‑returnable.  \n",
            "- **Restocking fee** – A small restocking fee may apply for certain high‑value items if they are returned in a condition that’s not as new or original.  \n",
            "- **Refund method** – Refunds are issued to the original payment method. For gift card purchases, we’ll issue a replacement card.\n",
            "\n",
            "### Need Help?\n",
            "\n",
            "- **Live chat** – Click the chat icon at the bottom right of our site.  \n",
            "- **Call us** – 1‑800‑TECH‑STO (1‑800‑843‑8748) – Mon‑Fri 9 AM‑6 PM EST.  \n",
            "- **Email** – support@techstore.com – we’ll reply within 24 hours.\n",
            "\n",
            "If you need a return for a specific order, just let us know the order number and we’ll walk you through it step‑by‑step. Thanks for shopping with TechStore, and we’re always here to help!\n"
          ]
        }
      ]
    },
    {
      "cell_type": "markdown",
      "source": [
        "## Scenario 2: Document Analysis & Summarization\n",
        "\n",
        "### Real-World Application: Legal Document Review\n",
        "\n",
        "Let's create a system that can analyze and summarize legal contracts or business documents."
      ],
      "metadata": {
        "id": "GOxGv9QnMeAD"
      }
    },
    {
      "cell_type": "code",
      "source": [
        "# Create sample document content (you can upload files in Colab)\n",
        "sample_contract = \"\"\"\n",
        "EMPLOYMENT AGREEMENT\n",
        "This Employment Agreement is entered into between TechCorp Inc. and John Smith.\n",
        "Position: Senior Software Engineer\n",
        "Start Date: January 15, 2024\n",
        "Salary: $120,000 annually\n",
        "Benefits: Health insurance, dental coverage, 401k matching up to 4%\n",
        "Vacation: 20 days annually\n",
        "Termination: Either party may terminate with 30 days notice\n",
        "Non-compete: 6 months restriction in same industry within 50 miles\n",
        "\"\"\""
      ],
      "metadata": {
        "id": "oGG_xxEfMi6z"
      },
      "execution_count": 68,
      "outputs": []
    },
    {
      "cell_type": "code",
      "source": [
        "# Create document analyzer\n",
        "doc_analyzer_prompt = ChatPromptTemplate.from_template(\"\"\"\n",
        "Analyze the following document and provide:\n",
        "1. Key terms and conditions\n",
        "2. Important dates and numbers\n",
        "3. Potential concerns or red flags\n",
        "4. Brief summary\n",
        "\n",
        "Document: {document}\n",
        "\"\"\")"
      ],
      "metadata": {
        "id": "ak6vtyF8MmWa"
      },
      "execution_count": 69,
      "outputs": []
    },
    {
      "cell_type": "code",
      "source": [
        "doc_chain = LLMChain(llm=llm, prompt=doc_analyzer_prompt)\n",
        "analysis = doc_chain.run(document=sample_contract)\n",
        "print(analysis)"
      ],
      "metadata": {
        "colab": {
          "base_uri": "https://localhost:8080/"
        },
        "id": "xJ28ODO-Mpij",
        "outputId": "0ce55ab7-6910-4908-cf66-0a7eec36416d"
      },
      "execution_count": 70,
      "outputs": [
        {
          "output_type": "stream",
          "name": "stdout",
          "text": [
            "**1. Key Terms & Conditions**\n",
            "\n",
            "| Element | Detail |\n",
            "|---------|--------|\n",
            "| **Parties** | TechCorp Inc. (employer) & John Smith (employee) |\n",
            "| **Position** | Senior Software Engineer |\n",
            "| **Start Date** | January 15, 2024 |\n",
            "| **Compensation** | $120,000 per year (annual salary) |\n",
            "| **Benefits** | • Health insurance<br>• Dental coverage<br>• 401(k) matching up to 4 % of salary |\n",
            "| **Vacation** | 20 paid days per calendar year |\n",
            "| **Termination** | Either party may end employment with 30 days written notice |\n",
            "| **Non‑compete** | 6‑month restriction on working in the same industry within a 50‑mile radius of the employer’s location |\n",
            "\n",
            "---\n",
            "\n",
            "**2. Important Dates & Numbers**\n",
            "\n",
            "| Item | Value |\n",
            "|------|-------|\n",
            "| Start Date | Jan 15 2024 |\n",
            "| Salary | $120,000 / yr |\n",
            "| 401(k) match | Up to 4 % of salary |\n",
            "| Vacation days | 20 days/ |\n",
            "| Notice period | 30 days |\n",
            "| Non‑compete duration | 6 months |\n",
            "| Non‑compete radius | 50 miles |\n",
            "\n",
            "---\n",
            "\n",
            "**3. Potential Concerns / Red Flags**\n",
            "\n",
            "| Area | Issue | Why it matters |\n",
            "|------|-------|----------------|\n",
            "| **Non‑compete** | 6‑month, 50‑mile restriction in the *same industry* | May limit future job prospects in a relatively large geographic area; unclear definition of “same industry” could be interpreted broadly. |\n",
            "| **Benefits detail** | No mention of life insurance, disability coverage, or other perks | Employee may need to negotiate additional benefits or seek them elsewhere. |\n",
            "| **Vacation** | 20 days annually | Lower than industry averages for senior tech roles (often 15–25 days plus public holidays). |\n",
            "| **Termination** | Only notice requirement, no severance clause | Employee may be left without compensation if suddenly terminated without cause. |\n",
            "| **No probation clause** | Not specified | Ambiguity about early review period or initial performance expectations. |\n",
            "| **No IP or confidentiality clause** | Absent | Could expose the employee to risks in handling proprietary code or data. |\n",
            "| **No location / remote policy** | Not indicated | Unclear whether the role is on‑site, hybrid, or fully remote. |\n",
            "| **No bonus or equity** | Absent | Potentially less competitive compensation package. |\n",
            "\n",
            "---\n",
            "\n",
            "**4. Brief Summary**\n",
            "\n",
            "This is a straightforward employment agreement for John Smith as a Senior Software Engineer at TechCorp Inc., effective January 15, 2024. He will receive an annual salary of $120,000, health/dental insurance, and a 4 % 401(k) match, along with 20 vacation days. Either party may terminate the agreement with a 30‑day notice. The contract also imposes a 6‑month non‑compete restriction within 50 miles in the same industry. While the core terms are clear, the document omits several common clauses (e.g., probation, severance, IP rights, bonus/equity, remote work policy) and includes a potentially restrictive non‑compete that could limit future employment opportunities. These gaps should be reviewed and, if necessary, negotiated before signing.\n"
          ]
        }
      ]
    },
    {
      "cell_type": "markdown",
      "source": [
        "### Document Splitting and Processing"
      ],
      "metadata": {
        "id": "zSBl-4tdMx6p"
      }
    },
    {
      "cell_type": "code",
      "source": [
        "# For larger documents, split them into chunks\n",
        "text_splitter = RecursiveCharacterTextSplitter(\n",
        "    chunk_size=1000,\n",
        "    chunk_overlap=200\n",
        ")"
      ],
      "metadata": {
        "id": "gpi5NwgPMz3D"
      },
      "execution_count": 71,
      "outputs": []
    },
    {
      "cell_type": "code",
      "source": [
        "# Create a document summarization chain\n",
        "summary_prompt = ChatPromptTemplate.from_template(\"\"\"\n",
        "Summarize the following text section concisely:\n",
        "{text}\n",
        "\n",
        "Summary:\n",
        "\"\"\")"
      ],
      "metadata": {
        "id": "qejluszyM19C"
      },
      "execution_count": 72,
      "outputs": []
    },
    {
      "cell_type": "code",
      "source": [
        "summary_chain = LLMChain(llm=llm, prompt=summary_prompt)\n",
        "chunks = text_splitter.split_text(sample_contract)\n",
        "summaries = [summary_chain.run(text=chunk) for chunk in chunks]\n",
        "print(\"Document summaries:\", summaries)"
      ],
      "metadata": {
        "colab": {
          "base_uri": "https://localhost:8080/"
        },
        "id": "_ZKyctZ2M4VS",
        "outputId": "ca2e2476-da59-4414-9800-c6193d1a9985"
      },
      "execution_count": 73,
      "outputs": [
        {
          "output_type": "stream",
          "name": "stdout",
          "text": [
            "Document summaries: ['**Summary**\\n\\nTechCorp Inc. hires John Smith as a Senior Software Engineer starting January\\u202f15,\\u202f2024, with an annual salary of $120,000. Benefits include health, dental, and 401(k) matching up to 4%. Smith receives 20 vacation days per year. Either party may terminate the agreement with 30\\u202fdays’ notice. A 6‑month non‑compete applies within the same industry and 50‑mile radius.']\n"
          ]
        }
      ]
    },
    {
      "cell_type": "markdown",
      "source": [
        "## Scenario 3: Code Review Assistant\n",
        "\n",
        "### Real-World Application: Automated Code Quality Assessment\n",
        "\n",
        "Let's build a system that reviews code for best practices, bugs, and improvements."
      ],
      "metadata": {
        "id": "tD6RnUb6M-RT"
      }
    },
    {
      "cell_type": "code",
      "source": [
        "# Sample code to review\n",
        "sample_code = '''\n",
        "def calculate_discount(price, discount_percent):\n",
        "    discount = price * discount_percent / 100\n",
        "    final_price = price - discount\n",
        "    return final_price\n",
        "\n",
        "# Usage\n",
        "price = 100\n",
        "result = calculate_discount(price, 20)\n",
        "print(f\"Final price: ${result}\")\n",
        "'''"
      ],
      "metadata": {
        "id": "Fi8G6B7BNAjk"
      },
      "execution_count": 74,
      "outputs": []
    },
    {
      "cell_type": "code",
      "source": [
        "# Create code review prompt\n",
        "code_review_prompt = ChatPromptTemplate.from_template(\"\"\"\n",
        "Review the following code and provide:\n",
        "1. Code quality assessment (1-10)\n",
        "2. Potential bugs or issues\n",
        "3. Improvement suggestions\n",
        "4. Best practices recommendations\n",
        "\n",
        "Code:\n",
        "{code}\n",
        "\"\"\")"
      ],
      "metadata": {
        "id": "_pck5EoKNENU"
      },
      "execution_count": 75,
      "outputs": []
    },
    {
      "cell_type": "code",
      "source": [
        "code_reviewer = LLMChain(llm=llm, prompt=code_review_prompt)\n",
        "review = code_reviewer.run(code=sample_code)\n",
        "print(review)"
      ],
      "metadata": {
        "colab": {
          "base_uri": "https://localhost:8080/"
        },
        "id": "g5vsmUNpNGwL",
        "outputId": "45c5d31f-588c-4d8d-9845-2b3dfa80edee"
      },
      "execution_count": 76,
      "outputs": [
        {
          "output_type": "stream",
          "name": "stdout",
          "text": [
            "**1. Code quality assessment (1‑10)**  \n",
            "**Score: 7**\n",
            "\n",
            "The snippet is clear, concise, and does exactly what it claims to do. However, there are several areas where it could be more robust, self‑documenting, and aligned with Python best practices.\n",
            "\n",
            "---\n",
            "\n",
            "## 2. Potential bugs / issues\n",
            "\n",
            "| # | Issue | Why it matters | Example impact |\n",
            "|---|-------|----------------|----------------|\n",
            "| 1 | **No input validation** | `price` or `discount_percent` could be negative, zero, or even non‑numeric. | `calculate_discount(-50, 20)` → negative final price; `calculate_discount(100, 150)` → discount > price. |\n",
            "| 2 | **Discount percent > 100%** | The function will happily return a negative final price, which is usually unintended. | `calculate_discount(120, 150)` → `-30`. |\n",
            "| 3 | **Floating‑point precision** | Returning raw float can lead to artifacts like `19.999999999999996` when the user expects `20`. | `calculate_discount(100, 20)` → `80.0` (OK) but more complex numbers may show imprecision. |\n",
            "| 4 | **No type hints / docstring** | Lacking type information makes static analysis, IDE hints, or future maintenance harder. | A developer might pass a string and get a cryptic `TypeError`. |\n",
            "| 5 | **Hard‑coded usage** | The snippet prints a hard‑coded example. In a reusable library this is undesirable. | Running the module as a library will always print a line, potentially polluting output. |\n",
            "| 6 | **No guard for `__name__ == \"__main__\"`** | If the module is imported, the example code runs unconditionally. | Side‑effects on import. |\n",
            "\n",
            "---\n",
            "\n",
            "## 3. Improvement suggestions\n",
            "\n",
            "| Category | Recommendation | Example |\n",
            "|----------|----------------|---------|\n",
            "| **Type hints** | Add explicit types to the function signature. | `def calculate_discount(price: float, discount_percent: float) -> float:`| **Docstring** | Provide a clear description, parameter types, return type, and examples. | `\"\"\"Calculate the final price after applying a percentage discount.\"\"\"` |\n",
            "| **Input validation** | Check that `price ≥ 0`, `0 ≤ discount_percent ≤ 100`. Raise `ValueError` otherwise. | `if price < 0: raise ValueError(\"price must be non‑negative\")` |\n",
            "| **Rounding / formatting** | Return a value rounded to two decimal places or let the caller format. | `return round(final_price, 2)` |\n",
            "| **Main guard** | Wrap example usage in `if __name__ == \"__main__\":`. | ```python\\nif __name__ == \"__main__\":\\n    price = 100\\n    result = calculate_discount(price, 20)\\n    print(f\"Final price: ${result:.2f}\")``` |\n",
            "| **Constants / Config** | If the discount is a common constant, expose it as `DEFAULT_DISCOUNT = 20.0`. | `DEFAULT_DISCOUNT = 20.0` |\n",
            "| **Testing** | Write a small test function or use `unittest`/`pytest`. | ```python\\nassert calculate_discount(100, 20) == 80.0``` |\n",
            "| **Logging instead of print** | For library code, use `logging` rather than `print`. | `logging.info(\"Final price: %.2f\", result)` |\n",
            "| **PEP‑8 compliance** | Keep a maximum line length of 79, use snake_case, add a blank line before function definitions. | See example below. |\n",
            "\n",
            "---\n",
            "\n",
            "## 4. Best‑practice recommendations\n",
            "\n",
            "1. **Self‑documenting code** – Use descriptive names, docstrings, and type hints.\n",
            "2. **Defensive programming** – Validate inputs and provide clear error messages.\n",
            "3. **Pure functions** – Keep `calculate_discount` side‑effect free; let callers decide how to display/round.\n",
            "4. **Separation of concerns** – Keep calculation logic separate from I/O (printing, logging, UI).\n",
            "5. **Testing** – Even simple utilities benefit from unit tests to guard against regressions.\n",
            "6. **Version control & documentation** – Keep the module in a repository with a README and changelog.\n",
            "7. **PEP‑8 / PEP‑20** – Adhere to style guides for readability and maintainability.\n",
            "\n",
            "---\n",
            "\n",
            "### Refactored, production‑ready version\n",
            "\n",
            "```python\n",
            "\"\"\"Utility for computing discounted prices.\"\"\"\n",
            "from __future__ import annotations\n",
            "\n",
            "import logging\n",
            "from typing import Union\n",
            "\n",
            "logging.basicConfig(level=logging.INFO, format=\"%(levelname)s: %(message)s\")\n",
            "__all__ = [\"calculate_discount\"]\n",
            "\n",
            "\n",
            "def calculate_discount(price: Union[int, float], discount_percent: Union[int, float]) -> float:\n",
            "    \"\"\"\n",
            "    Return the final price after applying a percentage discount.\n",
            "\n",
            "    Parameters\n",
            "    ----------\n",
            "    price : float\n",
            "        Original price. Must be non‑negative.\n",
            "    discount_percent : float\n",
            "        Discount to apply, expressed as a percentage (0–100 inclusive).\n",
            "\n",
            "    Returns\n",
            "    -------\n",
            "    float\n",
            "        Final price rounded to two decimal places.\n",
            "\n",
            "    Raises\n",
            "    ------\n",
            "    ValueError\n",
            "        If `price` is negative or `discount_percent` is outside 0–100.\n",
            "\n",
            "    Examples\n",
            "    --------\n",
            "    >>> calculate_discount(120, 20)\n",
            "    96.0\n",
            "    \"\"\"\n",
            "    if price < 0:\n",
            "        raise ValueError(\"price must be non‑negative\")\n",
            "    if not (0 <= discount_percent <= 100):\n",
            "        raise ValueError(\"discount_percent must be between 0 and 100\")\n",
            "\n",
            "    discount = price * discount_percent / 100\n",
            "    final_price = price - discount\n",
            "    return round(final_price, 2)\n",
            "\n",
            "\n",
            "if __name__ == \"__main__\":\n",
            "    # Example usage\n",
            "    price = 100.0\n",
            "    discount = 20.0\n",
            "    final = calculate_discount(price, discount)\n",
            "    logging.info(\"Final price: $%.2f\", final)\n",
            "```\n",
            "\n",
            "This version:\n",
            "\n",
            "* Provides type hints and a comprehensive docstring.\n",
            "* Validates inputs and raises clear errors.\n",
            "* Rounds to two decimal places for typical monetary values.\n",
            "* Uses a main guard and logging, avoiding side‑effects on import.\n",
            "* Is PEP‑8 compliant and ready for unit‑testing or inclusion in a larger codebase.\n"
          ]
        }
      ]
    },
    {
      "cell_type": "markdown",
      "source": [
        "### Security Code Review"
      ],
      "metadata": {
        "id": "1oqtHQSnNMER"
      }
    },
    {
      "cell_type": "code",
      "source": [
        "# Security-focused code review\n",
        "security_prompt = ChatPromptTemplate.from_template(\"\"\"\n",
        "Perform a security analysis of this code:\n",
        "1. Identify security vulnerabilities\n",
        "2. Check for input validation issues\n",
        "3. Look for potential injection attacks\n",
        "4. Suggest security improvements\n",
        "\n",
        "Code: {code}\n",
        "\"\"\")"
      ],
      "metadata": {
        "id": "fPVJGGxJNN3M"
      },
      "execution_count": 77,
      "outputs": []
    },
    {
      "cell_type": "code",
      "source": [
        "security_reviewer = LLMChain(llm=llm, prompt=security_prompt)\n",
        "security_analysis = security_reviewer.run(code=sample_code)\n",
        "print(security_analysis)"
      ],
      "metadata": {
        "colab": {
          "base_uri": "https://localhost:8080/"
        },
        "id": "A2t9dSb9NQTi",
        "outputId": "c18fef16-8c16-446f-893d-51bc70395446"
      },
      "execution_count": 78,
      "outputs": [
        {
          "output_type": "stream",
          "name": "stdout",
          "text": [
            "## Security Analysis of the Provided Code\n",
            "\n",
            "```python\n",
            "def calculate_discount(price, discount_percent):\n",
            "    discount = price * discount_percent / 100\n",
            "    final_price = price - discount\n",
            "    return final_price\n",
            "\n",
            "# Usage\n",
            "price = 100\n",
            "result = calculate_discount(price, 20)\n",
            "print(f\"Final price: ${result}\")\n",
            "```\n",
            "\n",
            "| # | Issue | Why it matters | Severity | Suggested Fix |\n",
            "|---|-------|----------------|----------|---------------|\n",
            "| **1** | **No Input Validation** | The function accepts any `price` and `discount_percent`. If a malicious user supplies a string, list, or other non‑numeric value, a `TypeError` will be raised. In a larger application this could crash the service or expose stack traces. | Low | • Add explicit type checks (`isinstance(price, (int, float))`).<br>• Reject or coerce non‑numeric inputs early. <br>• Use `decimal.Decimal` for monetary values. |\n",
            "| **2** | **Negative or Out‑of‑Range Values** | Negative prices or discounts > 100 % can produce nonsensical results (e.g., a negative final price). If the function is used in an e‑commerce context, this could lead to financial loss or exposure of internal calculations. | Medium | • Validate ranges: `price >= 0`, `0 <= discount_percent <= 100`.<br>• Raise a clear exception (`ValueError`) for out‑of‑range inputs. |\n",
            "| **3** | **Floating‑Point Precision** | Using `float` for money can introduce rounding errors that may be exploited in high‑volume financial systems. | Medium | • Switch to `decimal.Decimal` for monetary calculations. |\n",
            "| **4** | **No Protection Against Denial‑of‑Service (DoS) via Large Numbers** | Extremely large `price` or `discount_percent` values could cause integer overflow or long‑running calculations in other contexts. | Low | • Set an upper bound on `price` (e.g., based on business rules).<br>• Use safe arithmetic libraries if needed. |\n",
            "| **5** | **No Logging / Auditing** | Failure to log the calculation could make it difficult to trace unauthorized or erroneous discounts later. | Low | • Add optional logging of inputs and outputs with proper masking of sensitive data. |\n",
            "| **6** | **No Injection Risks Identified** | The code does not build or execute dynamic code or queries, so classic injection vectors (SQL, OS, etc.) are not present. | N/A | – |\n",
            "| **7** | **No Security Context / Authentication Checks** | If this function is exposed via an API, there is no check that the caller is authorized to apply a discount. | High | • Ensure the function is only invoked from authenticated and authorized contexts. <br>• Wrap the call in an access‑control layer. |\n",
            "\n",
            "### Detailed Recommendations\n",
            "\n",
            "1. **Add Type Hints and Validation**\n",
            "   ```python\n",
            "   from decimal import Decimal, InvalidOperation\n",
            "\n",
            "   def calculate_discount(price: Decimal, discount_percent: Decimal) -> Decimal:\n",
            "       if not isinstance(price, Decimal) or not isinstance(discount_percent, Decimal):\n",
            "           raise TypeError(\"price and discount_percent must be Decimal\")\n",
            "       if price < 0:\n",
            "           raise ValueError(\"price cannot be negative\")\n",
            "       if not (Decimal('0') <= discount_percent <= Decimal('100')):\n",
            "           raise ValueError(\"discount_percent must be between 0 and 100\")\n",
            "       discount = price * discount_percent / Decimal('100')\n",
            "       return price - discount\n",
            "   ```\n",
            "\n",
            "2. **Use Decimal for Monetary Values**\n",
            "   * Prevents floating‑point rounding errors.\n",
            "   * Aligns with standard financial practices.\n",
            "\n",
            "3. **Graceful Error Handling**\n",
            "   * Catch `InvalidOperation` when converting user input to `Decimal`.\n",
            "   * Return user‑friendly error messages or error codes rather than raw tracebacks.\n",
            "\n",
            "4. **Limit Acceptable Ranges**\n",
            "   * Define business‑specific maximum values (e.g., `price <= Decimal('1000000')`) to guard against DoS.\n",
            "\n",
            "5. **Logging and Auditing**\n",
            "   ```python\n",
            "   import logging\n",
            "   logger = logging.getLogger(__name__)\n",
            "\n",
            "   def calculate_discount(...):\n",
            "       ...\n",
            "       logger.debug(\"Calculated discount: %s%% on price %s\", discount_percent, price)\n",
            "   ```\n",
            "   * Ensure logs are rotated and stored securely.\n",
            "\n",
            "6. **Access Control (if exposed via API)**\n",
            "   * Verify that the caller has permission to apply discounts.\n",
            "   * Use role‑based access control (RBAC) or attribute‑based access control (ABAC).\n",
            "\n",
            "7. **Unit Tests & Static Analysis**\n",
            "   * Write tests covering edge cases: negative numbers, > 100 % discounts, large values, non‑numeric inputs.\n",
            "   * Run tools like `bandit`, `mypy`, or `pyright` to detect any hidden issues.\n",
            "\n",
            "8. **Documentation**\n",
            "   * Clearly state the expected types, valid ranges, and error behavior in the function’s docstring.\n",
            "\n",
            "### Sample Refactored Code\n",
            "\n",
            "```python\n",
            "from decimal import Decimal, InvalidOperation\n",
            "import logging\n",
            "\n",
            "logger = logging.getLogger(__name__)\n",
            "\n",
            "def calculate_discount(price: Decimal, discount_percent: Decimal) -> Decimal:\n",
            "    \"\"\"\n",
            "    Calculate the final price after applying a discount.\n",
            "\n",
            "    Parameters\n",
            "    ----------\n",
            "    price : Decimal\n",
            "        The original price. Must be >= 0.\n",
            "    discount_percent : Decimal\n",
            "        Discount percentage to apply. Must be between 0 and 100 inclusive.\n",
            "\n",
            "    Returns\n",
            "    -------\n",
            "    Decimal\n",
            "        The discounted price.\n",
            "\n",
            "    Raises\n",
            "    ------\n",
            "    TypeError\n",
            "        If inputs are not Decimal.\n",
            "    ValueError\n",
            "        If inputs are out of valid range.\n",
            "    \"\"\"\n",
            "    if not isinstance(price, Decimal) or not isinstance(discount_percent, Decimal):\n",
            "        raise TypeError(\"price and discount_percent must be Decimal instances\")\n",
            "\n",
            "    if price < 0:\n",
            "        raise ValueError(\"price cannot be negative\")\n",
            "    if not (Decimal('0') <= discount_percent <= Decimal('100')):\n",
            "        raise ValueError(\"discount_percent must be between 0 and 100\")\n",
            "\n",
            "    discount = price * discount_percent / Decimal('100')\n",
            "    final_price = price - discount\n",
            "\n",
            "    logger.debug(\"Applied %s%% discount to %s: final price %s\", discount_percent, price, final_price)\n",
            "    return final_price\n",
            "\n",
            "# Example usage\n",
            "if __name__ == \"__main__\":\n",
            "    try:\n",
            "        price = Decimal('100.00')\n",
            "        discount = Decimal('20')\n",
            "        result = calculate_discount(price, discount)\n",
            "        print(f\"Final price: ${result}\")\n",
            "    except (TypeError, ValueError, InvalidOperation) as exc:\n",
            "        logger.error(\"Failed to calculate discount: %s\", exc)\n",
            "```\n",
            "\n",
            "### Conclusion\n",
            "\n",
            "The original snippet is functionally simple and free from classic injection attacks. However, for production use—especially in a financial or e‑commerce context—additional safeguards are necessary:\n",
            "\n",
            "* **Validate** types and ranges.\n",
            "* **Use** precise numeric types (`Decimal`).\n",
            "* **Handle** errors gracefully.\n",
            "* **Audit** and **log** operations.\n",
            "* **Enforce** proper authorization if the function is exposed externally.\n",
            "\n",
            "Implementing the above improvements will make the code robust, secure, and maintainable.\n"
          ]
        }
      ]
    },
    {
      "cell_type": "markdown",
      "source": [
        "## Scenario 4: Content Generation Pipeline\n",
        "\n",
        "### Real-World Application: Marketing Content Creation\n",
        "\n",
        "Let's create a pipeline that generates marketing content for different platforms."
      ],
      "metadata": {
        "id": "8hTELVLcNSoM"
      }
    },
    {
      "cell_type": "code",
      "source": [
        "# Content generation for different platforms\n",
        "platforms = {\n",
        "    \"twitter\": \"Create a Twitter post (280 chars max)\",\n",
        "    \"linkedin\": \"Create a LinkedIn professional post\",\n",
        "    \"blog\": \"Create a blog post introduction\"\n",
        "}"
      ],
      "metadata": {
        "id": "KnoOu_X2NUl7"
      },
      "execution_count": 79,
      "outputs": []
    },
    {
      "cell_type": "code",
      "source": [
        "# Base content prompt\n",
        "content_prompt = ChatPromptTemplate.from_template(\"\"\"\n",
        "Create {platform_type} content about: {topic}\n",
        "Target audience: {audience}\n",
        "Tone: {tone}\n",
        "Include relevant hashtags where appropriate.\n",
        "\"\"\")"
      ],
      "metadata": {
        "id": "YlaH2BmQNWrq"
      },
      "execution_count": 80,
      "outputs": []
    },
    {
      "cell_type": "code",
      "source": [
        "content_generator = LLMChain(llm=llm, prompt=content_prompt)"
      ],
      "metadata": {
        "id": "1Q9vqEaBNahe"
      },
      "execution_count": 81,
      "outputs": []
    },
    {
      "cell_type": "code",
      "source": [
        "# Generate content for multiple platforms\n",
        "topic = \"AI in healthcare\"\n",
        "audience = \"healthcare professionals\"\n",
        "tone = \"professional yet engaging\""
      ],
      "metadata": {
        "id": "Xgh9_TRjNcfS"
      },
      "execution_count": 82,
      "outputs": []
    },
    {
      "cell_type": "code",
      "source": [
        "# Generate for different platforms\n",
        "for platform, description in platforms.items():\n",
        "    content = content_generator.run(\n",
        "        platform_type=description,\n",
        "        topic=topic,\n",
        "        audience=audience,\n",
        "        tone=tone\n",
        "    )\n",
        "    print(f\"\\n{platform.upper()} CONTENT:\\n{content}\\n{'-'*50}\")"
      ],
      "metadata": {
        "colab": {
          "base_uri": "https://localhost:8080/"
        },
        "id": "Y8A6cOnhNepr",
        "outputId": "efc7e1f8-0248-4d6a-b945-2f05c1c7b3d5"
      },
      "execution_count": 83,
      "outputs": [
        {
          "output_type": "stream",
          "name": "stdout",
          "text": [
            "\n",
            "TWITTER CONTENT:\n",
            "AI is transforming patient care— from predictive analytics to personalized treatment plans. Embrace evidence‑based AI tools to enhance diagnostics, streamline workflows, and improve outcomes. Let’s innovate responsibly. #AIinHealthcare #HealthTech #MedAI #ClinicalData\n",
            "--------------------------------------------------\n",
            "\n",
            "LINKEDIN CONTENT:\n",
            "**AI in Healthcare: A New Frontier for Patient Care & Clinical Efficiency**  \n",
            "\n",
            "Hello, fellow clinicians, researchers, and health‑tech innovators!  \n",
            "\n",
            "For years we’ve known that data is the new oil, but it’s only when that oil is refined—by algorithms, machine learning models, and AI‑driven decision support—that we can unlock its full potential. From predictive analytics that flag early sepsis to AI‑assisted imaging that shortens diagnostic turnaround, the impact on patient outcomes is already tangible.\n",
            "\n",
            "🔍 **What’s driving the shift?**  \n",
            "- **Big data integration**: Electronic health records, genomics, wearables, and real‑world evidence converge in a single platform.  \n",
            "- **Explainable AI**: Clinicians can trace model logic, fostering trust and regulatory compliance.  \n",
            "- **Personalized care pathways**: AI tailors treatment protocols to individual genomics and comorbidities.  \n",
            "\n",
            "🚀 **Opportunities for us**  \n",
            "1. **Streamline workflows**: Automated triage, clinical documentation, and resource allocation reduce burnout.  \n",
            "2. **Enhance precision medicine**: AI‑guided drug discovery and dosing algorithms boost efficacy.  \n",
            "3. **Improve population health**: Predictive models identify high‑risk cohorts for preventive interventions.  \n",
            "\n",
            "🤝 **Let’s collaborate**  \n",
            "- Share best practices on data governance and model validation.  \n",
            "- Co‑author white papers on ethical AI deployment in hospital settings.  \n",
            "- Join interdisciplinary forums to shape policy and standards.  \n",
            "\n",
            "The next decade will be defined by how quickly we can translate AI research into bedside practice. I’d love to hear how you’re integrating AI in your institution—what successes, challenges, or insights you’ve gained.\n",
            "\n",
            "**#AI #AIinHealthcare #HealthcareInnovation #DigitalHealth #MachineLearning #PatientCare #HealthTech #FutureofHealthcare #MedicalInnovation**\n",
            "--------------------------------------------------\n",
            "\n",
            "BLOG CONTENT:\n",
            "**The Future of Care is Here—Today**\n",
            "\n",
            "Imagine a clinician’s office where a patient’s medical history, imaging studies, and genomic data are instantly synthesized into a precise, personalized treatment plan—no more waiting for second opinions, no more diagnostic uncertainty. That vision is no longer a distant dream; it is the reality unfolding across hospitals, research labs, and community clinics alike.  \n",
            "\n",
            "Artificial intelligence is redefining how we diagnose, treat, and prevent disease. From machine‑learning algorithms that flag subtle radiographic abnormalities to natural‑language models that streamline charting and discharge planning, AI is becoming an indispensable partner in the pursuit of higher quality, more efficient care.  \n",
            "\n",
            "In this series, we’ll explore the transformative impact of AI on clinical workflows, patient outcomes, and health system economics—while also addressing the ethical, regulatory, and data‑security challenges that accompany this rapid evolution. Whether you’re a frontline clinician, a health‑IT strategist, or a policy maker, the insights you gain here will help you navigate the AI‑enhanced landscape of modern medicine.\n",
            "\n",
            "---\n",
            "\n",
            "*Join the conversation—your expertise is essential as we shape the next generation of healthcare.*\n",
            "\n",
            "#AIinHealthcare #HealthTech #DigitalHealth #MedicalAI #HealthcareInnovation #DataPrivacy\n",
            "--------------------------------------------------\n"
          ]
        }
      ]
    },
    {
      "cell_type": "markdown",
      "source": [
        "### Content Optimization Chain"
      ],
      "metadata": {
        "id": "83-EMEzXNjYS"
      }
    },
    {
      "cell_type": "code",
      "source": [
        "# Create content optimization chain\n",
        "optimization_prompt = ChatPromptTemplate.from_template(\"\"\"\n",
        "Optimize this content for better engagement:\n",
        "1. Make it more compelling\n",
        "2. Add emotional hooks\n",
        "3. Include call-to-action\n",
        "4. Improve readability\n",
        "\n",
        "Original content: {content}\n",
        "\"\"\")"
      ],
      "metadata": {
        "id": "2jNBYEeHNlgM"
      },
      "execution_count": 84,
      "outputs": []
    },
    {
      "cell_type": "code",
      "source": [
        "optimizer = LLMChain(llm=llm, prompt=optimization_prompt)\n",
        "sample_content = \"Our new product uses AI to help doctors.\"\n",
        "optimized = optimizer.run(content=sample_content)\n",
        "print(optimized)"
      ],
      "metadata": {
        "colab": {
          "base_uri": "https://localhost:8080/"
        },
        "id": "Ll97EPlMNnhY",
        "outputId": "540162ff-dafe-4f24-e374-3c4de95b2083"
      },
      "execution_count": 85,
      "outputs": [
        {
          "output_type": "stream",
          "name": "stdout",
          "text": [
            "### Meet the Future of Medicine\n",
            "\n",
            "**Imagine a world where every doctor can diagnose faster, treat smarter, and save more lives—**all thanks to our groundbreaking AI platform.  \n",
            "\n",
            "- **Speed up diagnoses** by up to 70%  \n",
            "- **Cut down errors** with real‑time data insights  \n",
            "- **Give patients personalized care** in minutes, not hours  \n",
            "\n",
            "Feel the difference when your team can focus on what matters most: *the patient*.  \n",
            "\n",
            "**Ready to transform your practice?**  \n",
            "👉 **Sign up for a free demo** today and see the impact for yourself.\n",
            "\n",
            "---\n",
            "\n",
            "*Why wait? The future of healthcare is here, and it starts with you.*\n"
          ]
        }
      ]
    },
    {
      "cell_type": "markdown",
      "source": [
        "## Scenario 5: Data Analysis & Insights\n",
        "\n",
        "### Real-World Application: Sales Data Analysis\n",
        "\n",
        "Let's create a system that analyzes sales data and provides business insights."
      ],
      "metadata": {
        "id": "mYp3oVekNpXS"
      }
    },
    {
      "cell_type": "code",
      "source": [
        "# Sample sales data\n",
        "import pandas as pd\n",
        "sales_data = {\n",
        "    'month': ['Jan', 'Feb', 'Mar', 'Apr', 'May'],\n",
        "    'revenue': [50000, 65000, 45000, 70000, 80000],\n",
        "    'customers': [200, 250, 180, 280, 320]\n",
        "}\n",
        "df = pd.DataFrame(sales_data)"
      ],
      "metadata": {
        "id": "4_OnrXoxNrt0"
      },
      "execution_count": 86,
      "outputs": []
    },
    {
      "cell_type": "code",
      "source": [
        "# Convert data to text for analysis\n",
        "data_summary = df.to_string()\n",
        "print(\"Sales Data:\")\n",
        "print(data_summary)"
      ],
      "metadata": {
        "colab": {
          "base_uri": "https://localhost:8080/"
        },
        "id": "8O_d5KznNtor",
        "outputId": "ce4fa190-6a5f-4fa7-d729-4cdf2efb381b"
      },
      "execution_count": 87,
      "outputs": [
        {
          "output_type": "stream",
          "name": "stdout",
          "text": [
            "Sales Data:\n",
            "  month  revenue  customers\n",
            "0   Jan    50000        200\n",
            "1   Feb    65000        250\n",
            "2   Mar    45000        180\n",
            "3   Apr    70000        280\n",
            "4   May    80000        320\n"
          ]
        }
      ]
    },
    {
      "cell_type": "code",
      "source": [
        "# Create data analysis prompt\n",
        "analysis_prompt = ChatPromptTemplate.from_template(\"\"\"\n",
        "Analyze this sales data and provide:\n",
        "1. Key trends and patterns\n",
        "2. Month-over-month growth analysis\n",
        "3. Customer acquisition insights\n",
        "4. Recommendations for improvement\n",
        "5. Predicted next month performance\n",
        "\n",
        "Data:\n",
        "{data}\n",
        "\"\"\")"
      ],
      "metadata": {
        "id": "-0n-2WX3NwM5"
      },
      "execution_count": 88,
      "outputs": []
    },
    {
      "cell_type": "code",
      "source": [
        "data_analyzer = LLMChain(llm=llm, prompt=analysis_prompt)\n",
        "insights = data_analyzer.run(data=data_summary)\n",
        "print(insights)"
      ],
      "metadata": {
        "colab": {
          "base_uri": "https://localhost:8080/"
        },
        "id": "L5tGUzM6NyQT",
        "outputId": "8acd49cf-ba3f-4561-ed00-61234be1f47d"
      },
      "execution_count": 89,
      "outputs": [
        {
          "output_type": "stream",
          "name": "stdout",
          "text": [
            "Below is a quick but thorough look at the first five months of your data.  \n",
            "All calculations are rounded to two decimals unless otherwise noted.\n",
            "\n",
            "| Month | Revenue (USD) | Customers | Rev/Customer | MoM Revenue % | MoM Customers % |\n",
            "|-------|---------------|-----------|--------------|---------------|-----------------|\n",
            "| Jan   | 50,000 | 200 | 250.00 | – | – |\n",
            "| Feb   | 65,000 | 250 | 260.00 | **+30.00 %** | **+25.00 %** |\n",
            "| Mar   | 45,000 | 180 | 250.00 | **‑30.77 %** | **‑28.00 %** |\n",
            "| Apr   | 70,000 | 280 | 250.00 | **+55.56 %** | **+55.56 %** |\n",
            "| May   | 80,000 | 320 | 250.00 | **+14.29 %** | **+14.29 %** |\n",
            "\n",
            "> **Key take‑aways**  \n",
            "> • Revenue and customers move in lock‑step – the revenue per customer is essentially flat (≈ $250) except for the spike in February.  \n",
            "> • The data shows a clear “boom‑bust” cycle: a sharp lift in Feb, a dip in Mar, then a rebound in Apr and a moderate lift in May.  \n",
            "> • The growth rate is volatile: +30 % in Feb, –30.8 % in Mar, +55.6 % in Apr, +14.3 % in May.  \n",
            "\n",
            "### 1. Key trends & patterns\n",
            "| Trend | Observation | Why it matters |\n",
            "|-------|-------------|----------------|\n",
            "| **Revenue ≈ customers × $250** | Consistent unit economics across 5 months | Indicates that pricing and product mix are stable; focus can be on volume. |\n",
            "| **Volatility** | Revenue swings by up to ±55 % MoM | Suggests external drivers (seasonality, promotions, campaign spend) strongly influence sales. |\n",
            "| **Stable unit economics** | Rev/Customer unchanged (except Feb) | New customers are being acquired at roughly the same value as existing ones – good for scaling. |\n",
            "| **Customer churn in March** | 28 % drop in customers | Likely a retention issue or a campaign that didn’t convert. |\n",
            "\n",
            "### 2. Month‑over‑month growth analysis\n",
            "* **Revenue**  \n",
            "  * Avg. MoM change over 4 intervals: (+30 % –30.8 % +55.6 % +14.3 %) / 4 = **+19.6 %**  \n",
            "  * Highest growth in April (+55.6 %); lowest in March (‑30.8 %).\n",
            "\n",
            "* **Customers**  \n",
            "  * Avg. MoM change: (+25 % –28 % +55.6 % +14.3 %) / 4 = **+16.5 %**  \n",
            "  * Same pattern as revenue: big spike in April, drop in March.\n",
            "\n",
            "### 3. Customer acquisition insights\n",
            "| Metric | Jan‑May | Interpretation |\n",
            "|--------|---------|----------------|\n",
            "| Avg. new customers per month | (200+250+180+280+320)/5 = **248** | Healthy acquisition pipeline. |\n",
            "| Avg. revenue per new customer | 250 | Consistency suggests your acquisition channels are delivering similar‑value leads. |\n",
            "| Churn‑like drop in March | −28 % | Possibly a retention issue (e.g., a 30‑day free trial that expired) or a marketing budget cut. |\n",
            "| Conversion rate (customers ÷ leads) | Not provided | If leads data is available, evaluate whether the conversion funnel is stable. |\n",
            "\n",
            "**Take‑away:** Acquisition is working, but retention or seasonal factors are eroding the gains in March.  \n",
            "\n",
            "### 4. Recommendations for improvement\n",
            "| Goal | Action | Expected Impact |\n",
            "|------|--------|-----------------|\n",
            "| **Smooth revenue volatility** | • Run a controlled “stay‑customer” promotion in the week after a dip (e.g., March).<br>• Use predictive analytics to forecast demand and adjust inventory or staffing accordingly. | Reduces the sharp up‑down swings, leading to steadier cash flow. |\n",
            "| **Capitalize on the April‑May momentum** | • Double‑down on the marketing channels that drove the +55 % April lift (e.g., paid search, influencer).<br>• Offer a limited‑time bundle that upsells the $250‑per‑customer value. | Sustains the growth trend and pushes the May lift higher. |\n",
            "| **Mitigate March churn** | • Identify the root cause (product, price, support) through surveys.<br>• Launch a “return‑to‑buy” incentive for March‑new customers. | Keeps the customer base stable and prevents the need for costly replacements. |\n",
            "| **Track unit economics** | • Monitor Rev/Customer monthly and add a KPI dashboard. | Early warning if pricing or cost structure shifts. |\n",
            "| **Predictive planning** | • Build a simple linear regression or ARIMA model for revenue forecasting. | Enables better budgeting and inventory planning. |\n",
            "\n",
            "### 5. Predicted next‑month (June) performance\n",
            "We’ll use two simple forecasting methods and then take a conservative average.\n",
            "\n",
            "| Method | June Revenue | June Customers |\n",
            "|--------|--------------|----------------|\n",
            "| **Linear trend (average month‑to‑month change)** | 80 000 + 7 500 = **87,500** | 320 + 70 = **390** |\n",
            "| **MoM growth (average of Apr & May)** | 80 000 × 1.1429 = **91,432** | 320 × 1.1429 = **366** |\n",
            "| **Conservative mean** | **(87,500 + 91,432)/2 = 89,466** | **(+ 366)/2 = 378** |\n",
            "\n",
            "**Predicted June (rounded)**  \n",
            "*Revenue*: **$89,500**  \n",
            "*Customers*: **378**\n",
            "\n",
            "> **Why this range?**  \n",
            "> * The linear model captures a structural upward trend (≈ $7.5k per month).  \n",
            "> * The MoM growth model reflects recent acceleration (≈ 14 % MoM).  \n",
            "> * Taking the mean balances optimism with caution.\n",
            "\n",
            "---\n",
            "\n",
            "#### Bottom line\n",
            "Your unit economics are solid, but the revenue and customer numbers are highly cyclical. Focus on smoothing out the March dip, protecting the April‑May momentum, and tightening retention. With those levers pulled, the June forecast of roughly **$90k revenue** and **380 customers** is realistic and gives you a clear baseline for the next quarter.\n"
          ]
        }
      ]
    },
    {
      "cell_type": "markdown",
      "source": [
        "### Automated Report Generation"
      ],
      "metadata": {
        "id": "wllXAlLSN0ea"
      }
    },
    {
      "cell_type": "code",
      "source": [
        "# Create executive summary generator\n",
        "report_prompt = ChatPromptTemplate.from_template(\"\"\"\n",
        "Create an executive summary report based on this analysis:\n",
        "{analysis}\n",
        "\n",
        "Format as:\n",
        "- Executive Summary (2-3 sentences)\n",
        "- Key Metrics\n",
        "- Action Items\n",
        "- Risk Assessment\n",
        "\"\"\")"
      ],
      "metadata": {
        "id": "xOpQFdBkN2YL"
      },
      "execution_count": 90,
      "outputs": []
    },
    {
      "cell_type": "code",
      "source": [
        "report_generator = LLMChain(llm=llm, prompt=report_prompt)\n",
        "executive_report = report_generator.run(analysis=insights)\n",
        "print(\"EXECUTIVE REPORT:\")\n",
        "print(executive_report)"
      ],
      "metadata": {
        "colab": {
          "base_uri": "https://localhost:8080/"
        },
        "id": "U-76ZQsfN5jq",
        "outputId": "b6b83f2d-5373-4f6e-d26a-29bbf19771da"
      },
      "execution_count": 91,
      "outputs": [
        {
          "output_type": "stream",
          "name": "stdout",
          "text": [
            "EXECUTIVE REPORT:\n",
            "**Executive Summary**  \n",
            "Your business is delivering strong unit economics (≈ $250 per customer) and a clear upward trajectory in revenue and headcount, but the past five months have been highly volatile—peaks in February and April followed by a sharp dip in March.  By addressing the March churn trigger, tightening retention, and capitalising on the April‑May momentum, you can smooth earnings and push the June forecast to roughly **$90 k** in revenue and **380 customers**.\n",
            "\n",
            "---\n",
            "\n",
            "### Key Metrics (Jan‑May)\n",
            "\n",
            "| Metric | Jan‑May | June Forecast | Trend |\n",
            "|--------|---------|---------------|-------|\n",
            "| Revenue (USD) | 50 k → 80 k | **$89 500** | +19.6 % MoM avg, +14 % MoM last two months |\n",
            "| Customers | 200 → 320 | **378** | +16.5 % MoM avg, +14 % MoM last two months |\n",
            "| Rev/Customer | $250 (stable) | $250 | Unit economics unchanged |\n",
            "| MoM Revenue Volatility | ±30 % to ±55 % | ±10 % (forecast) | Stabilising with new levers |\n",
            "| Customer Churn (Mar) | –28 % | 0 % (target) | Retention focus |\n",
            "\n",
            "---\n",
            "\n",
            "### Action Items\n",
            "\n",
            "| Goal | Action | Expected Impact |\n",
            "|------|--------|-----------------|\n",
            "| **Smooth volatility** | • Launch a “stay‑customer” promotion immediately after a dip (e.g., mid‑March). <br>• Deploy demand‑forecasting to pre‑allocate inventory and staffing. | Reduces 30‑55 % swings → steadier cash flow |\n",
            "| **Capitalize on April‑May lift** | • Double‑down on high‑yield channels (paid search, influencer). <br>• Offer a limited‑time bundle that upsells to the $250‑per‑customer average. | Sustains +14 % MoM growth, pushes June higher |\n",
            "| **Mitigate March churn** | • Conduct a rapid post‑mortemsurveys, churn‑analysis). <br>• Introduce a “return‑to‑buy” incentive for March‑new customers. | Keeps base stable, reduces need for costly replacements |\n",
            "| **Track unit economics** | • Add Rev/Customer to the KPI dashboard with alert thresholds. | Early warning of pricing or cost shifts |\n",
            "| **Forecast accuracy** | • Build a simple ARIMA/linear‑trend model for revenue. <br>• Review model quarterly against actuals. | Better budgeting, inventory and staffing decisions |\n",
            "\n",
            "---\n",
            "\n",
            "### Risk Assessment\n",
            "\n",
            "| Risk | Likelihood | Impact | Mitigation |\n",
            "|------|------------|--------|------------|\n",
            "| **Seasonal or campaign‑driven spikes** | Medium | High | Implement controlled promotions, monitor spend‑to‑revenue ratios |\n",
            "| **Retention slip‑through** | High | Medium | Continuous NPS/CSAT tracking, proactive support for churn‑risk segments |\n",
            "| **Pricing pressure** | Low | High | Keep Rev/Customer constant; monitor competitive pricing |\n",
            "| **Data quality (lead‑to‑customer conversion missing)** | Medium | Medium | Integrate lead data into funnel analytics |\n",
            "| **Forecast over‑optimism** | Medium | Medium | Use conservative averaging of multiple models; adjust quarterly |\n",
            "\n",
            "Focusing on these levers will align revenue stability with growth, ensuring the June forecast remains realistic while building a resilient business model for the next quarter.\n"
          ]
        }
      ]
    },
    {
      "cell_type": "markdown",
      "source": [
        "## Advanced Features\n",
        "\n",
        "### Chain of Thought Reasoning"
      ],
      "metadata": {
        "id": "W6rtjDY7N7di"
      }
    },
    {
      "cell_type": "code",
      "source": [
        "# Complex problem-solving with chain of thought\n",
        "cot_prompt = ChatPromptTemplate.from_template(\"\"\"\n",
        "Solve this business problem step by step:\n",
        "Problem: {problem}\n",
        "\n",
        "Think through this systematically:\n",
        "1. First, identify the key issues\n",
        "2. Then, consider possible solutions\n",
        "3. Finally, recommend the best approach\n",
        "\n",
        "Let's work through this step by step:\n",
        "\"\"\")"
      ],
      "metadata": {
        "id": "XfNlyIvLN-VM"
      },
      "execution_count": 92,
      "outputs": []
    },
    {
      "cell_type": "code",
      "source": [
        "cot_chain = LLMChain(llm=llm, prompt=cot_prompt)\n",
        "problem = \"Our customer acquisition cost has increased 40% while retention dropped 15%\"\n",
        "solution = cot_chain.run(problem=problem)\n",
        "print(solution)"
      ],
      "metadata": {
        "colab": {
          "base_uri": "https://localhost:8080/"
        },
        "id": "y-VH1uZOOAYT",
        "outputId": "278fd4cc-9ce7-48a0-aa82-17124dded882"
      },
      "execution_count": 93,
      "outputs": [
        {
          "output_type": "stream",
          "name": "stdout",
          "text": [
            "## 1️⃣  Identify the Key Issues  \n",
            "\n",
            "| Area | What’s Happening? | Why It Matters |\n",
            "|------|------------------|----------------|\n",
            "| **Customer Acquisition Cost (CAC)** | ↑ 40% in the last 6‑12 months | Higher CAC erodes gross margin, reduces cash‑flow, and limits scalability. |\n",
            "| **Retention** | ↓ 15% (e.g., churn rate is higher, or repeat‑purchase rate lower) | Lost customers mean lost recurring revenue and higher future CAC (you’ll have to reacquire them). |\n",
            "| **Marketing Spend Distribution** | Possibly more spend on high‑cost, low‑conversion channels (e.g., paid search, influencer campaigns) | If cost per lead is high and conversion is low, CAC will climb. |\n",
            "| **Customer Journey** | Longer, more fragmented onboarding; lack of post‑purchase engagement | A friction‑heavy journey increases churn and reduces lifetime value (LTV). |\n",
            "| **Product/Service Fit** | Feedback indicates feature gaps, usability issues, or mis‑aligned pricing | Product issues often lead to both lower sign‑up conversion and higher churn. |\n",
            "| **Competitive Landscape** | New entrants, lower‑price alternatives, or more aggressive marketing tactics | If competitors are offering better value or cheaper acquisition channels, you’re losing ground. |\n",
            "| **Data & Measurement** | Incomplete attribution, siloed analytics, or delayed reporting | Without clear data you can’t pinpoint exact cost drivers or retention pain points. |\n",
            "\n",
            "**Bottom line:** Two interlinked problems: *higher cost to bring in new customers* and *lower willingness/ability of customers to stay.*\n",
            "\n",
            "---\n",
            "\n",
            "## 2️⃣  Consider Possible Solutions  \n",
            "\n",
            "### A. Reduce CAC\n",
            "\n",
            "| Strategy | How it Works | Pros | Cons |\n",
            "|----------|--------------|------|------|\n",
            "| **Shift to Low‑Cost Channels** (SEO, content, organic social, referral) | Build inbound traffic and community; lower per‑click cost | Sustainable long‑term traffic, better lead quality | Requires time to build; may be less immediate |\n",
            "| **Refine Targeting & Segmentation** | Use data to focus on high‑intent segments, retargeting only warm leads | Higher conversion, lower wasted spend | Needs robust data pipeline |\n",
            "| **Optimize Creative & Messaging** | A/B test headlines, CTAs, and offers | Improves click‑through & conversion | Requires testing budget |\n",
            "| **Negotiate Media Deals** | Bulk buys or long‑term contracts with | Lower CPM/CPC | Requires upfront commitment |\n",
            "| **Improve Landing Pages** | Faster load, clearer value proposition, social proof | Higher conversion, lower bounce | Development effort |\n",
            "| **Automate Lead Qualification** | Use predictive scoring, chatbots | Faster handoff to sales, lower wasted effort | Risk of mis‑scoring if model isn’t accurate |\n",
            "| **Leverage Partnerships** | Co‑marketing with complementary brands | Shared audience, lower cost | Alignment & brand fit risk |\n",
            "\n",
            "### B. Increase Retention\n",
            "\n",
            "| Strategy | How it Works | Pros | Cons |\n",
            "|----------|--------------|------|------|\n",
            "| **Onboarding Enhancement** | Structured welcome emails, tutorials, in‑app tours | Reduces early churn, boosts engagement | Requires content creation |\n",
            "| **Personalization & Segmentation** | Tailored offers, dynamic content | Higher relevance, loyalty | Data privacy considerations |\n",
            "| **Loyalty & Rewards Programs** | Points, tiered perks, referral bonuses | Encourages repeat purchases | Program costs, complexity |\n",
            "| **Customer Success & Support** | Proactive outreach, faster response | Improves satisfaction | Requires staffing |\n",
            "| **Product Improvements** | Fix bugs, add requested features, improve UX | Directly addresses churn triggers | Development time |\n",
            "| **Feedback Loops** | Surveys, NPS, in‑app polls | Identifies pain points | Needs consistent follow‑up |\n",
            "| **Pricing & Packaging** | Introduce subscription tiers, bundle offers | Increases LTV, reduces churn | Risk of cannibalizing revenue |\n",
            "| **Community Building** | Forums, user groups, social events | Builds advocacy | Requires moderation |\n",
            "\n",
            "### C. Combine CAC & Retention Improvements\n",
            "\n",
            "| Approach | Why It Works | Key Actions |\n",
            "|----------|--------------|-------------|\n",
            "| **Customer‑Centric Funnel Optimisation** | Align acquisition messaging with actual product value that keeps customers | Map touchpoints, adjust ad copy to match onboarding experience |\n",
            "| **Data‑Driven Attribution** | Understand which channels drive high‑LTV, low‑churn customers | Use UTM, cohort analysis, LTV‑CAC ratio |\n",
            "| **360°** | Consolidate CRM, marketing automation, support, and product analytics | Single source of truth for tailoring offers |\n",
            "| **Integrated Campaigns** | Launch acquisition campaigns that include retention incentives (e.g., “buy now, get 10 % off next month”) | Reinforces value early |\n",
            "\n",
            "---\n",
            "\n",
            "## 3️⃣  Recommend the Best Approach  \n",
            "\n",
            "### **Why a Dual‑Track Strategy?**\n",
            "\n",
            "- **Immediate Impact:** Cutting CAC by shifting to cheaper, high‑quality channels can quickly free up budget.\n",
            "- **Long‑Term Growth:** Retention improvements boost LTV, reduce future CAC, and create brand advocates.\n",
            "- **Synergy:** Optimizing acquisition messaging to match the onboarding experience reduces friction and churn.\n",
            "\n",
            "### **Step‑by‑Step Plan**\n",
            "\n",
            "| Phase | Timeline (Weeks) | Key Actions | KPI Targets |\n",
            "|-------|------------------|-------------|-------------|\n",
            "| **1. Diagnostic** | 1–2 | - Audit current CAC by channel<br>- Cohort analysis on churn & LTV<br>- Customer journey mapping<br>- Survey top 10 churn reasons | Baseline CAC, churn, LTV |\n",
            "| **2. Quick Wins** | 3–4 | - A/B test landing page copy<br>- Implement lead‑scoring rule to filter low‑intent leads<br>- Launch a “welcome” email series | CAC drop 5‑10%, churn drop 2% |\n",
            "| **3. Channel Shift** | 5–8 | - Reduce spend on high‑cost paid search<br>- Increase investment in SEO, content, and referral program<br>- Negotiate bulk rates with social platforms | CAC drop 15% by week 8 |\n",
            "| **4. Onboarding Revamp** | 9–12 | - Build interactive in‑app tour<br>- Add product tutorial videos<br>- Deploy post‑purchase “next steps” email | Churn drop 5% in first 30 days |\n",
            "| **5. Loyalty Program** | 13–16 | - Design tiered rewards (e.g., points per spend, referral bonuses)<br>- Launch pilot with 10% of customers | Retention rate increase 5% |\n",
            "| **6. Data & Attribution** | 17–20 | - Deploy unified analytics stack (GA4 + CRM + product analytics)<br>- Calculate LTV‑CAC ratio, identify high‑value channels | LTV‑CAC > 3:1 |\n",
            "| **7. Scale & Optimize** | 21+ | - Iterate on channel mix based on attribution<br>- Expand loyalty tiers based on engagement<br>- Regularly review churn feedback | CAC stabilized, churn < current level |\n",
            "\n",
            "### **Recommended Roadmap**\n",
            "\n",
            "1. **Start with Data:** Without clean attribution you can’t know which channels are truly cost‑effective. Build a single‑source analytics dashboard now.\n",
            "2. **Target Low‑Cost, High‑Quality Acquisition:** Move budget to organic SEO, content marketing, and a referral program. These channels deliver better lead quality and lower CAC.\n",
            "3. **Re‑Engineer the Onboarding Funnel:** A frictionless, value‑driven onboarding reduces early churn more efficiently than any price discount.\n",
            "4. **Introduce a Loyalty & Referral Engine:** Turn existing customers into brand advocates, which both drives new CAC (through referrals) and raises LTV.\n",
            "5. **Iterate Rapidly:** Use A/B testing on messaging, offers, and pricing tiers to continuously improve both acquisition and retention.\n",
            "\n",
            "---\n",
            "\n",
            "## 📌 Quick Takeaway\n",
            "\n",
            "- **Root Problems:** Rising CAC due to inefficient acquisition, and falling retention from a friction‑heavy journey and possible product gaps.\n",
            "- **Solution Mix:** Shift to low‑cost, high‑quality channels; streamline acquisition messaging; revamp onboarding; launch loyalty/referral programs; build unified attribution.\n",
            "- **Execution Plan:** A phased 20‑week roadmap that starts with data clean‑up, then quickly reduces CAC, followed by retention‑driven product and program improvements, and finishes with continuous optimisation.\n",
            "\n",
            "Implementing this dual‑track approach will help you **bring in customers cheaper** and **keep them longer**, turning the 40 % CAC rise and 15 % retention drop into a sustainable growth engine.\n"
          ]
        }
      ]
    },
    {
      "cell_type": "markdown",
      "source": [
        "### Multi-Agent Workflow"
      ],
      "metadata": {
        "id": "nn5sHF7YOC5h"
      }
    },
    {
      "cell_type": "code",
      "source": [
        "# Create different \"expert\" agents\n",
        "experts = {\n",
        "    \"marketing\": \"You are a marketing expert focused on customer acquisition and brand strategy.\",\n",
        "    \"finance\": \"You are a finance expert focused on cost optimization and revenue growth.\",\n",
        "    \"operations\": \"You are an operations expert focused on efficiency and process improvement.\"\n",
        "}"
      ],
      "metadata": {
        "id": "pJtN0gqHOFIP"
      },
      "execution_count": 94,
      "outputs": []
    },
    {
      "cell_type": "code",
      "source": [
        "# Get insights from different experts\n",
        "def get_expert_opinion(expert_type, question):\n",
        "    expert_prompt = ChatPromptTemplate.from_template(f\"\"\"\n",
        "    {experts[expert_type]}\n",
        "\n",
        "    Question: {{question}}\n",
        "\n",
        "    Provide your expert opinion and specific recommendations:\n",
        "    \"\"\")\n",
        "    expert_chain = LLMChain(llm=llm, prompt=expert_prompt)\n",
        "    return expert_chain.run(question=question)"
      ],
      "metadata": {
        "id": "4h4qK6kHOG9L"
      },
      "execution_count": 95,
      "outputs": []
    },
    {
      "cell_type": "code",
      "source": [
        "# Consult multiple experts\n",
        "business_question = \"How should we respond to a 20% increase in customer churn?\"\n",
        "for expert in experts.keys():\n",
        "    opinion = get_expert_opinion(expert, business_question)\n",
        "    print(f\"\\n{expert.upper()} EXPERT OPINION:\")\n",
        "    print(opinion)\n",
        "    print(\"-\" * 60)"
      ],
      "metadata": {
        "colab": {
          "base_uri": "https://localhost:8080/"
        },
        "id": "yWm0kYXoOJp6",
        "outputId": "39c4a78e-7303-4256-b433-d195c0f9319b"
      },
      "execution_count": 96,
      "outputs": [
        {
          "output_type": "stream",
          "name": "stdout",
          "text": [
            "\n",
            "MARKETING EXPERT OPINION:\n",
            "**Executive Summary**\n",
            "\n",
            "A 20 % jump in churn isn’t just a numbers‑issue; it’s a red flag that something deeper is shifting in the customer journey, the competitive landscape, or the brand promise. To flip the trend from “churn‑driven losses” to “churn‑as‑growth opportunity,” you need a two‑pronged strategy:\n",
            "\n",
            "| # | Focus Area | What to Do | KPI to Track |\n",
            "|---|------------|------------|--------------|\n",
            "| 1 | Diagnostic | Deep churn audit & segmentation | % churn by segment |\n",
            "| 2 | Retention | Predictive re‑engagement & loyalty | Retention rate, LTV |\n",
            "| 3 | Product | Feature gap analysis | Feature adoption |\n",
            "| 4 | Brand | Trust & differentiation | Brand equity, NPS |\n",
            "| 5 | Acquisition | Re‑balance CAC vs LTV | CAC, ROAS, LTV |\n",
            "\n",
            "Below is a step‑by‑step playbook you can roll out within 90 days, with measurable milestones.\n",
            "\n",
            "---\n",
            "\n",
            "## 1️⃣ Diagnose the Root Causes\n",
            "\n",
            "### 1.1. Churn Audit\n",
            "- **Collect & Clean Data**: Pull churned accounts from the last 12 months. Include user demographics, product usage, support tickets, payment history, and engagement metrics.\n",
            "- **Segment**: Cluster churned customers by:\n",
            "  - *Cohort*: signup year\n",
            "  - *Product tier*: free, basic, premium\n",
            "  - *Behavior*: active vs. dormant\n",
            "  - *Geography & channel* (e.g., paid search, organic, partner)\n",
            "\n",
            "### 1.2. Qualitative Insights\n",
            "- **Exit Interviews**: Send a short survey to 200 churned customers. Ask:\n",
            "  - “What made you leave?” (multiple choice + free text)\n",
            "  - “What would keep you?”\n",
            "  - “How would you rate our brand trust?”\n",
            "- **Social Listening**: Monitor brand mentions for churn signals (e.g., “not worth the price”).\n",
            "\n",
            "### 1.3. Competitive Scan\n",
            "- Map out the top 3–5 churned customers’ new providers.\n",
            "- Identify pricing, feature, or service gaps.\n",
            "\n",
            "**Deliverable**: A “Churn Heatmap” that visualizes pain points by segment.\n",
            "\n",
            "---\n",
            "\n",
            "## 2️⃣ Build a Predictive Retention Engine\n",
            "\n",
            "### 2.1. Predictive Model\n",
            "- Use the churn audit data to train a logistic regression / random forest model that flags high‑risk customers (top 20 % at risk).\n",
            "- Feature set: last 30‑day usage, ticket volume, payment plan changes, NPS, etc.\n",
            "\n",
            "### 2.2. Automated Workflows\n",
            "- **Trigger**: When risk score > threshold.\n",
            "- **Actions**:\n",
            "  - Send personalized “We’re listening” email with a 1‑on‑1 chat link.\n",
            "  - Offer a limited‑time discount or upgraded feature trial.\n",
            "  - Route to account manager if churn risk > 80 %.\n",
            "\n",
            "### 2.3. Continuous Learning\n",
            "- Re‑train the model monthly.\n",
            "- Add new variables like “campaign sentiment score”.\n",
            "\n",
            "**KPIs**: Reduction in churn of flagged segment; email open/click rates.\n",
            "\n",
            "---\n",
            "\n",
            "## 3️⃣ Strengthen Product & Service Experience\n",
            "\n",
            "### 3.1. Feature Gap Closure\n",
            "- Rank features requested in exit surveys by impact & feasibility.\n",
            "- Launch a “Feature Sprint” for the top 3.\n",
            "\n",
            "### 3.2. Onboarding & Education\n",
            "- Introduce a 7‑day “Getting Started” video series for new users.\n",
            "- Embed tooltips that surface advanced features contextually.\n",
            "\n",
            "### 3.3. Support Excellence\n",
            "- Implement a **“Customer Happiness Score”** (CHS) in support tickets.\n",
            "- Reduce average resolution time by 30 % with a knowledge‑base enhancement.\n",
            "\n",
            "---\n",
            "\n",
            "## 4️⃣ Brand Re‑Position & Trust Building\n",
            "\n",
            "### 4.1. Trust Signals\n",
            "- Add a **“Trusted by”** section on the pricing page with real, verifiable logos.\n",
            "- Publish quarterly “Customer Success Stories” featuring ROI metrics.\n",
            "\n",
            "### 4.2. Transparency & Communication\n",
            "- Create a “Churn & Feedback Report” (publicly share insights & actions).\n",
            "- Launch a “Community Forum” where customers can propose features and vote.\n",
            "\n",
            "### 4.3. Brand Equity Boost\n",
            "- Align messaging: “We’re here for the long haul” + “Your success, our mission”.\n",
            "- Refresh visual identity to convey stability & growth.\n",
            "\n",
            "**KPI**: Net Promoter Score (NPS) trend; brand trust index.\n",
            "\n",
            "---\n",
            "\n",
            "## 5️⃣ Re‑Balance Acquisition vs. Retention Economics\n",
            "\n",
            "### 5.1. CAC vs. LTV\n",
            "- Calculate LTV for each segment.\n",
            "- If churn‑heavy segments have LTV < CAC, pause acquisition for them. Redirect spend to high‑LTV segments.\n",
            "\n",
            "### 5.2. Retention‑First Offers\n",
            "- Offer a “Lifetime Discount” for customers who commit to 3‑year contracts.\n",
            "- Provide “Referral Bonuses” that reward existing customers for bringing in new ones, thereby increasing LTV.\n",
            "\n",
            "### 5.3. Marketing Attribution\n",
            "- Use multi‑touch attribution to see which channels drive *low‑churn* customers.\n",
            "- Increase budget on those channels.\n",
            "\n",
            "**KPI**: CAC recovery period; ROAS per segment.\n",
            "\n",
            "---\n",
            "\n",
            "## Implementation Timeline (90 Days)\n",
            "\n",
            "| Week | Milestone | Owner | Status |\n",
            "|------|-----------|-------|--------|\n",
            "| 1–2 | Full churn audit & segmentation | Data Team | ☐ |\n",
            "| 3 | Exit survey rollout | CX Team | ☐ |\n",
            "| 4 | Competitor pricing audit | Market Research | ☐ |\n",
            "| 5–6 | Build predictive churn model | Analytics | ☐ |\n",
            "| 7–8 | Launch automated re‑engagement workflow | Marketing Ops | ☐ |\n",
            "| 9–10 | Prioritize top 3 product features | Product | ☐ |\n",
            "| 11 | Onboarding video series live | Content | ☐ |\n",
            "| 12 | Community forum launch | Community Manager | ☐ |\n",
            "| 13 | First “Customer Success Story” published | PR | ☐ |\n",
            "| 14 | Budget re‑allocation (CAC vs LTV) | Finance | ☐ |\n",
            "| 15 | KPI dashboard live | BI | ☐ |\n",
            "| 16 | Review & iterate | All | ☐ |\n",
            "\n",
            "---\n",
            "\n",
            "## Quick Wins (Next 30 Days)\n",
            "\n",
            "1. **Send a “We value you” email** to all churned customers with a 15 % discount on renewal.  \n",
            "2. **Add a “Live Demo” button** to the pricing page to reduce friction for hesitant prospects.  \n",
            "3. **Update pricing page** with a trust badge (“Verified by X industry analysts”).  \n",
            "4. **Run a 48‑hr “Refer a Friend” promotion** that gives both parties 1 month free.\n",
            "\n",
            "---\n",
            "\n",
            "## Final Thought\n",
            "\n",
            "A 20 % churn spike is a call to *diagnose, act, and iterate*. By flipping churn from a cost center into a data source, you can refine your acquisition strategy, strengthen brand trust, and build a product ecosystem that keeps customers around for the long haul. Treat every churned customer as a feedback loop, and you’ll not only stop the bleed but also uncover new growth levers.\n",
            "------------------------------------------------------------\n",
            "\n",
            "FINANCE EXPERT OPINION:\n",
            "**Executive Summary**\n",
            "\n",
            "A 20 % jump in churn is a red‑flag that threatens both top‑line growth and bottom‑line profitability.  The most effective response blends *cost‑optimization* (by reducing the cost of serving customers) with *revenue‑growth* (by turning churned or at‑risk customers into higher‑value, loyal accounts).  Below is a structured, data‑driven playbook that covers immediate actions, medium‑term strategy, and long‑term safeguards.\n",
            "\n",
            "---\n",
            "\n",
            "## 1. Diagnose the Problem\n",
            "\n",
            "| Step | Action | Why It Matters |\n",
            "|------|--------|----------------|\n",
            "| **1.1** | **Segment churned accounts** (by plan, geography, usage, industry, customer journey stage) | Different drivers require different tactics. |\n",
            "| **1.2** | **Quantify financial impact** – calculate lost LTV, projected revenue loss, and cost of retaining vs. acquiring | Prioritise where a dollar‑for‑dollar investment gives the highest ROI. |\n",
            "| **1.3** | **Root‑cause analysis** – surveys, NPS, CSAT, usage analytics, support ticket trends | Distinguish between product pain, pricing, competition, or customer lifecycle issues. |\n",
            "| **1.4** | **Update predictive churn model** – incorporate new data points (e.g., churn spikes, support volume) | Enables proactive targeting of at‑risk customers. |\n",
            "\n",
            "> **Key metric to monitor:** *Gross revenue churn rate* (current vs. forecasted).  \n",
            "> **Target:** Bring the rate back to the pre‑spike level within 3 months.\n",
            "\n",
            "---\n",
            "\n",
            "## 2. Immediate, Cost‑Efficient Tactics (Week 1–4)\n",
            "\n",
            "| Initiative | Cost | Expected Impact | Implementation Notes |\n",
            "|------------|------|-----------------|-----------------------|\n",
            "| **A. Win‑Back Campaign** | < $10 k (email + small discount) | 10–15 % of churned accounts re‑engage | Target accounts that churned < 30 days ago; offer a “return‑back” discount or bonus feature. |\n",
            "| **B. Customer Success “Check‑In” Blitz** | $20–30 k (dedicated CS reps) | 5–10 % churn reduction; improved LTV | 10‑minute proactive calls for high‑value customers. |\n",
            "| **C. Quick Fix Pain Points** | Variable (product bug fixes) | 2–5 % churn reduction if pain points are severe | Prioritise fixes that affect > 15 % of users. |\n",
            "| **D. Revise Pricing Tiers** | < $5 k (market research) | Align price to perceived value; reduce “price‑sensitive” churn | Introduce a mid‑tier or “pay‑per‑use” option. |\n",
            "\n",
            "> **Note:** Keep the total spend < $100 k for the first month.  Track CAC‑payback for each initiative.\n",
            "\n",
            "---\n",
            "\n",
            "## 3. Medium‑Term Growth & Retention Strategy (Month 2–6)\n",
            "\n",
            "| Initiative | Cost | ROI Driver | Execution |\n",
            "|------------|------|------------|-----------|\n",
            "| **1. Retention Engine** |\n",
            "------------------------------------------------------------\n",
            "\n",
            "OPERATIONS EXPERT OPINION:\n",
            "**Executive Summary**\n",
            "\n",
            "A 20 % jump in churn is a red‑flag that the customer‑experience loop is breaking somewhere.  \n",
            "Rather than reacting in isolation, treat churn as a *process‑efficiency KPI* that can be measured, improved, and sustained through operational rigor.  \n",
            "Below is a practical, phased roadmap that blends data‑driven diagnostics, cross‑functional ownership, and continuous‑improvement loops.\n",
            "\n",
            "---\n",
            "\n",
            "## 1. Diagnose the “Why”\n",
            "\n",
            "| Step | What to Do | Tool/Trigger | Owner |\n",
            "|------|------------|--------------|-------|\n",
            "| **Collect & clean churn data** | Pull churn logs from CRM, billing, product usage, support tickets, and survey data. | SQL, ETL pipeline | Ops/Data Engineering |\n",
            "| **Segment churners** | Cluster by tenure, product tier, geography, usage patterns, and channel. | R/Python, clustering algorithms | Data Science |\n",
            "| **Map the customer journey** | Identify friction points (signup, onboarding, feature discovery, renewal). | Journey mapping canvas | CX Lead |\n",
            "| **Root‑cause analysis** | Use Fishbone / 5‑Whys to surface product, pricing, support, or marketing issues. | Workshop | Ops Lead + Stakeholders |\n",
            "| **Quantify impact** | Calculate churn‑related revenue loss, CAC % of churned cohort, and lifetime value decline. | Financial modeling | Finance Ops |\n",
            "\n",
            "> **Key Insight:** If 70 % of churners are in tier‑2 and churn within 90 days, the issue is *early‑stage friction*; if churn is spread across all tiers and occurs at renewal, it’s likely *value perception* or pricing.\n",
            "\n",
            "---\n",
            "\n",
            "## 2. Immediate (0‑30 days) Actions – “Quick Wins”\n",
            "\n",
            "| Action | Rationale | KPI to Track |\n",
            "|--------|-----------|--------------|\n",
            "| **Launch a churn alert dashboard** | Real‑time visibility for Ops & Support. | % of churn alerts resolved within 24 h |\n",
            "| **Implement “Win‑Back” outreach** | Automated email or phone outreach to churned accounts with a limited‑time incentive. | Win‑back rate, revenue recovered |\n",
            "| **Enhance onboarding** | Deploy a 3‑step onboarding flow with in‑app guidance and a “quick‑start” checklist. | Completion rate, NPS in first 30 days |\n",
            "| **Boost support response SLA** | Reduce average resolution time. | Avg. handle time, CSAT |\n",
            "| **Offer “Retention” discount for renewal** | Immediate cost incentive. | Renewal rate among at‑risk accounts |\n",
            "\n",
            "> **Why?** These actions address obvious friction points and create a data‑driven loop that feeds into longer‑term fixes.\n",
            "\n",
            "---\n",
            "\n",
            "## 3. Medium‑Term (30‑90 days) – Process & Product Refinement\n",
            "\n",
            "| Initiative | Detail | Owner | Timeline |\n",
            "|------------|--------|-------|----------|\n",
            "| **‘Churn‑Ready’ product audit** | Iterate on features that churners rarely use; create a “feature fatigue” score. | Product Ops | 60 days |\n",
            "| **Customer Health Score (CHS)** | Build a composite metric (usage, support tickets, NPS, renewal intent). | Data & CX | 45 days |\n",
            "| **Cross‑functional Retention Task Force** | Monthly cadence of Ops, Product, Marketing, Sales, Finance. | Ops Lead | Ongoing |\n",
            "| **Predictive churn model** | Train a supervised ML model (e.g., XGBoost) to flag high‑risk accounts 30 days before renewal. | Data Science | 60 days |\n",
            "| **Personalized “Success Plans”** | For high‑value accounts, assign a Customer Success Manager and quarterly business reviews. | CS Ops | 90 days |\n",
            "| **Pricing & packaging review** | Benchmark against competitors, evaluate tier‑shifts. | Pricing Ops | 90 days |\n",
            "\n",
            "> **Why?** These steps embed churn mitigation into everyday operations, reduce manual firefighting, and align product evolution with real‑world usage.\n",
            "\n",
            "---\n",
            "\n",
            "## 4. Long‑Term (90 days +) – Cultural & Continuous‑Improvement\n",
            "\n",
            "| Pillar | Actions | Success Metric |\n",
            "|--------|---------|----------------|\n",
            "| **Operational Excellence** | Adopt Lean 5S in the customer‑support workflow; run Kaizen events every quarter. | Cycle time reduction, defect rate |\n",
            "| **Feedback Loop** | Deploy a “Voice‑of‑Customer” portal that aggregates CSAT, NPS, and pulse surveys. | Survey response rate, trend in CSAT |\n",
            "| **Retention as KPI** | Include churn rate, retention rate, and CHS in the Ops dashboard; reward teams on improvement. | Year‑over‑year churn reduction |\n",
            "| **Automation** | Automate recurring retention tasks (renewal reminders, health score triggers). | % automated tasks |\n",
            "| **Training & Enablement** | Quarterly workshops on empathy, product knowledge, and proactive outreach for support & sales. | Training completion rate, CSAT |\n",
            "\n",
            "> **Why?** By embedding churn reduction into the culture and metrics, you turn a reactive crisis into a proactive advantage.\n",
            "\n",
            "---\n",
            "\n",
            "## 5. Measurement & Governance\n",
            "\n",
            "| Metric | Target | Frequency | Owner |\n",
            "|--------|--------|-----------|-------|\n",
            "| **Churn Rate** | < 5 % YoY | Monthly | Ops Lead |\n",
            "| **Net Revenue Retention (NRR)** | > 110 % | Quarterly | Finance Ops |\n",
            "| **Customer Health Score** | 90 % of high‑tier accounts > 80 | Monthly | CX Lead |\n",
            "| **Churn Prediction Accuracy** | > 80 % precision | Quarterly | Data Science |\n",
            "| **Time to Resolution (TTR)** | < 4 h | Monthly | Support Ops |\n",
            "| **Win‑Back Success** | 15 % of churned accounts re‑acquired | Quarterly | CS Ops |\n",
            "\n",
            "> **Governance Checklist**  \n",
            "> - **Weekly Ops Review** – status on dashboards, blockers.  \n",
            "> - **Monthly Retention Town‑Hall** – share wins, lessons, next steps.  \n",
            "> - **Quarterly Deep‑Dive** – root‑cause re‑analysis, model retraining.\n",
            "\n",
            "---\n",
            "\n",
            "## 6. Quick‑Start Checklist (Day 1)\n",
            "\n",
            "1. **Set up a churn dashboard** (PowerBI/Tableau + live data).\n",
            "2. **Activate churn‑alert emails** to CS and Ops.\n",
            "3. **Roll out a 3‑step onboarding flow** (if not already in place).\n",
            "4. **Send first “win‑back” email** to churned accounts (tailored to churn reason).\n",
            "5. **Kick‑off the Retention Task Force** – schedule first meeting.\n",
            "\n",
            "---\n",
            "\n",
            "### Bottom Line\n",
            "\n",
            "A 20 % churn spike isn’t just a marketing or product failure; it’s a signal that the entire *operational chain*—from acquisition to renewal—is misaligned.  \n",
            "By treating churn as a measurable, process‑driven KPI, you can:\n",
            "\n",
            "1. **Diagnose** with data, not intuition.  \n",
            "2. **Act** with quick‑wins that immediately reduce churn.  \n",
            "3. **Iterate** through continuous improvement cycles.  \n",
            "4. **Embed** retention into culture, metrics, and incentives.  \n",
            "\n",
            "With this framework, you’ll transition from firefighting to proactive churn prevention—turning a 20 % spike into a 5 % or lower, sustainable churn rate that supports healthy growth.\n",
            "------------------------------------------------------------\n"
          ]
        }
      ]
    },
    {
      "cell_type": "markdown",
      "source": [
        "### Error Handling and Validation\n"
      ],
      "metadata": {
        "id": "D1BSq2W5OMMb"
      }
    },
    {
      "cell_type": "code",
      "source": [
        "def safe_llm_call(chain, **kwargs):\n",
        "    try:\n",
        "        result = chain.run(**kwargs)\n",
        "        return {\"success\": True, \"result\": result}\n",
        "    except Exception as e:\n",
        "        return {\"success\": False, \"error\": str(e)}"
      ],
      "metadata": {
        "id": "Z-zjs97xOLda"
      },
      "execution_count": 97,
      "outputs": []
    },
    {
      "cell_type": "code",
      "source": [
        "# Example with error handling\n",
        "safe_result = safe_llm_call(content_generator,\n",
        "                          platform_type=\"Twitter post\",\n",
        "                          topic=\"Machine Learning\",\n",
        "                          audience=\"developers\",\n",
        "                          tone=\"technical\")\n",
        "print(safe_result)"
      ],
      "metadata": {
        "colab": {
          "base_uri": "https://localhost:8080/"
        },
        "id": "ieBSAP-bOQX9",
        "outputId": "a66499b2-2151-4419-dd6e-4023c852843c"
      },
      "execution_count": 98,
      "outputs": [
        {
          "output_type": "stream",
          "name": "stdout",
          "text": [
            "{'success': True, 'result': '🚀 Building ML models? Start with reproducible pipelines:  \\n- Use Docker + GitHub Actions for CI/CD  \\n- TensorFlow/PyTorch + JAX for GPU‑accelerated training  \\n- MLflow or DVC for experiment tracking  \\n- Deploy with FastAPI + Kubernetes  \\n\\nKeep your code modular, version‑controlled, and test‑first.  \\n#MachineLearning #ML #DeepLearning #AI #Python #TensorFlow #PyTorch #JAX #MLOps #DevOps #DataScience 🚀'}\n"
          ]
        }
      ]
    },
    {
      "cell_type": "markdown",
      "source": [
        "## Best Practices & Tips\n",
        "\n",
        "### 1. Prompt Engineering Tips\n",
        "- Be specific and clear in your instructions\n",
        "- Use examples when possible\n",
        "- Break complex tasks into smaller steps\n",
        "- Include context and constraints\n",
        "\n",
        "### 2. Performance Optimization\n",
        "- Use appropriate chunk sizes for document processing\n",
        "- Implement caching for repeated queries\n",
        "- Monitor token usage to control costs\n",
        "- Use streaming for real-time applications\n",
        "\n",
        "### 3. Error Handling\n",
        "- Always implement try-catch blocks\n",
        "- Validate inputs before processing\n",
        "- Have fallback responses ready\n",
        "- Log errors for debugging\n",
        "\n",
        "### 4. Security Considerations\n",
        "- Never expose API keys in code\n",
        "- Validate and sanitize user inputs\n",
        "- Implement rate limiting\n",
        "- Use environment variables for sensitive data"
      ],
      "metadata": {
        "id": "6y_SLq7uOT5m"
      }
    }
  ]
}