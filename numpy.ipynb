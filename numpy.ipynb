{
  "nbformat": 4,
  "nbformat_minor": 0,
  "metadata": {
    "colab": {
      "provenance": []
    },
    "kernelspec": {
      "name": "python3",
      "display_name": "Python 3"
    },
    "language_info": {
      "name": "python"
    }
  },
  "cells": [
    {
      "cell_type": "code",
      "execution_count": 1,
      "metadata": {
        "id": "yLQp5cCWLKhb"
      },
      "outputs": [],
      "source": [
        "import  numpy as np"
      ]
    },
    {
      "cell_type": "markdown",
      "source": [
        "Uniform and Normal Distribution"
      ],
      "metadata": {
        "id": "RDvC5yMpMHLj"
      }
    },
    {
      "cell_type": "code",
      "source": [
        "d1=np.random.rand(4)\n",
        "print(d1)"
      ],
      "metadata": {
        "colab": {
          "base_uri": "https://localhost:8080/"
        },
        "id": "IEPzjR1CMPms",
        "outputId": "0b5b4cc8-0b4c-4463-b88b-bda0aaf0d1e9"
      },
      "execution_count": null,
      "outputs": [
        {
          "output_type": "stream",
          "name": "stdout",
          "text": [
            "[0.85102217 0.14431423 0.76513668 0.44042169]\n"
          ]
        }
      ]
    },
    {
      "cell_type": "code",
      "source": [
        "d2=np.random.rand(4,3)\n",
        "print(d2)"
      ],
      "metadata": {
        "colab": {
          "base_uri": "https://localhost:8080/"
        },
        "id": "vif05qwoNlG3",
        "outputId": "0b6672c4-52e0-475e-d26e-422b068377d5"
      },
      "execution_count": null,
      "outputs": [
        {
          "output_type": "stream",
          "name": "stdout",
          "text": [
            "[[0.29568379 0.95178816 0.79929786]\n",
            " [0.83139102 0.53124953 0.36407219]\n",
            " [0.68518184 0.00606947 0.80079483]\n",
            " [0.77278205 0.4663571  0.60837053]]\n"
          ]
        }
      ]
    },
    {
      "cell_type": "code",
      "source": [
        "d3=np.random.randint(1,100,3)\n",
        "print(d3)"
      ],
      "metadata": {
        "colab": {
          "base_uri": "https://localhost:8080/"
        },
        "id": "lXOcentaPGKE",
        "outputId": "59ff8a40-0978-40c2-ae3f-1e3d28a4cc16"
      },
      "execution_count": null,
      "outputs": [
        {
          "output_type": "stream",
          "name": "stdout",
          "text": [
            "[23 25 91]\n"
          ]
        }
      ]
    },
    {
      "cell_type": "code",
      "source": [
        "print(d2.max())\n",
        "print(d2.min())\n"
      ],
      "metadata": {
        "colab": {
          "base_uri": "https://localhost:8080/"
        },
        "id": "3WsH12SzP65s",
        "outputId": "82dc9e37-9d0a-4d6b-97a2-318285e3afea"
      },
      "execution_count": null,
      "outputs": [
        {
          "output_type": "stream",
          "name": "stdout",
          "text": [
            "0.9517881622161882\n",
            "0.006069473106710799\n"
          ]
        }
      ]
    }
  ]
}